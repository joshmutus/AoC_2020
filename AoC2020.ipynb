{
  "nbformat": 4,
  "nbformat_minor": 0,
  "metadata": {
    "colab": {
      "name": "AoC2020.ipynb",
      "provenance": [],
      "collapsed_sections": [],
      "authorship_tag": "ABX9TyPtJ08XPQ8bOe02xT/1bliR",
      "include_colab_link": true
    },
    "kernelspec": {
      "name": "python3",
      "display_name": "Python 3"
    }
  },
  "cells": [
    {
      "cell_type": "markdown",
      "metadata": {
        "id": "view-in-github",
        "colab_type": "text"
      },
      "source": [
        "<a href=\"https://colab.research.google.com/github/joshmutus/AoC_2020/blob/main/AoC2020.ipynb\" target=\"_parent\"><img src=\"https://colab.research.google.com/assets/colab-badge.svg\" alt=\"Open In Colab\"/></a>"
      ]
    },
    {
      "cell_type": "markdown",
      "metadata": {
        "id": "eqsnZ4e65W5Z"
      },
      "source": [
        "DAY 1\n",
        "Two number sum to 2020, mutliply them together\n"
      ]
    },
    {
      "cell_type": "code",
      "metadata": {
        "colab": {
          "resources": {
            "http://localhost:8080/nbextensions/google.colab/files.js": {
              "data": "Ly8gQ29weXJpZ2h0IDIwMTcgR29vZ2xlIExMQwovLwovLyBMaWNlbnNlZCB1bmRlciB0aGUgQXBhY2hlIExpY2Vuc2UsIFZlcnNpb24gMi4wICh0aGUgIkxpY2Vuc2UiKTsKLy8geW91IG1heSBub3QgdXNlIHRoaXMgZmlsZSBleGNlcHQgaW4gY29tcGxpYW5jZSB3aXRoIHRoZSBMaWNlbnNlLgovLyBZb3UgbWF5IG9idGFpbiBhIGNvcHkgb2YgdGhlIExpY2Vuc2UgYXQKLy8KLy8gICAgICBodHRwOi8vd3d3LmFwYWNoZS5vcmcvbGljZW5zZXMvTElDRU5TRS0yLjAKLy8KLy8gVW5sZXNzIHJlcXVpcmVkIGJ5IGFwcGxpY2FibGUgbGF3IG9yIGFncmVlZCB0byBpbiB3cml0aW5nLCBzb2Z0d2FyZQovLyBkaXN0cmlidXRlZCB1bmRlciB0aGUgTGljZW5zZSBpcyBkaXN0cmlidXRlZCBvbiBhbiAiQVMgSVMiIEJBU0lTLAovLyBXSVRIT1VUIFdBUlJBTlRJRVMgT1IgQ09ORElUSU9OUyBPRiBBTlkgS0lORCwgZWl0aGVyIGV4cHJlc3Mgb3IgaW1wbGllZC4KLy8gU2VlIHRoZSBMaWNlbnNlIGZvciB0aGUgc3BlY2lmaWMgbGFuZ3VhZ2UgZ292ZXJuaW5nIHBlcm1pc3Npb25zIGFuZAovLyBsaW1pdGF0aW9ucyB1bmRlciB0aGUgTGljZW5zZS4KCi8qKgogKiBAZmlsZW92ZXJ2aWV3IEhlbHBlcnMgZm9yIGdvb2dsZS5jb2xhYiBQeXRob24gbW9kdWxlLgogKi8KKGZ1bmN0aW9uKHNjb3BlKSB7CmZ1bmN0aW9uIHNwYW4odGV4dCwgc3R5bGVBdHRyaWJ1dGVzID0ge30pIHsKICBjb25zdCBlbGVtZW50ID0gZG9jdW1lbnQuY3JlYXRlRWxlbWVudCgnc3BhbicpOwogIGVsZW1lbnQudGV4dENvbnRlbnQgPSB0ZXh0OwogIGZvciAoY29uc3Qga2V5IG9mIE9iamVjdC5rZXlzKHN0eWxlQXR0cmlidXRlcykpIHsKICAgIGVsZW1lbnQuc3R5bGVba2V5XSA9IHN0eWxlQXR0cmlidXRlc1trZXldOwogIH0KICByZXR1cm4gZWxlbWVudDsKfQoKLy8gTWF4IG51bWJlciBvZiBieXRlcyB3aGljaCB3aWxsIGJlIHVwbG9hZGVkIGF0IGEgdGltZS4KY29uc3QgTUFYX1BBWUxPQURfU0laRSA9IDEwMCAqIDEwMjQ7CgpmdW5jdGlvbiBfdXBsb2FkRmlsZXMoaW5wdXRJZCwgb3V0cHV0SWQpIHsKICBjb25zdCBzdGVwcyA9IHVwbG9hZEZpbGVzU3RlcChpbnB1dElkLCBvdXRwdXRJZCk7CiAgY29uc3Qgb3V0cHV0RWxlbWVudCA9IGRvY3VtZW50LmdldEVsZW1lbnRCeUlkKG91dHB1dElkKTsKICAvLyBDYWNoZSBzdGVwcyBvbiB0aGUgb3V0cHV0RWxlbWVudCB0byBtYWtlIGl0IGF2YWlsYWJsZSBmb3IgdGhlIG5leHQgY2FsbAogIC8vIHRvIHVwbG9hZEZpbGVzQ29udGludWUgZnJvbSBQeXRob24uCiAgb3V0cHV0RWxlbWVudC5zdGVwcyA9IHN0ZXBzOwoKICByZXR1cm4gX3VwbG9hZEZpbGVzQ29udGludWUob3V0cHV0SWQpOwp9CgovLyBUaGlzIGlzIHJvdWdobHkgYW4gYXN5bmMgZ2VuZXJhdG9yIChub3Qgc3VwcG9ydGVkIGluIHRoZSBicm93c2VyIHlldCksCi8vIHdoZXJlIHRoZXJlIGFyZSBtdWx0aXBsZSBhc3luY2hyb25vdXMgc3RlcHMgYW5kIHRoZSBQeXRob24gc2lkZSBpcyBnb2luZwovLyB0byBwb2xsIGZvciBjb21wbGV0aW9uIG9mIGVhY2ggc3RlcC4KLy8gVGhpcyB1c2VzIGEgUHJvbWlzZSB0byBibG9jayB0aGUgcHl0aG9uIHNpZGUgb24gY29tcGxldGlvbiBvZiBlYWNoIHN0ZXAsCi8vIHRoZW4gcGFzc2VzIHRoZSByZXN1bHQgb2YgdGhlIHByZXZpb3VzIHN0ZXAgYXMgdGhlIGlucHV0IHRvIHRoZSBuZXh0IHN0ZXAuCmZ1bmN0aW9uIF91cGxvYWRGaWxlc0NvbnRpbnVlKG91dHB1dElkKSB7CiAgY29uc3Qgb3V0cHV0RWxlbWVudCA9IGRvY3VtZW50LmdldEVsZW1lbnRCeUlkKG91dHB1dElkKTsKICBjb25zdCBzdGVwcyA9IG91dHB1dEVsZW1lbnQuc3RlcHM7CgogIGNvbnN0IG5leHQgPSBzdGVwcy5uZXh0KG91dHB1dEVsZW1lbnQubGFzdFByb21pc2VWYWx1ZSk7CiAgcmV0dXJuIFByb21pc2UucmVzb2x2ZShuZXh0LnZhbHVlLnByb21pc2UpLnRoZW4oKHZhbHVlKSA9PiB7CiAgICAvLyBDYWNoZSB0aGUgbGFzdCBwcm9taXNlIHZhbHVlIHRvIG1ha2UgaXQgYXZhaWxhYmxlIHRvIHRoZSBuZXh0CiAgICAvLyBzdGVwIG9mIHRoZSBnZW5lcmF0b3IuCiAgICBvdXRwdXRFbGVtZW50Lmxhc3RQcm9taXNlVmFsdWUgPSB2YWx1ZTsKICAgIHJldHVybiBuZXh0LnZhbHVlLnJlc3BvbnNlOwogIH0pOwp9CgovKioKICogR2VuZXJhdG9yIGZ1bmN0aW9uIHdoaWNoIGlzIGNhbGxlZCBiZXR3ZWVuIGVhY2ggYXN5bmMgc3RlcCBvZiB0aGUgdXBsb2FkCiAqIHByb2Nlc3MuCiAqIEBwYXJhbSB7c3RyaW5nfSBpbnB1dElkIEVsZW1lbnQgSUQgb2YgdGhlIGlucHV0IGZpbGUgcGlja2VyIGVsZW1lbnQuCiAqIEBwYXJhbSB7c3RyaW5nfSBvdXRwdXRJZCBFbGVtZW50IElEIG9mIHRoZSBvdXRwdXQgZGlzcGxheS4KICogQHJldHVybiB7IUl0ZXJhYmxlPCFPYmplY3Q+fSBJdGVyYWJsZSBvZiBuZXh0IHN0ZXBzLgogKi8KZnVuY3Rpb24qIHVwbG9hZEZpbGVzU3RlcChpbnB1dElkLCBvdXRwdXRJZCkgewogIGNvbnN0IGlucHV0RWxlbWVudCA9IGRvY3VtZW50LmdldEVsZW1lbnRCeUlkKGlucHV0SWQpOwogIGlucHV0RWxlbWVudC5kaXNhYmxlZCA9IGZhbHNlOwoKICBjb25zdCBvdXRwdXRFbGVtZW50ID0gZG9jdW1lbnQuZ2V0RWxlbWVudEJ5SWQob3V0cHV0SWQpOwogIG91dHB1dEVsZW1lbnQuaW5uZXJIVE1MID0gJyc7CgogIGNvbnN0IHBpY2tlZFByb21pc2UgPSBuZXcgUHJvbWlzZSgocmVzb2x2ZSkgPT4gewogICAgaW5wdXRFbGVtZW50LmFkZEV2ZW50TGlzdGVuZXIoJ2NoYW5nZScsIChlKSA9PiB7CiAgICAgIHJlc29sdmUoZS50YXJnZXQuZmlsZXMpOwogICAgfSk7CiAgfSk7CgogIGNvbnN0IGNhbmNlbCA9IGRvY3VtZW50LmNyZWF0ZUVsZW1lbnQoJ2J1dHRvbicpOwogIGlucHV0RWxlbWVudC5wYXJlbnRFbGVtZW50LmFwcGVuZENoaWxkKGNhbmNlbCk7CiAgY2FuY2VsLnRleHRDb250ZW50ID0gJ0NhbmNlbCB1cGxvYWQnOwogIGNvbnN0IGNhbmNlbFByb21pc2UgPSBuZXcgUHJvbWlzZSgocmVzb2x2ZSkgPT4gewogICAgY2FuY2VsLm9uY2xpY2sgPSAoKSA9PiB7CiAgICAgIHJlc29sdmUobnVsbCk7CiAgICB9OwogIH0pOwoKICAvLyBXYWl0IGZvciB0aGUgdXNlciB0byBwaWNrIHRoZSBmaWxlcy4KICBjb25zdCBmaWxlcyA9IHlpZWxkIHsKICAgIHByb21pc2U6IFByb21pc2UucmFjZShbcGlja2VkUHJvbWlzZSwgY2FuY2VsUHJvbWlzZV0pLAogICAgcmVzcG9uc2U6IHsKICAgICAgYWN0aW9uOiAnc3RhcnRpbmcnLAogICAgfQogIH07CgogIGNhbmNlbC5yZW1vdmUoKTsKCiAgLy8gRGlzYWJsZSB0aGUgaW5wdXQgZWxlbWVudCBzaW5jZSBmdXJ0aGVyIHBpY2tzIGFyZSBub3QgYWxsb3dlZC4KICBpbnB1dEVsZW1lbnQuZGlzYWJsZWQgPSB0cnVlOwoKICBpZiAoIWZpbGVzKSB7CiAgICByZXR1cm4gewogICAgICByZXNwb25zZTogewogICAgICAgIGFjdGlvbjogJ2NvbXBsZXRlJywKICAgICAgfQogICAgfTsKICB9CgogIGZvciAoY29uc3QgZmlsZSBvZiBmaWxlcykgewogICAgY29uc3QgbGkgPSBkb2N1bWVudC5jcmVhdGVFbGVtZW50KCdsaScpOwogICAgbGkuYXBwZW5kKHNwYW4oZmlsZS5uYW1lLCB7Zm9udFdlaWdodDogJ2JvbGQnfSkpOwogICAgbGkuYXBwZW5kKHNwYW4oCiAgICAgICAgYCgke2ZpbGUudHlwZSB8fCAnbi9hJ30pIC0gJHtmaWxlLnNpemV9IGJ5dGVzLCBgICsKICAgICAgICBgbGFzdCBtb2RpZmllZDogJHsKICAgICAgICAgICAgZmlsZS5sYXN0TW9kaWZpZWREYXRlID8gZmlsZS5sYXN0TW9kaWZpZWREYXRlLnRvTG9jYWxlRGF0ZVN0cmluZygpIDoKICAgICAgICAgICAgICAgICAgICAgICAgICAgICAgICAgICAgJ24vYSd9IC0gYCkpOwogICAgY29uc3QgcGVyY2VudCA9IHNwYW4oJzAlIGRvbmUnKTsKICAgIGxpLmFwcGVuZENoaWxkKHBlcmNlbnQpOwoKICAgIG91dHB1dEVsZW1lbnQuYXBwZW5kQ2hpbGQobGkpOwoKICAgIGNvbnN0IGZpbGVEYXRhUHJvbWlzZSA9IG5ldyBQcm9taXNlKChyZXNvbHZlKSA9PiB7CiAgICAgIGNvbnN0IHJlYWRlciA9IG5ldyBGaWxlUmVhZGVyKCk7CiAgICAgIHJlYWRlci5vbmxvYWQgPSAoZSkgPT4gewogICAgICAgIHJlc29sdmUoZS50YXJnZXQucmVzdWx0KTsKICAgICAgfTsKICAgICAgcmVhZGVyLnJlYWRBc0FycmF5QnVmZmVyKGZpbGUpOwogICAgfSk7CiAgICAvLyBXYWl0IGZvciB0aGUgZGF0YSB0byBiZSByZWFkeS4KICAgIGxldCBmaWxlRGF0YSA9IHlpZWxkIHsKICAgICAgcHJvbWlzZTogZmlsZURhdGFQcm9taXNlLAogICAgICByZXNwb25zZTogewogICAgICAgIGFjdGlvbjogJ2NvbnRpbnVlJywKICAgICAgfQogICAgfTsKCiAgICAvLyBVc2UgYSBjaHVua2VkIHNlbmRpbmcgdG8gYXZvaWQgbWVzc2FnZSBzaXplIGxpbWl0cy4gU2VlIGIvNjIxMTU2NjAuCiAgICBsZXQgcG9zaXRpb24gPSAwOwogICAgd2hpbGUgKHBvc2l0aW9uIDwgZmlsZURhdGEuYnl0ZUxlbmd0aCkgewogICAgICBjb25zdCBsZW5ndGggPSBNYXRoLm1pbihmaWxlRGF0YS5ieXRlTGVuZ3RoIC0gcG9zaXRpb24sIE1BWF9QQVlMT0FEX1NJWkUpOwogICAgICBjb25zdCBjaHVuayA9IG5ldyBVaW50OEFycmF5KGZpbGVEYXRhLCBwb3NpdGlvbiwgbGVuZ3RoKTsKICAgICAgcG9zaXRpb24gKz0gbGVuZ3RoOwoKICAgICAgY29uc3QgYmFzZTY0ID0gYnRvYShTdHJpbmcuZnJvbUNoYXJDb2RlLmFwcGx5KG51bGwsIGNodW5rKSk7CiAgICAgIHlpZWxkIHsKICAgICAgICByZXNwb25zZTogewogICAgICAgICAgYWN0aW9uOiAnYXBwZW5kJywKICAgICAgICAgIGZpbGU6IGZpbGUubmFtZSwKICAgICAgICAgIGRhdGE6IGJhc2U2NCwKICAgICAgICB9LAogICAgICB9OwogICAgICBwZXJjZW50LnRleHRDb250ZW50ID0KICAgICAgICAgIGAke01hdGgucm91bmQoKHBvc2l0aW9uIC8gZmlsZURhdGEuYnl0ZUxlbmd0aCkgKiAxMDApfSUgZG9uZWA7CiAgICB9CiAgfQoKICAvLyBBbGwgZG9uZS4KICB5aWVsZCB7CiAgICByZXNwb25zZTogewogICAgICBhY3Rpb246ICdjb21wbGV0ZScsCiAgICB9CiAgfTsKfQoKc2NvcGUuZ29vZ2xlID0gc2NvcGUuZ29vZ2xlIHx8IHt9OwpzY29wZS5nb29nbGUuY29sYWIgPSBzY29wZS5nb29nbGUuY29sYWIgfHwge307CnNjb3BlLmdvb2dsZS5jb2xhYi5fZmlsZXMgPSB7CiAgX3VwbG9hZEZpbGVzLAogIF91cGxvYWRGaWxlc0NvbnRpbnVlLAp9Owp9KShzZWxmKTsK",
              "ok": true,
              "headers": [
                [
                  "content-type",
                  "application/javascript"
                ]
              ],
              "status": 200,
              "status_text": ""
            }
          },
          "base_uri": "https://localhost:8080/",
          "height": 346
        },
        "id": "UUdIO4-w6NSs",
        "outputId": "8aba63c6-5ae1-410f-fce0-438b47c36f18"
      },
      "source": [
        "from google.colab import files\n",
        "inp = files.upload()"
      ],
      "execution_count": null,
      "outputs": [
        {
          "output_type": "display_data",
          "data": {
            "text/html": [
              "\n",
              "     <input type=\"file\" id=\"files-1be28f17-2690-42f1-9ef0-9f96572396b5\" name=\"files[]\" multiple disabled\n",
              "        style=\"border:none\" />\n",
              "     <output id=\"result-1be28f17-2690-42f1-9ef0-9f96572396b5\">\n",
              "      Upload widget is only available when the cell has been executed in the\n",
              "      current browser session. Please rerun this cell to enable.\n",
              "      </output>\n",
              "      <script src=\"/nbextensions/google.colab/files.js\"></script> "
            ],
            "text/plain": [
              "<IPython.core.display.HTML object>"
            ]
          },
          "metadata": {
            "tags": []
          }
        },
        {
          "output_type": "error",
          "ename": "KeyboardInterrupt",
          "evalue": "ignored",
          "traceback": [
            "\u001b[0;31m---------------------------------------------------------------------------\u001b[0m",
            "\u001b[0;31mKeyboardInterrupt\u001b[0m                         Traceback (most recent call last)",
            "\u001b[0;32m<ipython-input-1-1d05e2110a9c>\u001b[0m in \u001b[0;36m<module>\u001b[0;34m()\u001b[0m\n\u001b[1;32m      1\u001b[0m \u001b[0;32mfrom\u001b[0m \u001b[0mgoogle\u001b[0m\u001b[0;34m.\u001b[0m\u001b[0mcolab\u001b[0m \u001b[0;32mimport\u001b[0m \u001b[0mfiles\u001b[0m\u001b[0;34m\u001b[0m\u001b[0;34m\u001b[0m\u001b[0m\n\u001b[0;32m----> 2\u001b[0;31m \u001b[0minp\u001b[0m \u001b[0;34m=\u001b[0m \u001b[0mfiles\u001b[0m\u001b[0;34m.\u001b[0m\u001b[0mupload\u001b[0m\u001b[0;34m(\u001b[0m\u001b[0;34m)\u001b[0m\u001b[0;34m\u001b[0m\u001b[0;34m\u001b[0m\u001b[0m\n\u001b[0m",
            "\u001b[0;32m/usr/local/lib/python3.6/dist-packages/google/colab/files.py\u001b[0m in \u001b[0;36mupload\u001b[0;34m()\u001b[0m\n\u001b[1;32m     62\u001b[0m   result = _output.eval_js(\n\u001b[1;32m     63\u001b[0m       'google.colab._files._uploadFiles(\"{input_id}\", \"{output_id}\")'.format(\n\u001b[0;32m---> 64\u001b[0;31m           input_id=input_id, output_id=output_id))\n\u001b[0m\u001b[1;32m     65\u001b[0m   \u001b[0mfiles\u001b[0m \u001b[0;34m=\u001b[0m \u001b[0m_collections\u001b[0m\u001b[0;34m.\u001b[0m\u001b[0mdefaultdict\u001b[0m\u001b[0;34m(\u001b[0m\u001b[0m_six\u001b[0m\u001b[0;34m.\u001b[0m\u001b[0mbinary_type\u001b[0m\u001b[0;34m)\u001b[0m\u001b[0;34m\u001b[0m\u001b[0;34m\u001b[0m\u001b[0m\n\u001b[1;32m     66\u001b[0m   \u001b[0;31m# Mapping from original filename to filename as saved locally.\u001b[0m\u001b[0;34m\u001b[0m\u001b[0;34m\u001b[0m\u001b[0;34m\u001b[0m\u001b[0m\n",
            "\u001b[0;32m/usr/local/lib/python3.6/dist-packages/google/colab/output/_js.py\u001b[0m in \u001b[0;36meval_js\u001b[0;34m(script, ignore_result)\u001b[0m\n\u001b[1;32m     37\u001b[0m   \u001b[0;32mif\u001b[0m \u001b[0mignore_result\u001b[0m\u001b[0;34m:\u001b[0m\u001b[0;34m\u001b[0m\u001b[0;34m\u001b[0m\u001b[0m\n\u001b[1;32m     38\u001b[0m     \u001b[0;32mreturn\u001b[0m\u001b[0;34m\u001b[0m\u001b[0;34m\u001b[0m\u001b[0m\n\u001b[0;32m---> 39\u001b[0;31m   \u001b[0;32mreturn\u001b[0m \u001b[0m_message\u001b[0m\u001b[0;34m.\u001b[0m\u001b[0mread_reply_from_input\u001b[0m\u001b[0;34m(\u001b[0m\u001b[0mrequest_id\u001b[0m\u001b[0;34m)\u001b[0m\u001b[0;34m\u001b[0m\u001b[0;34m\u001b[0m\u001b[0m\n\u001b[0m\u001b[1;32m     40\u001b[0m \u001b[0;34m\u001b[0m\u001b[0m\n\u001b[1;32m     41\u001b[0m \u001b[0;34m\u001b[0m\u001b[0m\n",
            "\u001b[0;32m/usr/local/lib/python3.6/dist-packages/google/colab/_message.py\u001b[0m in \u001b[0;36mread_reply_from_input\u001b[0;34m(message_id, timeout_sec)\u001b[0m\n\u001b[1;32m     99\u001b[0m     \u001b[0mreply\u001b[0m \u001b[0;34m=\u001b[0m \u001b[0m_read_next_input_message\u001b[0m\u001b[0;34m(\u001b[0m\u001b[0;34m)\u001b[0m\u001b[0;34m\u001b[0m\u001b[0;34m\u001b[0m\u001b[0m\n\u001b[1;32m    100\u001b[0m     \u001b[0;32mif\u001b[0m \u001b[0mreply\u001b[0m \u001b[0;34m==\u001b[0m \u001b[0m_NOT_READY\u001b[0m \u001b[0;32mor\u001b[0m \u001b[0;32mnot\u001b[0m \u001b[0misinstance\u001b[0m\u001b[0;34m(\u001b[0m\u001b[0mreply\u001b[0m\u001b[0;34m,\u001b[0m \u001b[0mdict\u001b[0m\u001b[0;34m)\u001b[0m\u001b[0;34m:\u001b[0m\u001b[0;34m\u001b[0m\u001b[0;34m\u001b[0m\u001b[0m\n\u001b[0;32m--> 101\u001b[0;31m       \u001b[0mtime\u001b[0m\u001b[0;34m.\u001b[0m\u001b[0msleep\u001b[0m\u001b[0;34m(\u001b[0m\u001b[0;36m0.025\u001b[0m\u001b[0;34m)\u001b[0m\u001b[0;34m\u001b[0m\u001b[0;34m\u001b[0m\u001b[0m\n\u001b[0m\u001b[1;32m    102\u001b[0m       \u001b[0;32mcontinue\u001b[0m\u001b[0;34m\u001b[0m\u001b[0;34m\u001b[0m\u001b[0m\n\u001b[1;32m    103\u001b[0m     if (reply.get('type') == 'colab_reply' and\n",
            "\u001b[0;31mKeyboardInterrupt\u001b[0m: "
          ]
        }
      ]
    },
    {
      "cell_type": "code",
      "metadata": {
        "id": "RE4ZBdg_5EAg"
      },
      "source": [
        "def check_sum(n, m, t, sum):\n",
        "  tot = n + m + t\n",
        "  # print(n, m, t, tot)\n",
        "  if tot == sum:\n",
        "    return True"
      ],
      "execution_count": null,
      "outputs": []
    },
    {
      "cell_type": "code",
      "metadata": {
        "id": "z4GLeqdc5puT"
      },
      "source": [
        "def check_list(l: list):\n",
        "  for n1 in l:\n",
        "    for n2 in l:\n",
        "      for n3 in l:\n",
        "        if check_sum(n1,n2,n3,2020):\n",
        "          return n1*n2*n3"
      ],
      "execution_count": null,
      "outputs": []
    },
    {
      "cell_type": "code",
      "metadata": {
        "colab": {
          "base_uri": "https://localhost:8080/"
        },
        "id": "1dkzYzZ257Sa",
        "outputId": "0f98dca3-caf8-4c91-d6aa-b66e7a0cc845"
      },
      "source": [
        "check_list([1721,979,366,299,675,1456])"
      ],
      "execution_count": null,
      "outputs": [
        {
          "output_type": "execute_result",
          "data": {
            "text/plain": [
              "241861950"
            ]
          },
          "metadata": {
            "tags": []
          },
          "execution_count": 6
        }
      ]
    },
    {
      "cell_type": "code",
      "metadata": {
        "id": "RPrckeGk6nS_",
        "colab": {
          "base_uri": "https://localhost:8080/",
          "height": 181
        },
        "outputId": "583c6109-a3f0-4272-b23a-3d3afdf96888"
      },
      "source": [
        "d1 = inp['input.txt'].decode().split()\n",
        "d1 = [int(i) for i in d1]"
      ],
      "execution_count": null,
      "outputs": [
        {
          "output_type": "error",
          "ename": "KeyError",
          "evalue": "ignored",
          "traceback": [
            "\u001b[0;31m---------------------------------------------------------------------------\u001b[0m",
            "\u001b[0;31mKeyError\u001b[0m                                  Traceback (most recent call last)",
            "\u001b[0;32m<ipython-input-7-2e90fdd3b924>\u001b[0m in \u001b[0;36m<module>\u001b[0;34m()\u001b[0m\n\u001b[0;32m----> 1\u001b[0;31m \u001b[0md1\u001b[0m \u001b[0;34m=\u001b[0m \u001b[0minp\u001b[0m\u001b[0;34m[\u001b[0m\u001b[0;34m'input.txt'\u001b[0m\u001b[0;34m]\u001b[0m\u001b[0;34m.\u001b[0m\u001b[0mdecode\u001b[0m\u001b[0;34m(\u001b[0m\u001b[0;34m)\u001b[0m\u001b[0;34m.\u001b[0m\u001b[0msplit\u001b[0m\u001b[0;34m(\u001b[0m\u001b[0;34m)\u001b[0m\u001b[0;34m\u001b[0m\u001b[0;34m\u001b[0m\u001b[0m\n\u001b[0m\u001b[1;32m      2\u001b[0m \u001b[0md1\u001b[0m \u001b[0;34m=\u001b[0m \u001b[0;34m[\u001b[0m\u001b[0mint\u001b[0m\u001b[0;34m(\u001b[0m\u001b[0mi\u001b[0m\u001b[0;34m)\u001b[0m \u001b[0;32mfor\u001b[0m \u001b[0mi\u001b[0m \u001b[0;32min\u001b[0m \u001b[0md1\u001b[0m\u001b[0;34m]\u001b[0m\u001b[0;34m\u001b[0m\u001b[0;34m\u001b[0m\u001b[0m\n",
            "\u001b[0;31mKeyError\u001b[0m: 'input.txt'"
          ]
        }
      ]
    },
    {
      "cell_type": "code",
      "metadata": {
        "id": "46yvLB5H7RNa"
      },
      "source": [
        "check_list(d1)"
      ],
      "execution_count": null,
      "outputs": []
    },
    {
      "cell_type": "markdown",
      "metadata": {
        "id": "XXtZMEv09IfK"
      },
      "source": [
        "# Day 2\n",
        "Does password reflect the policy?\n",
        "\n",
        "1-3 a: abcde    yes "
      ]
    },
    {
      "cell_type": "code",
      "metadata": {
        "id": "flonF_AX-XG8"
      },
      "source": [
        "from dataclasses import dataclass\n"
      ],
      "execution_count": null,
      "outputs": []
    },
    {
      "cell_type": "code",
      "metadata": {
        "id": "IAagyAF99kM-"
      },
      "source": [
        "foo = '1-3 a: abcde'\n",
        "foo.split(' ')[1].replace(':','')"
      ],
      "execution_count": null,
      "outputs": []
    },
    {
      "cell_type": "code",
      "metadata": {
        "id": "h_mUibJW9O1j"
      },
      "source": [
        "@dataclass\n",
        "class DecodedLine:\n",
        "  char: str\n",
        "  password: str\n",
        "  min: int\n",
        "  max: int\n",
        "\n",
        "  def __init__(self,policy_and_pass):\n",
        "    char_range = policy_and_pass.split(' ')[0]\n",
        "    self.char = policy_and_pass.split(' ')[1].replace(':','')\n",
        "    self.password = policy_and_pass.split(' ')[2]\n",
        "    self.min = int(char_range.split('-')[0])\n",
        "    self.max = int(char_range.split('-')[1])\n",
        "    \n",
        "\n",
        "  def is_valid(self):\n",
        "    if self.min <= self.password.count(self.char) <= self.max:\n",
        "      return 1\n",
        "    else:\n",
        "      return 0\n",
        "\n",
        "  def is_valid_2(self):\n",
        "    num_matches = 0\n",
        "    if self.password[self.min-1] == self.char:\n",
        "      num_matches += 1\n",
        "    # if len(self.password) <= self.max-1:\n",
        "    if self.password[self.max-1] == self.char:\n",
        "      num_matches += 1\n",
        "    if num_matches == 1:\n",
        "      return 1\n",
        "    else:\n",
        "      return 0\n"
      ],
      "execution_count": null,
      "outputs": []
    },
    {
      "cell_type": "code",
      "metadata": {
        "id": "Naz4O1su_CTG"
      },
      "source": [
        "i = DecodedLine('1-3 a: abcde')\n",
        "i.is_valid()\n",
        "i.password[i.min-1]"
      ],
      "execution_count": null,
      "outputs": []
    },
    {
      "cell_type": "code",
      "metadata": {
        "id": "Bc13RhgX_L8I"
      },
      "source": [
        "i.is_valid()"
      ],
      "execution_count": null,
      "outputs": []
    },
    {
      "cell_type": "code",
      "metadata": {
        "id": "T48j98AMAfcA"
      },
      "source": [
        "inp2 = files.upload()\n"
      ],
      "execution_count": null,
      "outputs": []
    },
    {
      "cell_type": "code",
      "metadata": {
        "id": "CGE84a-mAn85"
      },
      "source": [
        "d2 = inp2['day2.txt'].decode().split('\\n')"
      ],
      "execution_count": null,
      "outputs": []
    },
    {
      "cell_type": "code",
      "metadata": {
        "id": "6Tfd-azPB-7f"
      },
      "source": [
        "d2[-1]"
      ],
      "execution_count": null,
      "outputs": []
    },
    {
      "cell_type": "code",
      "metadata": {
        "id": "RetEG02ZAteS"
      },
      "source": [
        "def find_valid_2(input_list):\n",
        "  num_valid = 0\n",
        "  for item in input_list:\n",
        "    dec = DecodedLine(item)\n",
        "    num_valid += dec.is_valid_2()\n",
        "  return num_valid\n",
        "\n"
      ],
      "execution_count": null,
      "outputs": []
    },
    {
      "cell_type": "code",
      "metadata": {
        "id": "NU3Obmt0BmlK"
      },
      "source": [
        "find_valid_2(d2[0:-1])"
      ],
      "execution_count": null,
      "outputs": []
    },
    {
      "cell_type": "markdown",
      "metadata": {
        "id": "b-PCujPsY7CP"
      },
      "source": [
        "# Day 3\n",
        "\n",
        "Tobogganing\n",
        "\n",
        "## Part 1 right 3 down 1\n",
        "\n",
        "Repeats many times to the right"
      ]
    },
    {
      "cell_type": "code",
      "metadata": {
        "id": "jNVy_tYIZsfS"
      },
      "source": [
        "test_inp = \"\"\"..##.........##.........##.........##.........##.........##.......\n",
        "#...#...#..#...#...#..#...#...#..#...#...#..#...#...#..#...#...#..\n",
        ".#....#..#..#....#..#..#....#..#..#....#..#..#....#..#..#....#..#.\n",
        "..#.#...#.#..#.#...#.#..#.#...#.#..#.#...#.#..#.#...#.#..#.#...#.#\n",
        ".#...##..#..#...##..#..#...##..#..#...##..#..#...##..#..#...##..#.\n",
        "..#.##.......#.##.......#.##.......#.##.......#.##.......#.##.....\n",
        ".#.#.#....#.#.#.#....#.#.#.#....#.#.#.#....#.#.#.#....#.#.#.#....#\n",
        ".#........#.#........#.#........#.#........#.#........#.#........#\n",
        "#.##...#...#.##...#...#.##...#...#.##...#...#.##...#...#.##...#...\n",
        "#...##....##...##....##...##....##...##....##...##....##...##....#\n",
        ".#..#...#.#.#..#...#.#.#..#...#.#.#..#...#.#.#..#...#.#.#..#...#.#\"\"\""
      ],
      "execution_count": null,
      "outputs": []
    },
    {
      "cell_type": "code",
      "metadata": {
        "colab": {
          "base_uri": "https://localhost:8080/"
        },
        "id": "fj94BKceay7n",
        "outputId": "4be0158c-dd37-45a9-c4ba-b8e9449dc8c2"
      },
      "source": [
        "for ln in test_inp.split('\\n'):\n",
        "  print(ln)"
      ],
      "execution_count": null,
      "outputs": [
        {
          "output_type": "stream",
          "text": [
            "..##.........##.........##.........##.........##.........##.......\n",
            "#...#...#..#...#...#..#...#...#..#...#...#..#...#...#..#...#...#..\n",
            ".#....#..#..#....#..#..#....#..#..#....#..#..#....#..#..#....#..#.\n",
            "..#.#...#.#..#.#...#.#..#.#...#.#..#.#...#.#..#.#...#.#..#.#...#.#\n",
            ".#...##..#..#...##..#..#...##..#..#...##..#..#...##..#..#...##..#.\n",
            "..#.##.......#.##.......#.##.......#.##.......#.##.......#.##.....\n",
            ".#.#.#....#.#.#.#....#.#.#.#....#.#.#.#....#.#.#.#....#.#.#.#....#\n",
            ".#........#.#........#.#........#.#........#.#........#.#........#\n",
            "#.##...#...#.##...#...#.##...#...#.##...#...#.##...#...#.##...#...\n",
            "#...##....##...##....##...##....##...##....##...##....##...##....#\n",
            ".#..#...#.#.#..#...#.#.#..#...#.#.#..#...#.#.#..#...#.#.#..#...#.#\n"
          ],
          "name": "stdout"
        }
      ]
    },
    {
      "cell_type": "code",
      "metadata": {
        "colab": {
          "base_uri": "https://localhost:8080/",
          "height": 36
        },
        "id": "-TqvTiqDb0NW",
        "outputId": "06fd1cfc-1908-4d0a-e1b8-2dce23bfd8da"
      },
      "source": [
        "tl = test_inp.split('\\n')\n",
        "tl[0][68%len(tl[0])]\n",
        "# .replace('#','O')\n",
        "# tl"
      ],
      "execution_count": null,
      "outputs": [
        {
          "output_type": "execute_result",
          "data": {
            "application/vnd.google.colaboratory.intrinsic+json": {
              "type": "string"
            },
            "text/plain": [
              "'#'"
            ]
          },
          "metadata": {
            "tags": []
          },
          "execution_count": 66
        }
      ]
    },
    {
      "cell_type": "code",
      "metadata": {
        "id": "OlSTz-WmbE9R"
      },
      "source": [
        "def travel(map, right, down):\n",
        "  col = 0\n",
        "  tree_count = 0\n",
        "  for idx, ln in enumerate(map.split('\\n')):\n",
        "    if idx%down == 0:\n",
        "      if ln[col%len(ln)] == '#':\n",
        "        tree_count += 1\n",
        "      col += right\n",
        "  return tree_count\n",
        "\n"
      ],
      "execution_count": null,
      "outputs": []
    },
    {
      "cell_type": "code",
      "metadata": {
        "colab": {
          "base_uri": "https://localhost:8080/"
        },
        "id": "NOiQfyizdpXa",
        "outputId": "99a049c3-3119-468f-b412-eee05fd97c2c"
      },
      "source": [
        "travel(test_inp,3,1)"
      ],
      "execution_count": null,
      "outputs": [
        {
          "output_type": "execute_result",
          "data": {
            "text/plain": [
              "7"
            ]
          },
          "metadata": {
            "tags": []
          },
          "execution_count": 68
        }
      ]
    },
    {
      "cell_type": "code",
      "metadata": {
        "colab": {
          "resources": {
            "http://localhost:8080/nbextensions/google.colab/files.js": {
              "data": "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",
              "ok": true,
              "headers": [
                [
                  "content-type",
                  "application/javascript"
                ]
              ],
              "status": 200,
              "status_text": ""
            }
          },
          "base_uri": "https://localhost:8080/",
          "height": 338
        },
        "id": "QUexO9RmeFms",
        "outputId": "72651fa9-0348-4249-b909-35c0f863fe3c"
      },
      "source": [
        "inp = files.upload()"
      ],
      "execution_count": null,
      "outputs": [
        {
          "output_type": "display_data",
          "data": {
            "text/html": [
              "\n",
              "     <input type=\"file\" id=\"files-d3779cbb-2e5c-420e-b80a-a0cf803e752b\" name=\"files[]\" multiple disabled\n",
              "        style=\"border:none\" />\n",
              "     <output id=\"result-d3779cbb-2e5c-420e-b80a-a0cf803e752b\">\n",
              "      Upload widget is only available when the cell has been executed in the\n",
              "      current browser session. Please rerun this cell to enable.\n",
              "      </output>\n",
              "      <script src=\"/nbextensions/google.colab/files.js\"></script> "
            ],
            "text/plain": [
              "<IPython.core.display.HTML object>"
            ]
          },
          "metadata": {
            "tags": []
          }
        },
        {
          "output_type": "error",
          "ename": "KeyboardInterrupt",
          "evalue": "ignored",
          "traceback": [
            "\u001b[0;31m---------------------------------------------------------------------------\u001b[0m",
            "\u001b[0;31mKeyboardInterrupt\u001b[0m                         Traceback (most recent call last)",
            "\u001b[0;32m<ipython-input-69-47d4594c32d8>\u001b[0m in \u001b[0;36m<module>\u001b[0;34m()\u001b[0m\n\u001b[0;32m----> 1\u001b[0;31m \u001b[0minp\u001b[0m \u001b[0;34m=\u001b[0m \u001b[0mfiles\u001b[0m\u001b[0;34m.\u001b[0m\u001b[0mupload\u001b[0m\u001b[0;34m(\u001b[0m\u001b[0;34m)\u001b[0m\u001b[0;34m\u001b[0m\u001b[0;34m\u001b[0m\u001b[0m\n\u001b[0m",
            "\u001b[0;32m/usr/local/lib/python3.6/dist-packages/google/colab/files.py\u001b[0m in \u001b[0;36mupload\u001b[0;34m()\u001b[0m\n\u001b[1;32m     62\u001b[0m   result = _output.eval_js(\n\u001b[1;32m     63\u001b[0m       'google.colab._files._uploadFiles(\"{input_id}\", \"{output_id}\")'.format(\n\u001b[0;32m---> 64\u001b[0;31m           input_id=input_id, output_id=output_id))\n\u001b[0m\u001b[1;32m     65\u001b[0m   \u001b[0mfiles\u001b[0m \u001b[0;34m=\u001b[0m \u001b[0m_collections\u001b[0m\u001b[0;34m.\u001b[0m\u001b[0mdefaultdict\u001b[0m\u001b[0;34m(\u001b[0m\u001b[0m_six\u001b[0m\u001b[0;34m.\u001b[0m\u001b[0mbinary_type\u001b[0m\u001b[0;34m)\u001b[0m\u001b[0;34m\u001b[0m\u001b[0;34m\u001b[0m\u001b[0m\n\u001b[1;32m     66\u001b[0m   \u001b[0;31m# Mapping from original filename to filename as saved locally.\u001b[0m\u001b[0;34m\u001b[0m\u001b[0;34m\u001b[0m\u001b[0;34m\u001b[0m\u001b[0m\n",
            "\u001b[0;32m/usr/local/lib/python3.6/dist-packages/google/colab/output/_js.py\u001b[0m in \u001b[0;36meval_js\u001b[0;34m(script, ignore_result)\u001b[0m\n\u001b[1;32m     37\u001b[0m   \u001b[0;32mif\u001b[0m \u001b[0mignore_result\u001b[0m\u001b[0;34m:\u001b[0m\u001b[0;34m\u001b[0m\u001b[0;34m\u001b[0m\u001b[0m\n\u001b[1;32m     38\u001b[0m     \u001b[0;32mreturn\u001b[0m\u001b[0;34m\u001b[0m\u001b[0;34m\u001b[0m\u001b[0m\n\u001b[0;32m---> 39\u001b[0;31m   \u001b[0;32mreturn\u001b[0m \u001b[0m_message\u001b[0m\u001b[0;34m.\u001b[0m\u001b[0mread_reply_from_input\u001b[0m\u001b[0;34m(\u001b[0m\u001b[0mrequest_id\u001b[0m\u001b[0;34m)\u001b[0m\u001b[0;34m\u001b[0m\u001b[0;34m\u001b[0m\u001b[0m\n\u001b[0m\u001b[1;32m     40\u001b[0m \u001b[0;34m\u001b[0m\u001b[0m\n\u001b[1;32m     41\u001b[0m \u001b[0;34m\u001b[0m\u001b[0m\n",
            "\u001b[0;32m/usr/local/lib/python3.6/dist-packages/google/colab/_message.py\u001b[0m in \u001b[0;36mread_reply_from_input\u001b[0;34m(message_id, timeout_sec)\u001b[0m\n\u001b[1;32m     99\u001b[0m     \u001b[0mreply\u001b[0m \u001b[0;34m=\u001b[0m \u001b[0m_read_next_input_message\u001b[0m\u001b[0;34m(\u001b[0m\u001b[0;34m)\u001b[0m\u001b[0;34m\u001b[0m\u001b[0;34m\u001b[0m\u001b[0m\n\u001b[1;32m    100\u001b[0m     \u001b[0;32mif\u001b[0m \u001b[0mreply\u001b[0m \u001b[0;34m==\u001b[0m \u001b[0m_NOT_READY\u001b[0m \u001b[0;32mor\u001b[0m \u001b[0;32mnot\u001b[0m \u001b[0misinstance\u001b[0m\u001b[0;34m(\u001b[0m\u001b[0mreply\u001b[0m\u001b[0;34m,\u001b[0m \u001b[0mdict\u001b[0m\u001b[0;34m)\u001b[0m\u001b[0;34m:\u001b[0m\u001b[0;34m\u001b[0m\u001b[0;34m\u001b[0m\u001b[0m\n\u001b[0;32m--> 101\u001b[0;31m       \u001b[0mtime\u001b[0m\u001b[0;34m.\u001b[0m\u001b[0msleep\u001b[0m\u001b[0;34m(\u001b[0m\u001b[0;36m0.025\u001b[0m\u001b[0;34m)\u001b[0m\u001b[0;34m\u001b[0m\u001b[0;34m\u001b[0m\u001b[0m\n\u001b[0m\u001b[1;32m    102\u001b[0m       \u001b[0;32mcontinue\u001b[0m\u001b[0;34m\u001b[0m\u001b[0;34m\u001b[0m\u001b[0m\n\u001b[1;32m    103\u001b[0m     if (reply.get('type') == 'colab_reply' and\n",
            "\u001b[0;31mKeyboardInterrupt\u001b[0m: "
          ]
        }
      ]
    },
    {
      "cell_type": "code",
      "metadata": {
        "id": "kndm6E3ceRZX"
      },
      "source": [
        "map = inp['day3.txt'].decode()\n",
        "map.split('\\n')[0]"
      ],
      "execution_count": null,
      "outputs": []
    },
    {
      "cell_type": "code",
      "metadata": {
        "id": "bS1v5PJ8eVn9"
      },
      "source": [
        "travel(map[:-1],3,1)"
      ],
      "execution_count": null,
      "outputs": []
    },
    {
      "cell_type": "code",
      "metadata": {
        "id": "9iZuwWntfWPQ"
      },
      "source": [
        "dir_list = [(1,1),(3,1),(5,1),(7,1),(1,2)]"
      ],
      "execution_count": null,
      "outputs": []
    },
    {
      "cell_type": "code",
      "metadata": {
        "id": "OntUtNKAfhKW"
      },
      "source": [
        "import numpy as np\n",
        "def check_dirs(map):\n",
        "  result_buffer = []\n",
        "  for dir in dir_list:\n",
        "    result_buffer.append(travel(map,dir[0], dir[1]))\n",
        "  return np.prod(result_buffer)\n"
      ],
      "execution_count": null,
      "outputs": []
    },
    {
      "cell_type": "code",
      "metadata": {
        "id": "QS0xgKeigLVo"
      },
      "source": [
        "check_dirs(test_inp)"
      ],
      "execution_count": null,
      "outputs": []
    },
    {
      "cell_type": "code",
      "metadata": {
        "id": "EOQh2WZ1gPI8"
      },
      "source": [
        "check_dirs(map[:-1])"
      ],
      "execution_count": null,
      "outputs": []
    },
    {
      "cell_type": "markdown",
      "metadata": {
        "id": "RieU5lNhckEu"
      },
      "source": [
        "# Day 4"
      ]
    },
    {
      "cell_type": "code",
      "metadata": {
        "id": "V7yu_rV2cf5p"
      },
      "source": [
        "from google.colab import files\n",
        "import re"
      ],
      "execution_count": null,
      "outputs": []
    },
    {
      "cell_type": "code",
      "metadata": {
        "id": "4hdZyIk9c8LV"
      },
      "source": [
        "test_input = \"\"\"ecl:gry pid:860033327 eyr:2020 hcl:#fffffd\n",
        "byr:1937 iyr:2017 cid:147 hgt:183cm\n",
        "\n",
        "iyr:2013 ecl:amb cid:350 eyr:2023 pid:028048884\n",
        "hcl:#cfa07d byr:1929\n",
        "\n",
        "hcl:#ae17e1 iyr:2013\n",
        "eyr:2024\n",
        "ecl:brn pid:760753108 byr:1931\n",
        "hgt:179cm\n",
        "\n",
        "hcl:#cfa07d eyr:2025 pid:166559648\n",
        "iyr:2011 ecl:brn hgt:59in\"\"\""
      ],
      "execution_count": null,
      "outputs": []
    },
    {
      "cell_type": "code",
      "metadata": {
        "colab": {
          "base_uri": "https://localhost:8080/",
          "height": 36
        },
        "id": "f-OET-fwd4ww",
        "outputId": "8b1ac84c-fade-4402-afac-657486dac6b2"
      },
      "source": [
        "st = test_input.split('\\n\\n')\n",
        "st[0]"
      ],
      "execution_count": null,
      "outputs": [
        {
          "output_type": "execute_result",
          "data": {
            "application/vnd.google.colaboratory.intrinsic+json": {
              "type": "string"
            },
            "text/plain": [
              "'ecl:gry pid:860033327 eyr:2020 hcl:#fffffd\\nbyr:1937 iyr:2017 cid:147 hgt:183cm'"
            ]
          },
          "metadata": {
            "tags": []
          },
          "execution_count": 3
        }
      ]
    },
    {
      "cell_type": "code",
      "metadata": {
        "colab": {
          "base_uri": "https://localhost:8080/",
          "height": 168
        },
        "id": "JhOARCAAgDqV",
        "outputId": "94943aee-83ec-42e8-ba7a-3f35c6bb2b49"
      },
      "source": [
        "dict([tuple(kv.split(':')) for kv in kvs])"
      ],
      "execution_count": null,
      "outputs": [
        {
          "output_type": "error",
          "ename": "NameError",
          "evalue": "ignored",
          "traceback": [
            "\u001b[0;31m---------------------------------------------------------------------------\u001b[0m",
            "\u001b[0;31mNameError\u001b[0m                                 Traceback (most recent call last)",
            "\u001b[0;32m<ipython-input-4-498c918018f2>\u001b[0m in \u001b[0;36m<module>\u001b[0;34m()\u001b[0m\n\u001b[0;32m----> 1\u001b[0;31m \u001b[0mdict\u001b[0m\u001b[0;34m(\u001b[0m\u001b[0;34m[\u001b[0m\u001b[0mtuple\u001b[0m\u001b[0;34m(\u001b[0m\u001b[0mkv\u001b[0m\u001b[0;34m.\u001b[0m\u001b[0msplit\u001b[0m\u001b[0;34m(\u001b[0m\u001b[0;34m':'\u001b[0m\u001b[0;34m)\u001b[0m\u001b[0;34m)\u001b[0m \u001b[0;32mfor\u001b[0m \u001b[0mkv\u001b[0m \u001b[0;32min\u001b[0m \u001b[0mkvs\u001b[0m\u001b[0;34m]\u001b[0m\u001b[0;34m)\u001b[0m\u001b[0;34m\u001b[0m\u001b[0;34m\u001b[0m\u001b[0m\n\u001b[0m",
            "\u001b[0;31mNameError\u001b[0m: name 'kvs' is not defined"
          ]
        }
      ]
    },
    {
      "cell_type": "code",
      "metadata": {
        "id": "K2NIizDhdCF8"
      },
      "source": [
        "def parse_input(unparsed):\n",
        "  passports = []\n",
        "  entries = unparsed.split('\\n\\n')\n",
        "  for item in entries:\n",
        "    kvs = re.split('[\\n\\s]', item)\n",
        "    passports.append(dict([tuple(kv.split(':')) for kv in kvs]))\n",
        "  return passports\n",
        "\n"
      ],
      "execution_count": null,
      "outputs": []
    },
    {
      "cell_type": "code",
      "metadata": {
        "colab": {
          "base_uri": "https://localhost:8080/"
        },
        "id": "Lw5awyyNhByI",
        "outputId": "e3f90ec8-0f21-42f2-8e78-cae946dec425"
      },
      "source": [
        "parse_input(test_input)"
      ],
      "execution_count": null,
      "outputs": [
        {
          "output_type": "execute_result",
          "data": {
            "text/plain": [
              "[{'byr': '1937',\n",
              "  'cid': '147',\n",
              "  'ecl': 'gry',\n",
              "  'eyr': '2020',\n",
              "  'hcl': '#fffffd',\n",
              "  'hgt': '183cm',\n",
              "  'iyr': '2017',\n",
              "  'pid': '860033327'},\n",
              " {'byr': '1929',\n",
              "  'cid': '350',\n",
              "  'ecl': 'amb',\n",
              "  'eyr': '2023',\n",
              "  'hcl': '#cfa07d',\n",
              "  'iyr': '2013',\n",
              "  'pid': '028048884'},\n",
              " {'byr': '1931',\n",
              "  'ecl': 'brn',\n",
              "  'eyr': '2024',\n",
              "  'hcl': '#ae17e1',\n",
              "  'hgt': '179cm',\n",
              "  'iyr': '2013',\n",
              "  'pid': '760753108'},\n",
              " {'ecl': 'brn',\n",
              "  'eyr': '2025',\n",
              "  'hcl': '#cfa07d',\n",
              "  'hgt': '59in',\n",
              "  'iyr': '2011',\n",
              "  'pid': '166559648'}]"
            ]
          },
          "metadata": {
            "tags": []
          },
          "execution_count": 8
        }
      ]
    },
    {
      "cell_type": "code",
      "metadata": {
        "id": "IbIm2S4jh66x"
      },
      "source": [
        "ALL_KEYS = set(['ecl', 'pid', 'eyr', 'hcl', 'byr', 'iyr', 'cid', 'hgt'])\n",
        "MINUS_CID = set(['ecl', 'pid', 'eyr', 'hcl', 'byr', 'iyr', 'hgt'])"
      ],
      "execution_count": null,
      "outputs": []
    },
    {
      "cell_type": "code",
      "metadata": {
        "id": "GrubTVGxjef0"
      },
      "source": [
        "def check_valid(passports):\n",
        "  num_valid = 0\n",
        "  for passport in passports:\n",
        "    print(passport)\n",
        "    print(passport.keys())\n",
        "    if set(passport.keys()) == ALL_KEYS:\n",
        "      num_valid +=1\n",
        "      print('all keys')\n",
        "    if set(passport.keys()) == MINUS_CID:\n",
        "      num_valid +=1\n",
        "      print('minus cid')\n",
        "  return num_valid"
      ],
      "execution_count": null,
      "outputs": []
    },
    {
      "cell_type": "code",
      "metadata": {
        "colab": {
          "base_uri": "https://localhost:8080/"
        },
        "id": "RMpCQBCVhqDM",
        "outputId": "2244c53b-ed23-4100-c838-06c6a6cae9ba"
      },
      "source": [
        "check_valid(parse_input(test_input))"
      ],
      "execution_count": null,
      "outputs": [
        {
          "output_type": "stream",
          "text": [
            "{'ecl': 'gry', 'pid': '860033327', 'eyr': '2020', 'hcl': '#fffffd', 'byr': '1937', 'iyr': '2017', 'cid': '147', 'hgt': '183cm'}\n",
            "dict_keys(['ecl', 'pid', 'eyr', 'hcl', 'byr', 'iyr', 'cid', 'hgt'])\n",
            "all keys\n",
            "{'iyr': '2013', 'ecl': 'amb', 'cid': '350', 'eyr': '2023', 'pid': '028048884', 'hcl': '#cfa07d', 'byr': '1929'}\n",
            "dict_keys(['iyr', 'ecl', 'cid', 'eyr', 'pid', 'hcl', 'byr'])\n",
            "{'hcl': '#ae17e1', 'iyr': '2013', 'eyr': '2024', 'ecl': 'brn', 'pid': '760753108', 'byr': '1931', 'hgt': '179cm'}\n",
            "dict_keys(['hcl', 'iyr', 'eyr', 'ecl', 'pid', 'byr', 'hgt'])\n",
            "minus cid\n",
            "{'hcl': '#cfa07d', 'eyr': '2025', 'pid': '166559648', 'iyr': '2011', 'ecl': 'brn', 'hgt': '59in'}\n",
            "dict_keys(['hcl', 'eyr', 'pid', 'iyr', 'ecl', 'hgt'])\n"
          ],
          "name": "stdout"
        },
        {
          "output_type": "execute_result",
          "data": {
            "text/plain": [
              "2"
            ]
          },
          "metadata": {
            "tags": []
          },
          "execution_count": 11
        }
      ]
    },
    {
      "cell_type": "code",
      "metadata": {
        "colab": {
          "resources": {
            "http://localhost:8080/nbextensions/google.colab/files.js": {
              "data": "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",
              "ok": true,
              "headers": [
                [
                  "content-type",
                  "application/javascript"
                ]
              ],
              "status": 200,
              "status_text": ""
            }
          },
          "base_uri": "https://localhost:8080/",
          "height": 73
        },
        "id": "1nso3JPGk8gd",
        "outputId": "2f050171-7916-4ff4-9ab1-9c58afad0af7"
      },
      "source": [
        "d4 = files.upload()"
      ],
      "execution_count": null,
      "outputs": [
        {
          "output_type": "display_data",
          "data": {
            "text/html": [
              "\n",
              "     <input type=\"file\" id=\"files-2021a511-e943-43a5-bebf-a39d6c3177cb\" name=\"files[]\" multiple disabled\n",
              "        style=\"border:none\" />\n",
              "     <output id=\"result-2021a511-e943-43a5-bebf-a39d6c3177cb\">\n",
              "      Upload widget is only available when the cell has been executed in the\n",
              "      current browser session. Please rerun this cell to enable.\n",
              "      </output>\n",
              "      <script src=\"/nbextensions/google.colab/files.js\"></script> "
            ],
            "text/plain": [
              "<IPython.core.display.HTML object>"
            ]
          },
          "metadata": {
            "tags": []
          }
        },
        {
          "output_type": "stream",
          "text": [
            "Saving day4.txt to day4.txt\n"
          ],
          "name": "stdout"
        }
      ]
    },
    {
      "cell_type": "code",
      "metadata": {
        "id": "LoE4Qp7VlEM7"
      },
      "source": [
        "check_valid(parse_input(d4['day4.txt'].decode()[:-1]))"
      ],
      "execution_count": null,
      "outputs": []
    },
    {
      "cell_type": "markdown",
      "metadata": {
        "id": "2-5CRmdplyhm"
      },
      "source": [
        "## Part 2\n",
        "\n",
        "more validation\n"
      ]
    },
    {
      "cell_type": "code",
      "metadata": {
        "id": "sWailcV-my0W"
      },
      "source": [
        "def check_fields(passport):\n",
        "  if set(passport.keys()) == ALL_KEYS:\n",
        "    return True\n",
        "  if set(passport.keys()) == MINUS_CID:\n",
        "    return True\n",
        "  else:\n",
        "    return False\n",
        "\n",
        "def check_byr(passport):\n",
        "  if  1920 <= int(passport['byr']) <= 2002:\n",
        "    return True\n",
        "  else:\n",
        "    print('rule byr')\n",
        "    return False\n",
        "\n",
        "def check_iyr(passport):\n",
        "  if 2010 <= int(passport['iyr']) <= 2020:\n",
        "    return True\n",
        "  else:\n",
        "    print('rule iyr')\n",
        "    return False\n",
        "\n",
        "def check_eyr(passport):\n",
        "  if 2020 <= int(passport['eyr']) <= 2030: \n",
        "    return True\n",
        "  else:\n",
        "    print('rule eyr')\n",
        "    return False\n",
        "  \n",
        "def check_hgt(passport):\n",
        "  if passport['hgt'][-2:] == 'cm':\n",
        "    if 150 <= int(passport['hgt'][:-2]) <= 193:\n",
        "      return True\n",
        "    else:\n",
        "      print('rule hgt cm')\n",
        "      return False\n",
        "  elif passport['hgt'][-2:] == 'in':\n",
        "    if 59 <= int(passport['hgt'][:-2]) <= 76:\n",
        "      return True\n",
        "    else:\n",
        "      print('rule hgt in')\n",
        "      return False\n",
        "  else:\n",
        "    return False\n",
        "\n",
        "def check_hcl(passport):\n",
        "  if passport['hcl'][0] != '#':\n",
        "    print('rule hcl')\n",
        "    return False\n",
        "    if len(re.findall(r'[a-f0-9]', passport['hcl'][1:])) != 6:\n",
        "      print('rule hcl nums')\n",
        "      return False\n",
        "  else:\n",
        "    return True\n",
        "\n",
        "def check_ecl(passport):\n",
        "  ECL = ['amb','blu','brn', 'gry', 'grn', 'hzl', 'oth']\n",
        "  if passport['ecl'] not in ECL:\n",
        "    print('rule ecl')\n",
        "    return False\n",
        "  else:\n",
        "    return True\n",
        "\n",
        "def check_pid(passport):\n",
        "  print('is reachable?')\n",
        "  pid = passport['pid']\n",
        "  if len(pid) != 9:\n",
        "    print('rule pid')\n",
        "    return False\n",
        "  if not pid.isnumeric():\n",
        "    print('rule pid')\n",
        "    return False\n",
        "  else:\n",
        "    return True\n",
        "\n",
        "def check_conditions(passport):\n",
        "  product = 1\n",
        "  if check_fields(passport):\n",
        "    product *= check_byr(passport)\n",
        "    product *= check_iyr(passport)\n",
        "    product *= check_eyr(passport)\n",
        "    product *= check_hgt(passport)\n",
        "    product *= check_hcl(passport)\n",
        "    product *= check_ecl(passport)\n",
        "    product *= check_pid(passport)\n",
        "    return product\n",
        "  else:\n",
        "    return False\n"
      ],
      "execution_count": null,
      "outputs": []
    },
    {
      "cell_type": "code",
      "metadata": {
        "id": "GGqOvTFa0kww"
      },
      "source": [
        "def check_valid(passports, debug=False):\n",
        "  num_valid = 0\n",
        "  for passport in passports:\n",
        "    if debug:\n",
        "      if debug in passport.keys(): \n",
        "        print(passport[debug]) \n",
        "    num_valid += check_conditions(passport)\n",
        "  return num_valid"
      ],
      "execution_count": null,
      "outputs": []
    },
    {
      "cell_type": "code",
      "metadata": {
        "id": "RtjnSClsH9Xq"
      },
      "source": [
        "test_invalid = \"\"\"eyr:1972 cid:100\n",
        "hcl:#18171d ecl:amb hgt:170 pid:186cm iyr:2018 byr:1926\n",
        "\n",
        "iyr:2019\n",
        "hcl:#602927 eyr:1967 hgt:170cm\n",
        "ecl:grn pid:012533040 byr:1946\n",
        "\n",
        "hcl:dab227 iyr:2012\n",
        "ecl:brn hgt:182cm pid:021572410 eyr:2020 byr:1992 cid:277\n",
        "\n",
        "hgt:59cm ecl:zzz\n",
        "eyr:2038 hcl:74454a iyr:2023\n",
        "pid:3556412378 byr:2007\"\"\"\n",
        "test_valid = \"\"\"pid:087499704 hgt:74in ecl:grn iyr:2012 eyr:2030 byr:1980\n",
        "hcl:#623a2f\n",
        "\n",
        "eyr:2029 ecl:blu cid:129 byr:1989\n",
        "iyr:2014 pid:896056539 hcl:#a97842 hgt:165cm\n",
        "\n",
        "hcl:#888785\n",
        "hgt:164cm byr:2001 iyr:2015 cid:88\n",
        "pid:545766238 ecl:hzl\n",
        "eyr:2022\n",
        "\n",
        "iyr:2010 hgt:158cm hcl:#b6652a ecl:blu byr:1944 eyr:2021 pid:093154719\"\"\""
      ],
      "execution_count": null,
      "outputs": []
    },
    {
      "cell_type": "code",
      "metadata": {
        "colab": {
          "base_uri": "https://localhost:8080/"
        },
        "id": "vvra8zwN14YK",
        "outputId": "a0a72a1a-255d-4d6a-ab8e-a64e524fd67f"
      },
      "source": [
        "num = '#9c3ea1'\n",
        "num.isnumeric() and len(num) ==9 "
      ],
      "execution_count": null,
      "outputs": [
        {
          "output_type": "execute_result",
          "data": {
            "text/plain": [
              "False"
            ]
          },
          "metadata": {
            "tags": []
          },
          "execution_count": 14
        }
      ]
    },
    {
      "cell_type": "code",
      "metadata": {
        "colab": {
          "base_uri": "https://localhost:8080/"
        },
        "id": "x9dSfCci1KTI",
        "outputId": "6b4e1582-77e0-4b80-d4c1-56583d9756c5"
      },
      "source": [
        "check_valid(parse_input(test_valid))"
      ],
      "execution_count": null,
      "outputs": [
        {
          "output_type": "stream",
          "text": [
            "is reachable?\n",
            "is reachable?\n",
            "is reachable?\n",
            "is reachable?\n"
          ],
          "name": "stdout"
        },
        {
          "output_type": "execute_result",
          "data": {
            "text/plain": [
              "4"
            ]
          },
          "metadata": {
            "tags": []
          },
          "execution_count": 20
        }
      ]
    },
    {
      "cell_type": "code",
      "metadata": {
        "colab": {
          "base_uri": "https://localhost:8080/"
        },
        "id": "lTJjbgBWCQgR",
        "outputId": "b257ca76-85a5-4fc6-e82c-5764e3ce64ff"
      },
      "source": [
        "check_iyr({'iyr':'2018'})*1"
      ],
      "execution_count": null,
      "outputs": [
        {
          "output_type": "execute_result",
          "data": {
            "text/plain": [
              "1"
            ]
          },
          "metadata": {
            "tags": []
          },
          "execution_count": 26
        }
      ]
    },
    {
      "cell_type": "code",
      "metadata": {
        "colab": {
          "base_uri": "https://localhost:8080/"
        },
        "id": "rltISIAE3O8v",
        "outputId": "ece27945-98fa-4896-db27-61382cf7624f"
      },
      "source": [
        "check_valid(parse_input(test_invalid), debug='hgt')"
      ],
      "execution_count": null,
      "outputs": [
        {
          "output_type": "stream",
          "text": [
            "170\n",
            "rule eyr\n",
            "is reachable?\n",
            "rule pid\n",
            "170cm\n",
            "rule eyr\n",
            "is reachable?\n",
            "182cm\n",
            "rule hcl\n",
            "is reachable?\n",
            "59cm\n",
            "rule byr\n",
            "rule iyr\n",
            "rule eyr\n",
            "rule hgt cm\n",
            "rule hcl\n",
            "rule ecl\n",
            "is reachable?\n",
            "rule pid\n"
          ],
          "name": "stdout"
        },
        {
          "output_type": "execute_result",
          "data": {
            "text/plain": [
              "0"
            ]
          },
          "metadata": {
            "tags": []
          },
          "execution_count": 30
        }
      ]
    },
    {
      "cell_type": "code",
      "metadata": {
        "colab": {
          "base_uri": "https://localhost:8080/"
        },
        "id": "6Qy7zwfr4BWK",
        "outputId": "9cd9d8d0-de40-46b6-9c7a-421c09f6bd34"
      },
      "source": [
        "check_valid(parse_input(d4['day4.txt'].decode()[:-1]), debug='pid')"
      ],
      "execution_count": null,
      "outputs": [
        {
          "output_type": "stream",
          "text": [
            "796082981\n",
            "8204115568\n",
            "rule byr\n",
            "rule eyr\n",
            "rule ecl\n",
            "is reachable?\n",
            "rule pid\n",
            "729933757\n",
            "is reachable?\n",
            "#9c3ea1\n",
            "#758e59\n",
            "rule byr\n",
            "rule iyr\n",
            "rule eyr\n",
            "rule hcl\n",
            "rule ecl\n",
            "is reachable?\n",
            "rule pid\n",
            "781914826\n",
            "is reachable?\n",
            "319110455\n",
            "is reachable?\n",
            "991343040\n",
            "188cm\n",
            "rule byr\n",
            "rule iyr\n",
            "rule eyr\n",
            "rule hcl\n",
            "rule ecl\n",
            "is reachable?\n",
            "rule pid\n",
            "705547886\n",
            "is reachable?\n",
            "016251942\n",
            "is reachable?\n",
            "117647952\n",
            "is reachable?\n",
            "362697676\n",
            "is reachable?\n",
            "779104554\n",
            "is reachable?\n",
            "#50f768\n",
            "rule byr\n",
            "rule iyr\n",
            "rule eyr\n",
            "rule hgt cm\n",
            "rule hcl\n",
            "rule ecl\n",
            "is reachable?\n",
            "rule pid\n",
            "951967790\n",
            "is reachable?\n",
            "320348494\n",
            "rule byr\n",
            "rule eyr\n",
            "rule hgt cm\n",
            "rule ecl\n",
            "is reachable?\n",
            "806979833\n",
            "is reachable?\n",
            "535752324\n",
            "203320330\n",
            "is reachable?\n",
            "#218eb5\n",
            "rule byr\n",
            "rule eyr\n",
            "rule hgt cm\n",
            "rule ecl\n",
            "is reachable?\n",
            "rule pid\n",
            "173148327\n",
            "is reachable?\n",
            "931162400\n",
            "is reachable?\n",
            "838964596\n",
            "is reachable?\n",
            "853714682\n",
            "is reachable?\n",
            "511588647\n",
            "is reachable?\n",
            "871652492\n",
            "is reachable?\n",
            "018982018\n",
            "is reachable?\n",
            "491710153\n",
            "rule eyr\n",
            "rule ecl\n",
            "is reachable?\n",
            "917105765\n",
            "149288934\n",
            "is reachable?\n",
            "705818464\n",
            "is reachable?\n",
            "117111015\n",
            "is reachable?\n",
            "215010680\n",
            "157cm\n",
            "rule iyr\n",
            "rule hgt in\n",
            "rule ecl\n",
            "is reachable?\n",
            "rule pid\n",
            "787186482\n",
            "is reachable?\n",
            "250679100\n",
            "is reachable?\n",
            "683134187\n",
            "is reachable?\n",
            "720794393\n",
            "is reachable?\n",
            "185583837\n",
            "is reachable?\n",
            "987624973\n",
            "is reachable?\n",
            "350988773\n",
            "is reachable?\n",
            "717504683\n",
            "is reachable?\n",
            "453874703\n",
            "is reachable?\n",
            "580659686\n",
            "is reachable?\n",
            "681417707\n",
            "is reachable?\n",
            "302326561\n",
            "is reachable?\n",
            "457081226\n",
            "is reachable?\n",
            "210415503\n",
            "524745721\n",
            "is reachable?\n",
            "679155617\n",
            "is reachable?\n",
            "509009432\n",
            "is reachable?\n",
            "446558583\n",
            "is reachable?\n",
            "330588516\n",
            "rule hgt cm\n",
            "is reachable?\n",
            "068138358\n",
            "is reachable?\n",
            "905992465\n",
            "is reachable?\n",
            "810311252\n",
            "616639221\n",
            "is reachable?\n",
            "594747312\n",
            "is reachable?\n",
            "134536806\n",
            "is reachable?\n",
            "035433923\n",
            "is reachable?\n",
            "82008848\n",
            "rule eyr\n",
            "rule hgt cm\n",
            "rule hcl\n",
            "rule ecl\n",
            "is reachable?\n",
            "rule pid\n",
            "087167304\n",
            "is reachable?\n",
            "593301831\n",
            "is reachable?\n",
            "014356555\n",
            "is reachable?\n",
            "558908746\n",
            "is reachable?\n",
            "#4f5b92\n",
            "is reachable?\n",
            "rule pid\n",
            "101990935\n",
            "is reachable?\n",
            "545992967\n",
            "rule ecl\n",
            "is reachable?\n",
            "256056759\n",
            "is reachable?\n",
            "813526512\n",
            "is reachable?\n",
            "5135078781\n",
            "rule byr\n",
            "rule iyr\n",
            "rule eyr\n",
            "rule hgt cm\n",
            "rule ecl\n",
            "is reachable?\n",
            "rule pid\n",
            "871628606\n",
            "is reachable?\n",
            "558371571\n",
            "908462345\n",
            "is reachable?\n",
            "106942710\n",
            "rule hcl\n",
            "is reachable?\n",
            "191542220\n",
            "is reachable?\n",
            "235913726\n",
            "481250123\n",
            "is reachable?\n",
            "2538922220\n",
            "rule byr\n",
            "rule iyr\n",
            "rule eyr\n",
            "rule hcl\n",
            "rule ecl\n",
            "is reachable?\n",
            "rule pid\n",
            "959660262\n",
            "780067045\n",
            "rule iyr\n",
            "rule eyr\n",
            "rule hgt cm\n",
            "rule ecl\n",
            "is reachable?\n",
            "902964474\n",
            "is reachable?\n",
            "339892714\n",
            "is reachable?\n",
            "561655785\n",
            "is reachable?\n",
            "579663338\n",
            "rule byr\n",
            "rule eyr\n",
            "rule ecl\n",
            "is reachable?\n",
            "252436521\n",
            "378073052\n",
            "rule iyr\n",
            "is reachable?\n",
            "286459107\n",
            "406853460\n",
            "is reachable?\n",
            "001798001\n",
            "is reachable?\n",
            "504383643\n",
            "is reachable?\n",
            "045813631\n",
            "is reachable?\n",
            "507769390\n",
            "is reachable?\n",
            "968062470\n",
            "is reachable?\n",
            "431922630\n",
            "is reachable?\n",
            "720065302\n",
            "is reachable?\n",
            "296913847\n",
            "is reachable?\n",
            "42057861\n",
            "rule byr\n",
            "rule iyr\n",
            "rule hcl\n",
            "rule ecl\n",
            "is reachable?\n",
            "rule pid\n",
            "064919306\n",
            "is reachable?\n",
            "248168906\n",
            "is reachable?\n",
            "806659387\n",
            "is reachable?\n",
            "001255475\n",
            "rule hgt cm\n",
            "rule ecl\n",
            "is reachable?\n",
            "194936105\n",
            "is reachable?\n",
            "625573908\n",
            "is reachable?\n",
            "997956152\n",
            "is reachable?\n",
            "138608494\n",
            "is reachable?\n",
            "459148475\n",
            "is reachable?\n",
            "469155516\n",
            "is reachable?\n",
            "064940030\n",
            "is reachable?\n",
            "834180009\n",
            "is reachable?\n",
            "021397352\n",
            "is reachable?\n",
            "157cm\n",
            "454188395\n",
            "is reachable?\n",
            "41117341\n",
            "rule byr\n",
            "rule iyr\n",
            "rule eyr\n",
            "rule hgt cm\n",
            "rule ecl\n",
            "is reachable?\n",
            "rule pid\n",
            "41316572\n",
            "is reachable?\n",
            "rule pid\n",
            "886168412\n",
            "rule byr\n",
            "rule iyr\n",
            "rule eyr\n",
            "rule hcl\n",
            "rule ecl\n",
            "is reachable?\n",
            "661569613\n",
            "is reachable?\n",
            "978855125\n",
            "is reachable?\n",
            "067088299\n",
            "is reachable?\n",
            "507464869\n",
            "is reachable?\n",
            "832017347\n",
            "is reachable?\n",
            "426496916\n",
            "is reachable?\n",
            "543125976\n",
            "is reachable?\n",
            "494399909\n",
            "is reachable?\n",
            "477259022\n",
            "is reachable?\n",
            "180cm\n",
            "rule byr\n",
            "rule eyr\n",
            "rule ecl\n",
            "is reachable?\n",
            "rule pid\n",
            "671271699\n",
            "is reachable?\n",
            "625435489\n",
            "is reachable?\n",
            "7952164402\n",
            "rule byr\n",
            "rule iyr\n",
            "rule eyr\n",
            "rule hcl\n",
            "rule ecl\n",
            "is reachable?\n",
            "rule pid\n",
            "165478949\n",
            "rule eyr\n",
            "rule hgt cm\n",
            "rule hcl\n",
            "is reachable?\n",
            "360279704\n",
            "is reachable?\n",
            "070592110\n",
            "is reachable?\n",
            "152140902\n",
            "is reachable?\n",
            "586853292\n",
            "rule eyr\n",
            "is reachable?\n",
            "422142863\n",
            "is reachable?\n",
            "42120034\n",
            "rule byr\n",
            "rule iyr\n",
            "rule eyr\n",
            "rule hgt cm\n",
            "is reachable?\n",
            "rule pid\n",
            "922322363\n",
            "is reachable?\n",
            "436567964\n",
            "834335216\n",
            "is reachable?\n",
            "186cm\n",
            "rule iyr\n",
            "rule hcl\n",
            "is reachable?\n",
            "rule pid\n",
            "743059641\n",
            "is reachable?\n",
            "089778639\n",
            "447599233\n",
            "is reachable?\n",
            "621084188\n",
            "is reachable?\n",
            "185cm\n",
            "rule byr\n",
            "rule iyr\n",
            "rule eyr\n",
            "rule hgt cm\n",
            "is reachable?\n",
            "rule pid\n",
            "445374119\n",
            "is reachable?\n",
            "286304911\n",
            "is reachable?\n",
            "365430749\n",
            "817081355\n",
            "is reachable?\n",
            "446342686\n",
            "is reachable?\n",
            "473752814\n",
            "is reachable?\n",
            "867697169\n",
            "531385722\n",
            "433963708\n",
            "is reachable?\n",
            "917147781\n",
            "857547233\n",
            "is reachable?\n",
            "557280094\n",
            "is reachable?\n",
            "682285472\n",
            "is reachable?\n",
            "2235389773\n",
            "387564370\n",
            "is reachable?\n",
            "230583200\n",
            "is reachable?\n",
            "298537901\n",
            "rule ecl\n",
            "is reachable?\n",
            "230816154\n",
            "is reachable?\n",
            "167899852\n",
            "is reachable?\n",
            "325078465\n",
            "is reachable?\n",
            "450468785\n",
            "is reachable?\n",
            "229016136\n",
            "#b1f685\n",
            "503853254\n",
            "is reachable?\n",
            "536474715\n",
            "rule iyr\n",
            "is reachable?\n",
            "048654766\n",
            "is reachable?\n",
            "844553043\n",
            "998276626\n",
            "is reachable?\n",
            "896953299\n",
            "is reachable?\n",
            "451819357\n",
            "is reachable?\n",
            "908304519\n",
            "is reachable?\n",
            "594830518\n",
            "is reachable?\n",
            "20921789\n",
            "rule byr\n",
            "rule iyr\n",
            "rule eyr\n",
            "rule hcl\n",
            "rule ecl\n",
            "is reachable?\n",
            "rule pid\n",
            "118638859\n",
            "is reachable?\n",
            "557999801\n",
            "is reachable?\n",
            "206008517\n",
            "039713280\n",
            "is reachable?\n",
            "696390563\n",
            "is reachable?\n",
            "712592503\n",
            "is reachable?\n",
            "082227536\n",
            "#97c11a\n",
            "rule iyr\n",
            "rule eyr\n",
            "rule hcl\n",
            "rule ecl\n",
            "is reachable?\n",
            "rule pid\n",
            "98689392\n",
            "rule eyr\n",
            "rule hcl\n",
            "is reachable?\n",
            "rule pid\n",
            "338398225\n",
            "is reachable?\n",
            "624798709\n",
            "631469024\n",
            "is reachable?\n",
            "417970460\n",
            "is reachable?\n",
            "9655548750\n",
            "736143470\n",
            "is reachable?\n",
            "638479310\n",
            "is reachable?\n",
            "804066884\n",
            "is reachable?\n",
            "200411701\n",
            "is reachable?\n",
            "613033358\n",
            "874302209\n",
            "is reachable?\n",
            "166cm\n",
            "rule byr\n",
            "rule iyr\n",
            "rule eyr\n",
            "rule hcl\n",
            "rule ecl\n",
            "is reachable?\n",
            "rule pid\n",
            "781251989\n",
            "671017167\n",
            "is reachable?\n",
            "369327568\n",
            "is reachable?\n",
            "169149205\n",
            "rule byr\n",
            "rule iyr\n",
            "rule eyr\n",
            "rule hgt cm\n",
            "rule hcl\n",
            "is reachable?\n",
            "941218673\n",
            "is reachable?\n",
            "792538993\n",
            "is reachable?\n",
            "#994231\n",
            "rule byr\n",
            "rule iyr\n",
            "rule eyr\n",
            "rule hcl\n",
            "rule ecl\n",
            "is reachable?\n",
            "rule pid\n",
            "22002588\n",
            "524515058\n",
            "5866040917\n",
            "rule byr\n",
            "rule eyr\n",
            "rule hgt cm\n",
            "rule hcl\n",
            "rule ecl\n",
            "is reachable?\n",
            "rule pid\n",
            "754032301\n",
            "153547581\n",
            "is reachable?\n",
            "368975422\n",
            "is reachable?\n",
            "535822939\n",
            "is reachable?\n",
            "706755664\n",
            "is reachable?\n",
            "852815945\n",
            "rule hcl\n",
            "is reachable?\n",
            "407158186\n",
            "567155642\n",
            "is reachable?\n",
            "782403650\n",
            "is reachable?\n",
            "639445576\n",
            "is reachable?\n",
            "714110829\n",
            "rule byr\n",
            "is reachable?\n",
            "455383907\n",
            "is reachable?\n",
            "462538213\n",
            "rule eyr\n",
            "is reachable?\n",
            "116799148\n",
            "654088396\n",
            "rule byr\n",
            "rule iyr\n",
            "rule ecl\n",
            "is reachable?\n",
            "401742648\n",
            "476691172\n",
            "is reachable?\n",
            "959615191\n",
            "6155507056\n",
            "397461435\n",
            "is reachable?\n",
            "172cm\n",
            "rule byr\n",
            "rule eyr\n",
            "rule hcl\n",
            "is reachable?\n",
            "rule pid\n",
            "045077916\n",
            "is reachable?\n",
            "717028913\n",
            "is reachable?\n",
            "825834003\n",
            "is reachable?\n",
            "677886127\n",
            "is reachable?\n",
            "771218458\n",
            "is reachable?\n",
            "913959218\n",
            "is reachable?\n",
            "874400552\n",
            "is reachable?\n",
            "130750853\n",
            "is reachable?\n",
            "200888672\n",
            "741121671\n",
            "is reachable?\n",
            "060053163\n",
            "is reachable?\n",
            "326991534\n",
            "888616887\n",
            "is reachable?\n",
            "472330538\n",
            "is reachable?\n",
            "601177268\n",
            "is reachable?\n",
            "440822084\n",
            "is reachable?\n",
            "166071094\n",
            "88829820\n",
            "rule iyr\n",
            "rule eyr\n",
            "rule hgt cm\n",
            "rule hcl\n",
            "rule ecl\n",
            "is reachable?\n",
            "rule pid\n",
            "585528668\n",
            "422437243\n",
            "054717793\n",
            "is reachable?\n",
            "071196833\n",
            "rule hgt in\n",
            "is reachable?\n",
            "963034490\n",
            "is reachable?\n",
            "771661551\n",
            "is reachable?\n",
            "190cm\n",
            "rule byr\n",
            "rule iyr\n",
            "rule eyr\n",
            "rule hcl\n",
            "rule ecl\n",
            "is reachable?\n",
            "rule pid\n",
            "170cm\n",
            "307867769\n",
            "is reachable?\n",
            "109243500\n",
            "is reachable?\n",
            "389818848\n",
            "is reachable?\n",
            "340990019\n",
            "is reachable?\n",
            "128094068\n",
            "is reachable?\n",
            "621875145\n",
            "is reachable?\n",
            "68093057\n",
            "rule eyr\n",
            "rule hcl\n",
            "rule ecl\n",
            "is reachable?\n",
            "rule pid\n",
            "714839913\n",
            "is reachable?\n",
            "820650878\n",
            "is reachable?\n",
            "600488426\n",
            "is reachable?\n",
            "261369952\n",
            "is reachable?\n",
            "745066100\n",
            "is reachable?\n",
            "5154675209\n",
            "528503931\n",
            "is reachable?\n",
            "346722892\n",
            "is reachable?\n",
            "760916817\n",
            "is reachable?\n",
            "411265118\n",
            "is reachable?\n",
            "937138356\n",
            "is reachable?\n",
            "793804751\n",
            "715207875\n",
            "is reachable?\n",
            "134624402\n",
            "is reachable?\n",
            "0484880795\n",
            "is reachable?\n",
            "rule pid\n",
            "752967111\n",
            "is reachable?\n",
            "175cm\n",
            "is reachable?\n",
            "rule pid\n",
            "054326137\n",
            "is reachable?\n",
            "659875882\n",
            "is reachable?\n",
            "494553757\n",
            "is reachable?\n",
            "405416908\n",
            "is reachable?\n"
          ],
          "name": "stdout"
        },
        {
          "output_type": "execute_result",
          "data": {
            "text/plain": [
              "188"
            ]
          },
          "metadata": {
            "tags": []
          },
          "execution_count": 31
        }
      ]
    },
    {
      "cell_type": "code",
      "metadata": {
        "colab": {
          "base_uri": "https://localhost:8080/"
        },
        "id": "yz_ST4RJ7Nj7",
        "outputId": "d5127a67-ab75-4379-bfa9-c61b05cddc17"
      },
      "source": [
        "check_pid('8204115568')"
      ],
      "execution_count": null,
      "outputs": [
        {
          "output_type": "stream",
          "text": [
            "is reachable?\n",
            "rule pid\n"
          ],
          "name": "stdout"
        },
        {
          "output_type": "execute_result",
          "data": {
            "text/plain": [
              "False"
            ]
          },
          "metadata": {
            "tags": []
          },
          "execution_count": 57
        }
      ]
    },
    {
      "cell_type": "code",
      "metadata": {
        "colab": {
          "base_uri": "https://localhost:8080/"
        },
        "id": "9R5LVbgGBIZv",
        "outputId": "97f212a3-f810-477c-e97e-9639c469db3b"
      },
      "source": [
        "prod = 2 \n",
        "prod *=2\n",
        "prod"
      ],
      "execution_count": null,
      "outputs": [
        {
          "output_type": "execute_result",
          "data": {
            "text/plain": [
              "4"
            ]
          },
          "metadata": {
            "tags": []
          },
          "execution_count": 3
        }
      ]
    },
    {
      "cell_type": "markdown",
      "metadata": {
        "id": "74-m0kMiNK_3"
      },
      "source": [
        "# Day 5\n",
        "\n",
        "binary partitioning"
      ]
    },
    {
      "cell_type": "code",
      "metadata": {
        "id": "K9LhTAQuM-pE"
      },
      "source": [
        "import numpy as np\n",
        "from google.colab import files"
      ],
      "execution_count": null,
      "outputs": []
    },
    {
      "cell_type": "code",
      "metadata": {
        "id": "cfUEBJmCSEIU"
      },
      "source": [
        "rows = np.arange(128)\n",
        "cols = np.arange(8)\n"
      ],
      "execution_count": null,
      "outputs": []
    },
    {
      "cell_type": "code",
      "metadata": {
        "id": "YuoPPC7ESu0q"
      },
      "source": [
        "def bisect(seats, dir):\n",
        "  half = int(len(seats)/2)\n",
        "  if dir in ['F','L']:\n",
        "    return seats[:half]\n",
        "  if dir in ['B','R']:\n",
        "    return seats[half:]"
      ],
      "execution_count": null,
      "outputs": []
    },
    {
      "cell_type": "code",
      "metadata": {
        "colab": {
          "base_uri": "https://localhost:8080/"
        },
        "id": "ng8o6aqmThnZ",
        "outputId": "0e8a8d26-6d7b-4c59-b255-10b5c1dc641a"
      },
      "source": [
        "bisect(seats,'L')"
      ],
      "execution_count": null,
      "outputs": [
        {
          "output_type": "execute_result",
          "data": {
            "text/plain": [
              "array([ 0,  1,  2,  3,  4,  5,  6,  7,  8,  9, 10, 11, 12, 13, 14, 15, 16,\n",
              "       17, 18, 19, 20, 21, 22, 23, 24, 25, 26, 27, 28, 29, 30, 31, 32, 33,\n",
              "       34, 35, 36, 37, 38, 39, 40, 41, 42, 43, 44, 45, 46, 47, 48, 49, 50,\n",
              "       51, 52, 53, 54, 55, 56, 57, 58, 59, 60, 61, 62, 63])"
            ]
          },
          "metadata": {
            "tags": []
          },
          "execution_count": 67
        }
      ]
    },
    {
      "cell_type": "code",
      "metadata": {
        "id": "zHenel15U9-Y"
      },
      "source": [
        "def find_seat(ins):\n",
        "  rows = np.arange(128)\n",
        "  cols = np.arange(8)\n",
        "  for char in ins[:7]:\n",
        "    rows = bisect(rows, char)\n",
        "  # return rows\n",
        "  for char in ins[7:]:\n",
        "    cols = bisect(cols, char)\n",
        "\n",
        "  return rows[0]*8+cols[0]\n"
      ],
      "execution_count": null,
      "outputs": []
    },
    {
      "cell_type": "code",
      "metadata": {
        "colab": {
          "base_uri": "https://localhost:8080/"
        },
        "id": "7xQ9ICWpVQD6",
        "outputId": "a1a422dd-2a72-47e1-ed92-1512ba8e43b2"
      },
      "source": [
        "find_seat('BBFFBBFRLL')"
      ],
      "execution_count": null,
      "outputs": [
        {
          "output_type": "execute_result",
          "data": {
            "text/plain": [
              "820"
            ]
          },
          "metadata": {
            "tags": []
          },
          "execution_count": 88
        }
      ]
    },
    {
      "cell_type": "code",
      "metadata": {
        "colab": {
          "resources": {
            "http://localhost:8080/nbextensions/google.colab/files.js": {
              "data": "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",
              "ok": true,
              "headers": [
                [
                  "content-type",
                  "application/javascript"
                ]
              ],
              "status": 200,
              "status_text": ""
            }
          },
          "base_uri": "https://localhost:8080/",
          "height": 73
        },
        "id": "_5pkkfXGWjWE",
        "outputId": "c00f0522-d498-4ac5-acee-e3b6c42cbd03"
      },
      "source": [
        "d5 = files.upload()"
      ],
      "execution_count": null,
      "outputs": [
        {
          "output_type": "display_data",
          "data": {
            "text/html": [
              "\n",
              "     <input type=\"file\" id=\"files-931e9529-754e-4959-948f-1ef93e8cb5f4\" name=\"files[]\" multiple disabled\n",
              "        style=\"border:none\" />\n",
              "     <output id=\"result-931e9529-754e-4959-948f-1ef93e8cb5f4\">\n",
              "      Upload widget is only available when the cell has been executed in the\n",
              "      current browser session. Please rerun this cell to enable.\n",
              "      </output>\n",
              "      <script src=\"/nbextensions/google.colab/files.js\"></script> "
            ],
            "text/plain": [
              "<IPython.core.display.HTML object>"
            ]
          },
          "metadata": {
            "tags": []
          }
        },
        {
          "output_type": "stream",
          "text": [
            "Saving day5.txt to day5.txt\n"
          ],
          "name": "stdout"
        }
      ]
    },
    {
      "cell_type": "code",
      "metadata": {
        "id": "gQMnb6WXWncc"
      },
      "source": [
        "input = d5['day5.txt'].decode().split()\n"
      ],
      "execution_count": null,
      "outputs": []
    },
    {
      "cell_type": "code",
      "metadata": {
        "id": "N9E5avxUWwoE"
      },
      "source": [
        "def find_max_ticket(ticks):\n",
        "  scores = []\n",
        "  for tick in ticks:\n",
        "    scores.append(find_seat(tick))\n",
        "  print(np.max(scores))\n",
        "  return scores"
      ],
      "execution_count": null,
      "outputs": []
    },
    {
      "cell_type": "code",
      "metadata": {
        "colab": {
          "base_uri": "https://localhost:8080/"
        },
        "id": "nanNn0lPXB9a",
        "outputId": "372f8dca-cde8-4e39-be95-8d48e5ffb4e3"
      },
      "source": [
        "ts = find_max_ticket(input)"
      ],
      "execution_count": null,
      "outputs": [
        {
          "output_type": "stream",
          "text": [
            "991\n"
          ],
          "name": "stdout"
        }
      ]
    },
    {
      "cell_type": "code",
      "metadata": {
        "colab": {
          "base_uri": "https://localhost:8080/"
        },
        "id": "5ukF51NoXjnp",
        "outputId": "d48637a2-4a9e-49f9-9014-07aa20a27cd5"
      },
      "source": [
        "for idx, ent in enumerate(ts[1:]):\n",
        "  if ent-ts[idx] == 2:\n",
        "    print(ent, ts[idx])"
      ],
      "execution_count": null,
      "outputs": [
        {
          "output_type": "stream",
          "text": [
            "535 533\n"
          ],
          "name": "stdout"
        }
      ]
    },
    {
      "cell_type": "markdown",
      "metadata": {
        "id": "Yl1epWCmSahA"
      },
      "source": [
        "# Day 6 \n",
        "\n",
        "Customs"
      ]
    },
    {
      "cell_type": "code",
      "metadata": {
        "id": "pF43Bz7VSebG"
      },
      "source": [
        "from google.colab import files\n",
        "test_input = \"\"\"abc\n",
        "\n",
        "a\n",
        "b\n",
        "c\n",
        "\n",
        "ab\n",
        "ac\n",
        "\n",
        "a\n",
        "a\n",
        "a\n",
        "a\n",
        "\n",
        "b\n",
        "\n",
        "\"\"\""
      ],
      "execution_count": null,
      "outputs": []
    },
    {
      "cell_type": "code",
      "metadata": {
        "colab": {
          "base_uri": "https://localhost:8080/"
        },
        "id": "n5yV7oKzSpQ6",
        "outputId": "525ec71a-37d7-4f05-8a44-6dc3fc46403e"
      },
      "source": [
        "test_input.replace('\\n\\n','\\n5\\n').split()"
      ],
      "execution_count": null,
      "outputs": [
        {
          "output_type": "execute_result",
          "data": {
            "text/plain": [
              "['abc',\n",
              " '5',\n",
              " 'a',\n",
              " 'b',\n",
              " 'c',\n",
              " '5',\n",
              " 'ab',\n",
              " 'ac',\n",
              " '5',\n",
              " 'a',\n",
              " 'a',\n",
              " 'a',\n",
              " 'a',\n",
              " '5',\n",
              " 'b',\n",
              " '5']"
            ]
          },
          "metadata": {
            "tags": []
          },
          "execution_count": 63
        }
      ]
    },
    {
      "cell_type": "code",
      "metadata": {
        "id": "8xcAn4puTMGl"
      },
      "source": [
        "def parse(inp):\n",
        "  return inp.replace('\\n\\n','\\n5\\n').split()"
      ],
      "execution_count": null,
      "outputs": []
    },
    {
      "cell_type": "code",
      "metadata": {
        "id": "62la0I1UTX3p"
      },
      "source": [
        "def flatten_list(t):\n",
        "  flat_list = [item for sublist in t for item in sublist]\n",
        "  return flat_list\n",
        "\n",
        "\n",
        "def get_score(groups):\n",
        "  score = 0\n",
        "  group_list =[]\n",
        "  for group in groups:\n",
        "    if group != '5':\n",
        "      if len(group) > 1:\n",
        "        group_list.append(list(group))\n",
        "      else:\n",
        "        group_list.append(list(group))\n",
        "    elif group == '5':\n",
        "      print(group_list)\n",
        "      flat = flatten_list(group_list)\n",
        "      group_score = len(set(flat))\n",
        "      # print(group_list,flat, group_score)\n",
        "      score += group_score\n",
        "      group_list = []\n",
        "    else:\n",
        "      raise ValueError('unexpected thing: ', group)\n",
        "  return score\n",
        "      "
      ],
      "execution_count": null,
      "outputs": []
    },
    {
      "cell_type": "code",
      "metadata": {
        "colab": {
          "base_uri": "https://localhost:8080/"
        },
        "id": "hh__XaUxUZnN",
        "outputId": "bd674ea0-968a-4cf4-812c-c2dbd6bb57ae"
      },
      "source": [
        "get_score(parse(test_input))"
      ],
      "execution_count": null,
      "outputs": [
        {
          "output_type": "stream",
          "text": [
            "[['a', 'b', 'c']]\n",
            "[['a'], ['b'], ['c']]\n",
            "[['a', 'b'], ['a', 'c']]\n",
            "[['a'], ['a'], ['a'], ['a']]\n",
            "[['b']]\n"
          ],
          "name": "stdout"
        },
        {
          "output_type": "execute_result",
          "data": {
            "text/plain": [
              "11"
            ]
          },
          "metadata": {
            "tags": []
          },
          "execution_count": 73
        }
      ]
    },
    {
      "cell_type": "code",
      "metadata": {
        "colab": {
          "resources": {
            "http://localhost:8080/nbextensions/google.colab/files.js": {
              "data": "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",
              "ok": true,
              "headers": [
                [
                  "content-type",
                  "application/javascript"
                ]
              ],
              "status": 200,
              "status_text": ""
            }
          },
          "base_uri": "https://localhost:8080/",
          "height": 73
        },
        "id": "nlcqSTEsX9fF",
        "outputId": "0b344dc0-8a8d-4815-e079-799b9a16cd58"
      },
      "source": [
        "d6 = files.upload()"
      ],
      "execution_count": null,
      "outputs": [
        {
          "output_type": "display_data",
          "data": {
            "text/html": [
              "\n",
              "     <input type=\"file\" id=\"files-6060b1cf-5ebb-4c50-9f75-971fe832e7f9\" name=\"files[]\" multiple disabled\n",
              "        style=\"border:none\" />\n",
              "     <output id=\"result-6060b1cf-5ebb-4c50-9f75-971fe832e7f9\">\n",
              "      Upload widget is only available when the cell has been executed in the\n",
              "      current browser session. Please rerun this cell to enable.\n",
              "      </output>\n",
              "      <script src=\"/nbextensions/google.colab/files.js\"></script> "
            ],
            "text/plain": [
              "<IPython.core.display.HTML object>"
            ]
          },
          "metadata": {
            "tags": []
          }
        },
        {
          "output_type": "stream",
          "text": [
            "Saving day6.txt to day6 (1).txt\n"
          ],
          "name": "stdout"
        }
      ]
    },
    {
      "cell_type": "code",
      "metadata": {
        "id": "98hQ0GS8YIKj"
      },
      "source": [
        "get_score(parse(d6['day6.txt'].decode()))"
      ],
      "execution_count": null,
      "outputs": []
    },
    {
      "cell_type": "code",
      "metadata": {
        "id": "DMis1TfeZZhb"
      },
      "source": [
        "def get_score2(groups):\n",
        "  score = 0\n",
        "  group_list =[]\n",
        "  for group in groups:\n",
        "    if group != '5':\n",
        "      print(group)\n",
        "      if len(group) > 1:\n",
        "        group_list.append(list(group))\n",
        "      else:\n",
        "        group_list.append(list(group))\n",
        "    elif group == '5':\n",
        "      # print(group_list, len(group_list))\n",
        "      if len(group_list) > 1:\n",
        "        foo = [set(x) for x in group_list[1:]]\n",
        "        # print(foo)\n",
        "        u = set(group_list[0]).intersection(*foo)\n",
        "        group_score = len(u)\n",
        "        # print(len(u),u)\n",
        "        score += group_score\n",
        "      else:\n",
        "        score += len(group_list[0])\n",
        "        # print('single entry', group_list, score)\n",
        "      group_list = []\n",
        "    else:\n",
        "      raise ValueError('unexpected thing: ', group)\n",
        "  return score"
      ],
      "execution_count": null,
      "outputs": []
    },
    {
      "cell_type": "code",
      "metadata": {
        "colab": {
          "base_uri": "https://localhost:8080/"
        },
        "id": "oSGxc4kDaVhL",
        "outputId": "5a47f95b-4448-41f4-9644-1dbbfa56545b"
      },
      "source": [
        "foo = [['a'], ['b'], ['c']]\n",
        "{'a'}.intersection(*[{'b'},{'c'}])\n",
        "\n"
      ],
      "execution_count": null,
      "outputs": [
        {
          "output_type": "execute_result",
          "data": {
            "text/plain": [
              "set()"
            ]
          },
          "metadata": {
            "tags": []
          },
          "execution_count": 124
        }
      ]
    },
    {
      "cell_type": "code",
      "metadata": {
        "colab": {
          "base_uri": "https://localhost:8080/",
          "height": 186
        },
        "id": "1buUTkjfa58R",
        "outputId": "9dbce0f3-6221-47db-fc5b-ea3cf0d12823"
      },
      "source": [
        "boo = [set(x) for x in foo[1:]]\n",
        "{'a'}.union(boo)"
      ],
      "execution_count": null,
      "outputs": [
        {
          "output_type": "error",
          "ename": "TypeError",
          "evalue": "ignored",
          "traceback": [
            "\u001b[0;31m---------------------------------------------------------------------------\u001b[0m",
            "\u001b[0;31mTypeError\u001b[0m                                 Traceback (most recent call last)",
            "\u001b[0;32m<ipython-input-105-1d4c175a422c>\u001b[0m in \u001b[0;36m<module>\u001b[0;34m()\u001b[0m\n\u001b[1;32m      1\u001b[0m \u001b[0mboo\u001b[0m \u001b[0;34m=\u001b[0m \u001b[0;34m[\u001b[0m\u001b[0mset\u001b[0m\u001b[0;34m(\u001b[0m\u001b[0mx\u001b[0m\u001b[0;34m)\u001b[0m \u001b[0;32mfor\u001b[0m \u001b[0mx\u001b[0m \u001b[0;32min\u001b[0m \u001b[0mfoo\u001b[0m\u001b[0;34m[\u001b[0m\u001b[0;36m1\u001b[0m\u001b[0;34m:\u001b[0m\u001b[0;34m]\u001b[0m\u001b[0;34m]\u001b[0m\u001b[0;34m\u001b[0m\u001b[0;34m\u001b[0m\u001b[0m\n\u001b[0;32m----> 2\u001b[0;31m \u001b[0;34m{\u001b[0m\u001b[0;34m'a'\u001b[0m\u001b[0;34m}\u001b[0m\u001b[0;34m.\u001b[0m\u001b[0munion\u001b[0m\u001b[0;34m(\u001b[0m\u001b[0mboo\u001b[0m\u001b[0;34m)\u001b[0m\u001b[0;34m\u001b[0m\u001b[0;34m\u001b[0m\u001b[0m\n\u001b[0m",
            "\u001b[0;31mTypeError\u001b[0m: unhashable type: 'set'"
          ]
        }
      ]
    },
    {
      "cell_type": "code",
      "metadata": {
        "colab": {
          "base_uri": "https://localhost:8080/"
        },
        "id": "rRWZlOleZmM7",
        "outputId": "51e2248a-59b0-46d5-bc4b-6976946a2a0f"
      },
      "source": [
        "get_score2(parse(test_input))"
      ],
      "execution_count": null,
      "outputs": [
        {
          "output_type": "stream",
          "text": [
            "abc\n",
            "a\n",
            "b\n",
            "c\n",
            "ab\n",
            "ac\n",
            "a\n",
            "a\n",
            "a\n",
            "a\n",
            "b\n"
          ],
          "name": "stdout"
        },
        {
          "output_type": "execute_result",
          "data": {
            "text/plain": [
              "6"
            ]
          },
          "metadata": {
            "tags": []
          },
          "execution_count": 138
        }
      ]
    },
    {
      "cell_type": "code",
      "metadata": {
        "colab": {
          "base_uri": "https://localhost:8080/"
        },
        "id": "HnPAnevRdb8R",
        "outputId": "dfa03054-29fe-4027-eb1b-5f145d3f3e02"
      },
      "source": [
        "get_score2(parse(d6['day6.txt'].decode()))"
      ],
      "execution_count": null,
      "outputs": [
        {
          "output_type": "stream",
          "text": [
            "gqraplu\n",
            "jmwftidynvozkhe\n",
            "cbhejsplztndvig\n",
            "duzpteclshfgbinvj\n",
            "zvbhdtnigplsej\n",
            "ztsbdixmegljhnvapy\n",
            "syrulqjamnixpwz\n",
            "yrjinauqxlz\n",
            "yrazqnujxli\n",
            "zlnorxjiayqhu\n",
            "n\n",
            "gn\n",
            "n\n",
            "yx\n",
            "oxh\n",
            "fx\n",
            "joewxkpzyvldqfricsn\n",
            "xqfsnyevltrmcdpiwz\n",
            "pvyxdlnzcqwrseif\n",
            "cagnvpqwfbzxuyreidl\n",
            "lqbpai\n",
            "quplimxcojkrt\n",
            "sziyc\n",
            "lsvkuhei\n",
            "kctsidr\n",
            "xkmousi\n",
            "sbjnqgafwi\n",
            "ur\n",
            "nu\n",
            "u\n",
            "u\n",
            "u\n",
            "kgehjantorqdumzfwpivlb\n",
            "dvziasuthgmplfwnrqok\n",
            "ejo\n",
            "zs\n",
            "fgbmsua\n",
            "gimuqbfv\n",
            "lfzugbm\n",
            "uvbfmgp\n",
            "iagmbpfhu\n",
            "bqntdexkfvpwl\n",
            "evjblkfxcduyn\n",
            "trmxfbvklynz\n",
            "svginkxflabh\n",
            "gdtafy\n",
            "dtygafo\n",
            "dagfyt\n",
            "ydaftg\n",
            "gdatyf\n",
            "ygwkouhpmqseb\n",
            "plokghuzxwybeam\n",
            "hncokugxmbpsye\n",
            "ogfkejuvbmyhp\n",
            "hmpnlcregoukqysb\n",
            "qgm\n",
            "xhgjcpmt\n",
            "elswfzdgvnoyiu\n",
            "mgx\n",
            "kagbr\n",
            "jxiaofcy\n",
            "vrtpbkhles\n",
            "d\n",
            "d\n",
            "d\n",
            "n\n",
            "d\n",
            "yidoljquknxpeaz\n",
            "jxevznrpdlkqsiumao\n",
            "opilqzajdxnemukr\n",
            "hewjdganufopkizxlqb\n",
            "prwydlbnkhgoqvsxmafeuj\n",
            "hwegbjqxrlmfpvysnakduo\n",
            "ntdzifwmhxkcpg\n",
            "gmciznhtu\n",
            "bvrcmgo\n",
            "gvbrcom\n",
            "movrbgc\n",
            "vrmobgc\n",
            "uq\n",
            "qeu\n",
            "yequ\n",
            "qpbumck\n",
            "nqu\n",
            "m\n",
            "wlgkmze\n",
            "m\n",
            "ytazsmxvhpw\n",
            "wphytzvax\n",
            "zaxwyfthvpc\n",
            "aphzswtxvyok\n",
            "xmd\n",
            "xmd\n",
            "q\n",
            "u\n",
            "u\n",
            "y\n",
            "nrwzuibkxy\n",
            "yjekmus\n",
            "iah\n",
            "liah\n",
            "hapimu\n",
            "auhi\n",
            "whtia\n",
            "waxngytpedkcohu\n",
            "nicsaypkvztwujleofxrh\n",
            "qhopntywekxabuc\n",
            "cpawenqyokthxu\n",
            "ztpgmojkuasni\n",
            "tkgipajonszum\n",
            "snzpkiaugmojt\n",
            "uzniostakjpgm\n",
            "uvlxwrgyb\n",
            "unywtravxlg\n",
            "frglqxuiwy\n",
            "hnybo\n",
            "nhyo\n",
            "onhy\n",
            "qbiayve\n",
            "tbmrhxc\n",
            "ifgubhacvkwndempsqyto\n",
            "oeikgsmwvathyfqupzdnrb\n",
            "aopbwqgtxfeikhvsdnumy\n",
            "sdcoulxfwkyh\n",
            "ylshkufxod\n",
            "kdptsfuohvxly\n",
            "lpinkvcmbjgfzstoyr\n",
            "yonrjzpktmfbisc\n",
            "ifkzmcopsrybtjn\n",
            "zscptibfykromjn\n",
            "djfzwn\n",
            "lsvbyqth\n",
            "cfxed\n",
            "dnzgw\n",
            "ukbx\n",
            "bh\n",
            "mrxewvdultgp\n",
            "pkwvlgjtmxid\n",
            "pax\n",
            "xa\n",
            "rjlxa\n",
            "axp\n",
            "blpq\n",
            "uyfaqwbpls\n",
            "lnbqp\n",
            "qplbzn\n",
            "bnqpl\n",
            "viezwmdhxnbpcuq\n",
            "snwlzhdycvbikqpu\n",
            "xjoarpudhzcqvbklsf\n",
            "puqhzfxcraobkvsdl\n",
            "svalkqorzuhxndcpfb\n",
            "zqhkvusbcoalprfdx\n",
            "qrav\n",
            "qrav\n",
            "avqr\n",
            "avqr\n",
            "vqar\n",
            "mgizycqbaksjofwtdphn\n",
            "qshodcwfbygpmtikjna\n",
            "gbhdawmjyofsqtnckpi\n",
            "mgufwjpithybodqscnak\n",
            "drkwnmigxc\n",
            "xndwkrmi\n",
            "kdxranwim\n",
            "krxdwiynm\n",
            "nzvgidp\n",
            "dzvpig\n",
            "vzgdp\n",
            "vpgdzh\n",
            "pvzgd\n",
            "owzvyrsqlaefxut\n",
            "afslqrywvueoztx\n",
            "wzxqartvuioyelsf\n",
            "evqlwzxustarfyo\n",
            "zetoqsulxyfvawr\n",
            "rvydefukzonxmshw\n",
            "yhxenwmdvsfz\n",
            "hnzwxivsmdfbey\n",
            "hzqkpmrgeldniwo\n",
            "nelihzrkpwmgdoq\n",
            "zhdixrmpownegqbkl\n",
            "lpjkgzhnurwymodesiq\n",
            "hrgevlonqmbcdzikwp\n",
            "zmxskldyfobp\n",
            "efwzjdyok\n",
            "zyihvutofadk\n",
            "dokzeryfgc\n",
            "inbs\n",
            "bsni\n",
            "snib\n",
            "sbni\n",
            "inkbs\n",
            "kuhimvsfetnobjayzrxpclq\n",
            "mpyqbtfncerkujzlivaxhos\n",
            "khxmojcyuvpqrbitlafzesn\n",
            "yjckvrfontsphzabmleuixq\n",
            "lhpjmaefbnkyciuortsqxzv\n",
            "zrlyvkgwsinbteaxcuqdmf\n",
            "sqnagelwkbydrxtmufcizv\n",
            "dicxqvlgoenabwrtkufsymz\n",
            "exvqrkmulnsayzbwdcfgti\n",
            "vkgulsxywafinecrbtzdmq\n",
            "whpx\n",
            "hwpxtme\n",
            "nwrvhpx\n",
            "hpwx\n",
            "rwxhp\n",
            "q\n",
            "vz\n",
            "q\n",
            "x\n",
            "wyaum\n",
            "ouzj\n",
            "nrqsahcif\n",
            "bnia\n",
            "nzia\n",
            "neditjrwlm\n",
            "ncovfirzdl\n",
            "qrhabpxkus\n",
            "ypbtzriv\n",
            "dsgj\n",
            "bfk\n",
            "nq\n",
            "xuegjwzf\n",
            "xbjonevumgf\n",
            "stxl\n",
            "tsl\n",
            "lstyf\n",
            "vcpja\n",
            "pjacv\n",
            "cvajp\n",
            "jyacpv\n",
            "hurbisxv\n",
            "vrusibhwx\n",
            "khxiqsbturgl\n",
            "szbahofeinjurx\n",
            "cdgbs\n",
            "smpb\n",
            "nxapgmhuise\n",
            "hlgafojqykxpwuv\n",
            "rbhigaceuxmp\n",
            "ia\n",
            "ia\n",
            "ia\n",
            "ia\n",
            "ai\n",
            "romdclz\n",
            "sbpyaqjeicfxwv\n",
            "ogdhrcun\n",
            "dklct\n",
            "bwpjlzmakrhtgcyd\n",
            "lywtdgmrpzahkcj\n",
            "zcywdpokjahmgrlt\n",
            "thkcypzljgfadrmw\n",
            "ahtdmzlrygpjfkcw\n",
            "lqozhpxswn\n",
            "aegvhkjo\n",
            "mvrhzutxkewbyfdnqjgoics\n",
            "efnzyojvstdhgqrcxwukbim\n",
            "eiqctujxmbovyapflhsnrd\n",
            "amlunxrvdkpswzfcyoebqjti\n",
            "ftmj\n",
            "fxntmhgzyva\n",
            "rpamxuvse\n",
            "trsxyfbg\n",
            "wdcqkoli\n",
            "xsovbqdiaztnm\n",
            "mjospzaqdcbvlyixn\n",
            "obdqizsmavnx\n",
            "lyqonstrvwk\n",
            "oswnltrkqvy\n",
            "oqvlnkyswtr\n",
            "pzyxdkcb\n",
            "msuyp\n",
            "jbtfnimyhgeau\n",
            "ubjenfatihg\n",
            "ipheugjnatbf\n",
            "bohtinfxd\n",
            "whiofqdx\n",
            "ifjgmrdeco\n",
            "i\n",
            "i\n",
            "i\n",
            "ji\n",
            "i\n",
            "ojvu\n",
            "juv\n",
            "ujv\n",
            "jvu\n",
            "ujvn\n",
            "qvjyraeugi\n",
            "jaigryeuqv\n",
            "auirgyvejq\n",
            "l\n",
            "l\n",
            "l\n",
            "l\n",
            "wcvneqijzlu\n",
            "jpfmawgnrts\n",
            "tndmxhwjo\n",
            "ikybgcsdhfjqewramz\n",
            "zdyiuchgwkreqbjafxp\n",
            "hwxbvmodf\n",
            "vwfmbxdoh\n",
            "bovxmfdwh\n",
            "hofvwmdbx\n",
            "wodvfbmxh\n",
            "kvqer\n",
            "kverq\n",
            "vqrke\n",
            "kevqrmg\n",
            "lmcprdquzfojbwg\n",
            "uzdljoqrphgcbfm\n",
            "rpmnvlucjgzbfdqox\n",
            "anevrywoscfgmd\n",
            "pkorawscmf\n",
            "rcumfipoaws\n",
            "udfjiq\n",
            "urqvjitfd\n",
            "jfduqi\n",
            "al\n",
            "l\n",
            "hqmtedniw\n",
            "tnqdihmwez\n",
            "y\n",
            "qy\n",
            "y\n",
            "ley\n",
            "ph\n",
            "hp\n",
            "czogpbqrswyemujkdxvh\n",
            "hbycpwtxueksovzrdgmnqj\n",
            "ukoegrcvsbpwqymdjhxz\n",
            "ihly\n",
            "nyd\n",
            "vydw\n",
            "sjvkuolzixacqnbfm\n",
            "milvqkuzfaxbjcnos\n",
            "vptqewkl\n",
            "jitqrhcebp\n",
            "hmdjfebzynqoic\n",
            "jehbiqsxcvw\n",
            "yvejfgpdhwr\n",
            "sclkjzqgdaitbx\n",
            "molycdpuqtezsaikfgb\n",
            "rawhmiuxgbsjkqpftzceyldo\n",
            "ykpfmgcadezvsqtuboil\n",
            "cfy\n",
            "fyc\n",
            "fycjz\n",
            "ycf\n",
            "nvgokp\n",
            "dvlrym\n",
            "vbxq\n",
            "viec\n",
            "tshpkilmfn\n",
            "rahptloqnmwze\n",
            "hcdtgmlpjn\n",
            "warkbezshofylgpvc\n",
            "smfyaicelhvpk\n",
            "chpnfkyeaxqvsluj\n",
            "hcqpatlmdvsfkyei\n",
            "mdvxgrpbnaeohkitc\n",
            "cmkixqptgeo\n",
            "mflsxckyzgjpuoe\n",
            "pmdcxqevkorg\n",
            "jsqdlxcmrnkahgwipfeuz\n",
            "zmbjurenytxsaglqpvfwhkic\n",
            "ipxjszkgrwdhufaqcelnm\n",
            "kelwzuhjsmxngripqfcda\n",
            "qjeilf\n",
            "li\n",
            "mswnadl\n",
            "edlsrkoungwibthcp\n",
            "skwbtjpcervoldi\n",
            "fseklbitcpomwqr\n",
            "ktcprsbzweihol\n",
            "htdqfkovwjyezu\n",
            "thobwyfzuldvjem\n",
            "yvduezhfjtow\n",
            "eyhwunjzkdvfto\n",
            "fhejnzdytovwixu\n",
            "fwhtnj\n",
            "hjwfntl\n",
            "ftujnwh\n",
            "hbtwjnf\n",
            "t\n",
            "e\n",
            "t\n",
            "t\n",
            "z\n",
            "nqxcusyotzefvph\n",
            "yeocxkiutgmsqf\n",
            "ckjyemquxsofwtgd\n",
            "tmzfevydagckuhqlx\n",
            "byvufxtmcrlaqzed\n",
            "upctzjfxaleysmdvq\n",
            "evcxlnmfdtuyqza\n",
            "tqoecfdzivxmuyabl\n",
            "shgxmojtwil\n",
            "dzkqounrelcxw\n",
            "bwfyohxl\n",
            "mcvryskujtwfegnqzpoabl\n",
            "kqviphnbclosfegjw\n",
            "cm\n",
            "cm\n",
            "icm\n",
            "bgaxzljdmnikfwty\n",
            "inflydazkjwrvmcb\n",
            "mblkduehjyaqziwfn\n",
            "ifbmwdjznyxgakol\n",
            "imfdlwabhkynzj\n",
            "jlrwutvxeh\n",
            "jlrdwhtvxeu\n",
            "rjkhluwetxpv\n",
            "lwikdzhvmc\n",
            "cyredwfnkizs\n",
            "gxb\n",
            "x\n",
            "x\n",
            "yeguzh\n",
            "zgh\n",
            "hpzc\n",
            "paglzktcsyewuvboq\n",
            "cgloauxwzvqsyktepb\n",
            "y\n",
            "m\n",
            "b\n",
            "b\n",
            "jogqmp\n",
            "imogpj\n",
            "mgnpjoa\n",
            "icgwq\n",
            "cwig\n",
            "piyuamfk\n",
            "idyufmopea\n",
            "acfuzgniypm\n",
            "ipkmh\n",
            "ibhklmp\n",
            "phimk\n",
            "tihpkm\n",
            "pcvkhuzmyni\n",
            "jugsl\n",
            "lujh\n",
            "luyirmj\n",
            "ljgsu\n",
            "jlu\n",
            "gzbesjik\n",
            "pzisbjekg\n",
            "zjksigbe\n",
            "mdp\n",
            "mdcp\n",
            "omd\n",
            "xqmwcdp\n",
            "ikrfdyjlm\n",
            "wgdjmfbrntluzkysipq\n",
            "pfiknrqtbzglyuwjsmd\n",
            "wgbfixvksaejo\n",
            "jph\n",
            "wtsyo\n",
            "ysw\n",
            "qyl\n",
            "ulsbickanygpxqwzhmjf\n",
            "faqugxicyljwpzhsnkbm\n",
            "zhrdfgxw\n",
            "xgzqfmd\n",
            "flkjdgxz\n",
            "yzfcbdxvneg\n",
            "ndxfgzo\n",
            "ilkpncyqfbvorhtwexjds\n",
            "iaebcyqudfprh\n",
            "mqefrdbhcpyi\n",
            "cdrhypiefbgq\n",
            "zefqwirsglpjv\n",
            "hdivwsnqb\n",
            "vzcexgstnfk\n",
            "farxkgzcsbnevt\n",
            "sfczvtgnxke\n",
            "txepoknzgsvfc\n",
            "ksnevtfxcgz\n",
            "yrlnqwvpmeiuxt\n",
            "xqpirlhnymowuv\n",
            "xan\n",
            "jpfa\n",
            "aczoup\n",
            "cja\n",
            "aibgwevkh\n",
            "m\n",
            "sml\n",
            "opu\n",
            "rdbchfwvyamizs\n",
            "bofxszcamyrjdh\n",
            "rzsntcpmalgyh\n",
            "ftevgjrbkxmnuidsaqz\n",
            "gexasrutkivfbdzqnjm\n",
            "dnimrtkeugfzajsxvqb\n",
            "quaxkivgnjdrtfbzems\n",
            "qxriuendmbagfjzvkst\n",
            "wthspyrxaijgbkzumvolqe\n",
            "ovrgyukexzmpqjhflwit\n",
            "tizgwxorvepjkyhlqum\n",
            "urlwhtzkvjdqgoximype\n",
            "revuqwpogzimyhlxtkj\n",
            "edpukhotxswnb\n",
            "dstnhbueokwpx\n",
            "yhqwopgnutivk\n",
            "qiotnupkvyw\n",
            "znjofavtsgrkh\n",
            "jvahkzotsfgnr\n",
            "vhfnrsgtkzoaj\n",
            "gfathnzrkosjv\n",
            "tvzfsrkjohnga\n",
            "evyutzwhmxdk\n",
            "zxrmsqvfbiwojpg\n",
            "re\n",
            "ktrhjfiz\n",
            "c\n",
            "aldugvpqybnx\n",
            "waexnqfbrul\n",
            "ertydvxu\n",
            "urxe\n",
            "echxuor\n",
            "rxeu\n",
            "qtnxbpklyjiw\n",
            "dmvocgqbp\n",
            "berqpiuz\n",
            "hrbkzqp\n",
            "jrypbsqa\n",
            "brhqpmziaxfgle\n",
            "rwuzlfenmihpg\n",
            "lfcmprhazeig\n",
            "suzhwbrpe\n",
            "clpusebrwai\n",
            "pbeasgrofnwu\n",
            "dvjwstpxqerkymub\n",
            "kbouvjnqaysmgrhtwp\n",
            "szdvbjhwpxygunfomkt\n",
            "gtkleonjbyhmipvsw\n",
            "mub\n",
            "bmu\n",
            "cfhsjuqrin\n",
            "jfinqcrbshu\n",
            "nwyjcuflmsrgxdeqhi\n",
            "fhiucqjrnso\n",
            "kdznqiyxu\n",
            "emzsrpac\n",
            "cszabv\n",
            "idvqsgemlu\n",
            "sdlmevqu\n",
            "qlmspeudv\n",
            "lo\n",
            "ol\n",
            "zcdu\n",
            "bcqmdupjzr\n",
            "luazkdc\n",
            "wrju\n",
            "wuj\n",
            "jauw\n",
            "cuwgj\n",
            "jurw\n",
            "sypfjcxmkzh\n",
            "vrgpzcytm\n",
            "pcdzmyo\n",
            "brmwegzynqcp\n",
            "auzvcpqmy\n",
            "qdtxj\n",
            "dpjq\n",
            "qluajd\n",
            "bgvldaj\n",
            "cxb\n",
            "bxc\n",
            "rubxf\n",
            "ziadtsbvuchlofeyjg\n",
            "oajlevkdyirbtgqc\n",
            "egldjvaiqtybkcor\n",
            "litcrbeaojmdvgyx\n",
            "itcn\n",
            "csjftqn\n",
            "ntwc\n",
            "tncw\n",
            "aqlmydwfn\n",
            "nwliqmfjca\n",
            "qwhlmnfa\n",
            "nfamqlw\n",
            "igxtv\n",
            "gvxt\n",
            "dlrkztoe\n",
            "gbcdeotf\n",
            "dyeoit\n",
            "gcdetxo\n",
            "yuso\n",
            "xaesw\n",
            "zfsy\n",
            "su\n",
            "wq\n",
            "wq\n",
            "wq\n",
            "qxtw\n",
            "qw\n",
            "fynaektqvcbozhdxpuw\n",
            "wzirdbecylampuqs\n",
            "r\n",
            "wcpazh\n",
            "pbnyxkt\n",
            "lgk\n",
            "evdsiuq\n",
            "tshrjadlymb\n",
            "hrftismyjald\n",
            "emwljutyarqsdgho\n",
            "stjxdhrlmapy\n",
            "tajsdhmlrpy\n",
            "amb\n",
            "jvadbm\n",
            "fms\n",
            "ramjv\n",
            "hgtnqywzmkx\n",
            "skmwcopgnfhuab\n",
            "mpjvx\n",
            "mrtp\n",
            "tympq\n",
            "mp\n",
            "j\n",
            "vjtu\n",
            "scf\n",
            "t\n",
            "avwomuriqfelzsdnhjybptkg\n",
            "yeltqzspmdkihnjvuwfgboar\n",
            "nhkequsi\n",
            "huifnmwsqg\n",
            "mnosihugp\n",
            "iuyhaslbjvntxr\n",
            "piuzshno\n",
            "rdguywbhevoaf\n",
            "aojdgvhbrqyew\n",
            "dtcipqw\n",
            "dktic\n",
            "cetsfid\n",
            "idctm\n",
            "citd\n",
            "xjnzvmlpi\n",
            "vduwgtsy\n",
            "xfybrjwtkndm\n",
            "guxtyvfabjn\n",
            "jetfoqnxplyzi\n",
            "brosek\n",
            "soberk\n",
            "borsek\n",
            "skrboxdze\n",
            "uadtqoi\n",
            "itaqud\n",
            "udqtia\n",
            "ijqrfe\n",
            "ijqe\n",
            "oqvj\n",
            "vernidqwmzpho\n",
            "wpvzhmoeid\n",
            "mviodhpzwe\n",
            "ikultrxhjoz\n",
            "kihjlutzx\n",
            "xihkzlujt\n",
            "tuixjzhelk\n",
            "jxhlutzik\n",
            "ztnmevyjlbisdfupgkrwq\n",
            "iaxytmouwljksngh\n",
            "ya\n",
            "y\n",
            "y\n",
            "y\n",
            "y\n",
            "dfizts\n",
            "fvslqiwtc\n",
            "xdsgzitf\n",
            "siptfmh\n",
            "iskrnutyfe\n",
            "czlaqjrxoeivgpbsnkym\n",
            "bxwldzaikpemjfyosqtgvhcrn\n",
            "sqgaroynvkcbejiuzxlpm\n",
            "adtcenfvy\n",
            "ajmwvsdkf\n",
            "hgpyaov\n",
            "fqnaidbgruokxzhy\n",
            "oawshgty\n",
            "vztswelufacbk\n",
            "adkfuvmo\n",
            "ceqrx\n",
            "ylgrm\n",
            "xr\n",
            "zihukwvrno\n",
            "rjfm\n",
            "c\n",
            "c\n",
            "c\n",
            "c\n",
            "cy\n",
            "nkzfxij\n",
            "pevkoxydw\n",
            "uamtrbhlgcsq\n",
            "k\n",
            "vk\n",
            "xgk\n",
            "nk\n",
            "rk\n",
            "rokqypnfjm\n",
            "fvkrpjygnibqmo\n",
            "mpqykofjrn\n",
            "fjnpqkmoyr\n",
            "jqoymprnfkw\n",
            "sgpv\n",
            "pumasyv\n",
            "euhbkzytq\n",
            "khqdzyeno\n",
            "gsfmzkhjeil\n",
            "g\n",
            "g\n",
            "g\n",
            "xnmucpeqvjizwhklbg\n",
            "hesokupzcjlrt\n",
            "uypfachlzejk\n",
            "ekjuchltdfpz\n",
            "pwaefhvgskymuql\n",
            "pykgwvcsqomhfbnajzeu\n",
            "reqmsxkgpyfuwvaih\n",
            "agqumvpyfktshxdwe\n",
            "npokjeqbiucfamxyrtw\n",
            "haglxndtebiqojymwuzfr\n",
            "iymxjtonrfbweqau\n",
            "ecwbxyarjmtoqnuif\n",
            "wmv\n",
            "qmof\n",
            "lvno\n",
            "rupsvno\n",
            "vfon\n",
            "vdno\n",
            "r\n",
            "rf\n",
            "cruektys\n",
            "ckwuqeltbyr\n",
            "cektyur\n",
            "omwygfcpaliuqvteshzdxn\n",
            "vqbctzumoikefahdpnwglsx\n",
            "litasvmxnoeudqgfphzwjc\n",
            "desovqwhuimxzptngrflac\n",
            "zmyebqukpivjhorctsnldxag\n",
            "snckjqrluyzwihaxmvpdoe\n",
            "awtsrxfhc\n",
            "tiqphvdywaz\n",
            "ihwta\n",
            "rfqnegxpmjtzcihskvab\n",
            "etmvrxifkqsgjnpbzcah\n",
            "nabdje\n",
            "aezxjn\n",
            "bnezoa\n",
            "ean\n",
            "qrenga\n",
            "rlhxpyo\n",
            "r\n",
            "mnorl\n",
            "tgwizrqvcbe\n",
            "dr\n",
            "vpqbjyseizrtn\n",
            "bljrtepdyqnvszi\n",
            "zbtrnysjpvqei\n",
            "bhgyqpvjenrtzis\n",
            "hkzcxmwug\n",
            "wygxkuzm\n",
            "wumxzgk\n",
            "rq\n",
            "pq\n",
            "fu\n",
            "ibzwnx\n",
            "hr\n",
            "duabykztcwnqxmflpse\n",
            "qxzdpbnfwmstcuakryl\n",
            "nlbctapxmkzuwdsyqf\n",
            "dyslfpuwbitqnzxahjckom\n",
            "qoacdtzusvixrh\n",
            "euzrowdtglmcikav\n",
            "outyzds\n",
            "bdlyztwso\n",
            "kbosyzwedgvjlt\n",
            "a\n",
            "a\n",
            "a\n",
            "a\n",
            "a\n",
            "poejxws\n",
            "jwoexsq\n",
            "exjsow\n",
            "oexswj\n",
            "iwqaesxpufgmr\n",
            "uxpwmfsaigq\n",
            "awmuxpisgqf\n",
            "ycxhlrfpmnwtab\n",
            "rulhtdsf\n",
            "jbgewroydxaiqfmkzv\n",
            "kdvyifqtazmocnws\n",
            "ktvhwaoiydqmfz\n",
            "vmdokzqwayif\n",
            "tkfwaimdzyoqv\n",
            "sjqhftbamkzwyorlpve\n",
            "rsefbmpzhwvkajtqoyl\n",
            "ajpmbotsqhevlyrwkzf\n",
            "tmslfhqerjkvgxwayopnzb\n",
            "tpseohzrvqyjmwlkabf\n",
            "rtuekjwpcabm\n",
            "krbupeminyha\n",
            "lcgnpwvkeuaxsqhimzorbydft\n",
            "hpjksmytlavfzcrundigqboexw\n",
            "vhpbzfqemyockrxgniadtuwls\n",
            "yowhvzpldfbtqgsxamcnkireu\n",
            "kvfbynscmrdaupegltzixwohq\n",
            "g\n",
            "igk\n",
            "mwfen\n",
            "bujfzi\n",
            "fbj\n",
            "rfjb\n",
            "kzxnlwcj\n",
            "cyezomtkwlj\n",
            "cujwlzak\n",
            "lawjczk\n",
            "ckwsjlzx\n",
            "fwhyzdn\n",
            "qjhcdaew\n",
            "ibrx\n",
            "uqosfw\n",
            "xiyre\n",
            "gixryl\n",
            "ck\n",
            "kcs\n",
            "ukca\n",
            "cks\n",
            "ex\n",
            "w\n",
            "ijmhbvkoe\n",
            "alhq\n",
            "at\n",
            "ta\n",
            "uat\n",
            "ga\n",
            "dcgitapjnokhsx\n",
            "cbrxumnqijlfvozsy\n",
            "wfvcx\n",
            "kop\n",
            "ygensbhta\n",
            "crqi\n",
            "mdz\n",
            "dwhcuniof\n",
            "ihwmnfu\n",
            "ohnudfwi\n",
            "kpnirgwjhuef\n",
            "ihnwufq\n",
            "rlga\n",
            "sparg\n",
            "hytsabludcfv\n",
            "jewgmrznp\n",
            "vlmqbx\n",
            "pwrcexfhkzgyns\n",
            "w\n",
            "w\n",
            "av\n",
            "zvma\n",
            "cpjklr\n",
            "dyvns\n",
            "a\n",
            "yn\n",
            "ny\n",
            "gcyn\n",
            "umznyhv\n",
            "yn\n",
            "wnvsafjgr\n",
            "wfngjiasrv\n",
            "ievwnudhstf\n",
            "fsuvhtiew\n",
            "bheutiswvf\n",
            "udtnwkbheaf\n",
            "kucylwvjxiqt\n",
            "hljtmwnzcdkrfisv\n",
            "wdjhtlcnrskivz\n",
            "wjdvntscexqlripkbzhgay\n",
            "bkjmqivtuanscydxp\n",
            "cwqxidgpvbntusmakjy\n",
            "tbjkvyaixsdcpmqun\n",
            "ftl\n",
            "e\n",
            "e\n",
            "u\n",
            "hkjcgexiqbs\n",
            "kbehocig\n",
            "higkycoblet\n",
            "nblicogkeh\n",
            "gehikzbc\n",
            "waingcjboqylezdsu\n",
            "nmyukizxdbwvoqgcaspf\n",
            "tyqdnbgcsoujiazrw\n",
            "lfchjito\n",
            "vlutojfcsh\n",
            "jovtwiuheqkrdxapcsfgm\n",
            "cvawpxumglirokdtfqjhs\n",
            "kswydazphxc\n",
            "xwhsayzkncde\n",
            "lahity\n",
            "vfgipmabtyrn\n",
            "yhidtsa\n",
            "yati\n",
            "aitqyh\n",
            "d\n",
            "g\n",
            "rphofvxebzy\n",
            "uzqfyd\n",
            "xyowpfhvtdkjersgalzi\n",
            "bgalejwmkrhycopfvtidsxz\n",
            "jauyptlhwrvgszfoexkind\n",
            "rvkihpgyfawtlzdjxseo\n",
            "uqbnrhlasgdopwcvfemztkyjix\n",
            "oafnpqgtdezrwlxkvmhcubsijy\n",
            "kgrovfpiatd\n",
            "sdrxfik\n",
            "hfibczyekmqrlu\n",
            "oydl\n",
            "dohl\n",
            "doyl\n",
            "bkvnawhqodjcrzpfxtl\n",
            "lmxcgkfbtqnwyphrouzjvia\n",
            "twpvoxkhaqzsnjlrfbc\n",
            "no\n",
            "bnix\n",
            "nabv\n",
            "tdumsrc\n",
            "a\n",
            "k\n",
            "qsj\n",
            "aqjs\n",
            "tzfuo\n",
            "fzvxspjamchgio\n",
            "fozbq\n",
            "ozf\n",
            "atnxcrdus\n",
            "rinqbdasxf\n",
            "caursxdnl\n",
            "zandsxr\n",
            "saryuioetn\n",
            "apemtnioyr\n",
            "alotvfiyngerq\n",
            "ntpaoweruidy\n",
            "q\n",
            "it\n",
            "c\n",
            "q\n",
            "hzoiptgj\n",
            "wzpd\n",
            "hpzdj\n",
            "bzqkpv\n",
            "zsa\n",
            "za\n",
            "ol\n",
            "o\n",
            "h\n",
            "xf\n",
            "zndqlyf\n",
            "fk\n",
            "ubaplvgsfqn\n",
            "vlbqefsgpn\n",
            "bqlsgnpfv\n",
            "lbpvqgnsf\n",
            "nphoablwjs\n",
            "hubyic\n",
            "zfmgibxeh\n",
            "hdbuyrg\n",
            "mtdi\n",
            "dhntuckim\n",
            "dtim\n",
            "sfmeidt\n",
            "dipxftm\n",
            "fxwnjhitovpde\n",
            "vokwtfjspmedib\n",
            "gqftcrelpovyzwid\n",
            "dwepovfitan\n",
            "naphmuwlztbxsiqy\n",
            "brpnyfqxto\n",
            "dqtrnpykbxe\n",
            "npdbjtoyxq\n",
            "dvpqtbxyn\n",
            "tlhrgk\n",
            "tkjh\n",
            "cxbtov\n",
            "tjy\n",
            "ukjgpahefm\n",
            "eiajkdwmt\n",
            "dxawynmebikj\n",
            "ozpmc\n",
            "pmzco\n",
            "pcmofz\n",
            "mcpojz\n",
            "zmovdcp\n",
            "szyamqourexh\n",
            "qesympcalfokh\n",
            "fmlotwur\n",
            "zdgwyiqmnk\n",
            "cyeqwlbki\n",
            "dnufjzstpvhr\n",
            "w\n",
            "w\n",
            "w\n",
            "efzqnjvhplgrmy\n",
            "bzmovalwqkyjgrxpf\n",
            "riydsvtqcufp\n",
            "tclrg\n",
            "rlycb\n",
            "edzkrlc\n",
            "clr\n",
            "ljpfkhrzgmno\n",
            "zlhpkojfmrnxg\n",
            "hgprkymfnzljo\n",
            "dbhrgzklvnpioajtmf\n",
            "vybn\n",
            "vybn\n",
            "bynv\n",
            "vnyb\n",
            "vnyb\n",
            "pvakljgcefuyxzwr\n",
            "uwcevpkflrxjgzay\n",
            "d\n",
            "d\n",
            "d\n",
            "d\n",
            "d\n",
            "siy\n",
            "z\n",
            "c\n",
            "fpusnocme\n",
            "okum\n",
            "wmubojtyiazg\n",
            "lfxrkuqmdo\n",
            "xoum\n",
            "z\n",
            "i\n",
            "i\n",
            "exoimtjhqap\n",
            "xzbmulsdo\n",
            "nrkvlyhj\n",
            "rqhjnkyv\n",
            "nhkeyrvj\n",
            "fgdilbrjovqkxe\n",
            "riknjxmocevudl\n",
            "koyixrdeljv\n",
            "fv\n",
            "vf\n",
            "fv\n",
            "ovf\n",
            "vf\n",
            "e\n",
            "qcdu\n",
            "yk\n",
            "aiwrtg\n",
            "aosmzekcfbg\n",
            "cogzvamfkestxb\n",
            "wucsqojzbfynrekgmap\n",
            "mszbokgefalc\n",
            "cbegakfsomz\n",
            "l\n",
            "lr\n",
            "l\n",
            "l\n",
            "ipbrflxjntmyzwh\n",
            "xthbpywzonkidrfj\n",
            "vxtzirpjbnfwkyh\n",
            "jbzfaiwtnuxyhgcspr\n",
            "tkqhyxbnfizpjwr\n",
            "idz\n",
            "ngmuvotyjqlw\n",
            "fdpbz\n",
            "bi\n",
            "sfk\n",
            "u\n",
            "u\n",
            "xiwtjalesvy\n",
            "itsvdehxwy\n",
            "wzbkiovpnesmxgrt\n",
            "hqalfwptvmydruokzejincgbsx\n",
            "fuyjneqibopgvmdlratwhxkscz\n",
            "soehbfdlunqayzixpcg\n",
            "djfeosucbgplqh\n",
            "svpwhkurtfgqbdoe\n",
            "srjgvqtldz\n",
            "vzqrdgoljt\n",
            "lzsjqgdvrt\n",
            "trlvdjzqg\n",
            "v\n",
            "h\n",
            "p\n",
            "p\n",
            "cjnm\n",
            "mcjn\n",
            "pncjm\n",
            "mncj\n",
            "mjcn\n",
            "iok\n",
            "iok\n",
            "iko\n",
            "iko\n",
            "xcwgjue\n",
            "kgju\n",
            "azogjuft\n",
            "jgmuxwc\n",
            "msajntrlkxqeiohfv\n",
            "getnrvjoflqxma\n",
            "hfqmjnvagxlotre\n",
            "jyovtledxrnfmqab\n",
            "qxtverwjialonmf\n",
            "hksfi\n",
            "beqrfzgoul\n",
            "czlmtbnrqjduah\n",
            "rdzgbnmhiauslct\n",
            "tcazsudprlhnbm\n",
            "nwctrlxbhvudzmfea\n",
            "tbcqnyzdrlmuha\n",
            "s\n",
            "m\n",
            "m\n",
            "qmxkiv\n",
            "sqcxm\n",
            "kvtbyfazojer\n",
            "rofevztkyajb\n",
            "tkazojvbfery\n",
            "jrwld\n",
            "ijward\n",
            "jpyrdbwe\n",
            "rjwd\n",
            "rdwjm\n",
            "iwartbsghcj\n",
            "itgwajlzs\n",
            "uoebjyairqxpn\n",
            "ijauenbyxorq\n",
            "arobqyxieunj\n",
            "ruhiodexbyqja\n",
            "jibecuxoryqa\n",
            "nk\n",
            "nm\n",
            "n\n",
            "mwn\n",
            "nw\n",
            "rkzdeiufl\n",
            "knibderzmufl\n",
            "ophtrmdneysl\n",
            "oelpndymtsrh\n",
            "ptndroyehslm\n",
            "trsendlympho\n",
            "tmpnhyseolrd\n",
            "vjdes\n",
            "avps\n",
            "vs\n",
            "lrokj\n",
            "rlvgocjwmnhpxye\n",
            "ljrof\n",
            "jqfzlro\n",
            "jrlo\n",
            "ajz\n",
            "mztjnk\n",
            "dojlgbzv\n",
            "jzy\n",
            "nqg\n",
            "xgef\n",
            "qytgos\n",
            "qgt\n",
            "uixtyzmjskabndwl\n",
            "xzkujfpqrwtmdsioanb\n",
            "gdztwsjmkxieuan\n",
            "zwumkxqjdaivstn\n",
            "ybekpljqhwaozrsunvc\n",
            "wabijepnshzvlmkucqoyr\n",
            "ywq\n",
            "vwa\n",
            "ozxvnabjchsurkyit\n",
            "hrcxntaiujfkbsvy\n",
            "cvytrqdikuahbsjxgn\n",
            "vkybjratchnfxius\n",
            "xkozfm\n",
            "fthk\n",
            "ujyprq\n",
            "dmavqeft\n",
            "facmbgevqtk\n",
            "qaftmev\n",
            "nqftsomeiwkh\n",
            "kodtfarsqmpnwzev\n",
            "gnwfskouxqmte\n",
            "kqymjenlstowf\n",
            "gqwmeckxfobstn\n",
            "w\n",
            "f\n",
            "f\n",
            "f\n",
            "f\n",
            "ynouhdazs\n",
            "uhndzsqaoy\n",
            "dyarhuzsnwo\n",
            "twvzmsuek\n",
            "tulsmekz\n",
            "sxmlidpuekz\n",
            "zmsenujko\n",
            "pyid\n",
            "pidy\n",
            "irsmdz\n",
            "nglvrjkmh\n",
            "altmnwkhfro\n",
            "jrlzntym\n",
            "unqrimlexbsc\n",
            "rzmfbjnvtuhalspydkq\n",
            "kdctavibrufjzmpwhseql\n",
            "quj\n",
            "uq\n",
            "uirqdc\n",
            "uq\n",
            "csorknptwzehgvx\n",
            "olzknwjieyhv\n",
            "aebwnhvqkoz\n",
            "onqbzfcsykjrhpuelmdvwt\n",
            "gyunqefdoszkptcjlmhwb\n",
            "aqbywdnxhjfuselkztopcm\n",
            "pnlcosjfhymdwzvbutqeikr\n",
            "ncs\n",
            "ey\n",
            "dc\n",
            "ypt\n",
            "qhvgowiuabkrx\n",
            "o\n",
            "o\n",
            "o\n",
            "o\n",
            "si\n",
            "s\n",
            "sq\n",
            "ezsaux\n",
            "rsf\n",
            "mxtindkegroflbps\n",
            "wopfiexsrnylgd\n",
            "cdpszukwehnqyotbarjg\n",
            "gohpwlyketrsza\n",
            "hyokzsrgeapxltw\n",
            "ozbaxtrhsnjydpqfmlvckw\n",
            "ykpqahmucslrzfwxodtv\n",
            "dro\n",
            "dolr\n",
            "idro\n",
            "odr\n",
            "drojmps\n",
            "f\n",
            "f\n",
            "j\n",
            "f\n",
            "f\n",
            "x\n",
            "cxs\n",
            "xm\n",
            "xm\n",
            "yx\n",
            "lmjxn\n",
            "cdou\n",
            "aqekouwci\n",
            "asqkcwirotd\n",
            "iqctslwpkagro\n",
            "qwvfrjeixoctasdk\n",
            "ksfvrtcaoweuqi\n",
            "rcxjokgweimzaqlsyvh\n",
            "eiszkpamocvhux\n",
            "svbneghqi\n",
            "wlngkm\n",
            "yx\n",
            "yx\n",
            "yx\n",
            "yx\n",
            "zgmtedunpharcvifyxsq\n",
            "cdwyhxupfamtgzqjnosrevlik\n",
            "rtshdumnvfxieypcgbqaz\n",
            "nepzuxfaqbtmyrdhgiscv\n",
            "yvcmtepxzqadfhrnuisg\n",
            "odvngjmuw\n",
            "nmjguvo\n",
            "ipsjlgvboumnyh\n",
            "ujvmgond\n",
            "ibte\n",
            "lbj\n",
            "vnyazpoqm\n",
            "nyvouxaepms\n",
            "mpgyvjoacwn\n",
            "dymapvnkoh\n",
            "zvqmtfcbeikxwsgjudo\n",
            "zjodgqbamcwnevukftx\n",
            "tdwevmbqojukzfcxg\n",
            "qwykzudcbgmofexajvt\n",
            "hagrex\n",
            "egrxah\n",
            "z\n",
            "z\n",
            "gmx\n",
            "wxtmg\n",
            "vh\n",
            "izshx\n",
            "vejrthqgixubla\n",
            "xwroqnjvzkptfbh\n",
            "ngpauyltq\n",
            "qftxapncled\n",
            "qnpbwyualght\n",
            "pytqnal\n",
            "pwhqktlnua\n",
            "ofelsiqtakyvgcdubhprm\n",
            "arucvsxkezgifobqp\n",
            "sybhmruftp\n",
            "qmbyfrphsu\n",
            "qyfrphbusm\n",
            "fpusrhymb\n",
            "haekngcs\n",
            "gahj\n",
            "ycatzehdimog\n",
            "fvh\n",
            "hqk\n",
            "hq\n",
            "at\n",
            "i\n",
            "v\n",
            "v\n",
            "v\n",
            "fwsecblarvdo\n",
            "sdoravlewcfb\n",
            "ewjofrlavcdsbz\n",
            "drfwcaoslvbe\n",
            "rwetumkldsgjfbqianohzv\n",
            "svfkorqaduhlzigjtwben\n",
            "nfwougzjylprdqtvhsbaeki\n",
            "zdwskmcux\n",
            "tcpmxog\n",
            "fudcnzxm\n",
            "wmcleqrfozgstuhandipbykv\n",
            "wrfugkoblvazmsxpycjhtdqine\n",
            "okzimeadcrpwybvlghstqunf\n",
            "croutqsxvyfg\n",
            "qelbwgca\n",
            "gcq\n",
            "gqcilm\n",
            "gqbpwcz\n",
            "vbjx\n",
            "xfeojybgw\n",
            "jbxu\n",
            "ujxb\n",
            "humzypcl\n",
            "mlcuh\n",
            "mlchu\n",
            "mwclhu\n",
            "mcuhl\n",
            "slqntvhwxeby\n",
            "vhwxbltseyqn\n",
            "wtsxhvblneqy\n",
            "ikby\n",
            "i\n",
            "it\n",
            "i\n",
            "loheyfgpaibvmkxn\n",
            "auivtdszjelhmcgxp\n",
            "iykrlbagmevnhxp\n",
            "itnaqvyzbjluexgposwc\n",
            "xcoqgbusthpnvakzwlyie\n",
            "unqgycsvtwozxiblpea\n",
            "inzlgatuybvewqcxops\n",
            "xtlqgaezvcuyionwbsp\n",
            "sdbugmnzcwfqyvakjerx\n",
            "rebfqgcdmunxsyavwzjk\n",
            "szdwkavcbujngmryexfpq\n",
            "qevfkmrbxyungjzscadw\n",
            "gquzdwsykraxjnhelfvmcb\n",
            "zocknmwfbitjuv\n",
            "cbiojlnuzwt\n",
            "nyzbcwitjuo\n",
            "zocxjqntwiub\n",
            "oajubtzrncwi\n",
            "iys\n",
            "syi\n",
            "wzispyhgb\n",
            "insy\n",
            "udpvgixzhyobecns\n",
            "hugvxskpeoc\n",
            "sgpfoemxcujhvlw\n",
            "gxcqoeuvhsp\n",
            "coavprushteqygx\n",
            "zsqtvr\n",
            "hqej\n",
            "sicqg\n",
            "hetqad\n",
            "qlkmpyxuowbfn\n",
            "lopqfgtzsbny\n",
            "puyfqbnlzsio\n",
            "jnblqypsofzm\n",
            "sbyzolfqpn\n",
            "pfqblykunsoz\n",
            "iegjxynurlcftbzkph\n",
            "gynlhpdrfezukxcjbst\n",
            "cuzteyghlrxikfnbjp\n",
            "kzenfpyhrugblxtvcj\n",
            "hlupx\n",
            "fqpsux\n",
            "xsqup\n",
            "pxuwf\n",
            "gzt\n",
            "zmgt\n",
            "ngrmzlt\n",
            "zgtcs\n",
            "nsp\n",
            "s\n",
            "is\n",
            "s\n",
            "zsixudhgpcfblnqmve\n",
            "qxgpsczindufeblvmht\n",
            "xfnueqghlmsdbvcpiz\n",
            "qibfmhgselxcdznpvu\n",
            "fkxcogmz\n",
            "cxfmkogz\n",
            "gxfokmcz\n",
            "ayhgxkoqfclmz\n",
            "ocxfkgmz\n",
            "qxtd\n",
            "hxmwdgt\n",
            "cdtix\n",
            "vfyb\n",
            "epdk\n",
            "p\n",
            "npz\n",
            "bkvrjsygeczfpqomhuwdi\n",
            "wlrodcybkztqujmheapig\n",
            "kftsrqpxazb\n",
            "zfkxpqbs\n",
            "guysto\n",
            "ysf\n",
            "sfy\n",
            "ysh\n",
            "ys\n",
            "sh\n",
            "o\n",
            "vi\n",
            "z\n",
            "uh\n",
            "lbqrpxwsuvdec\n",
            "fselpdtqkvbrgu\n",
            "hmwjzxectfnsiqyl\n",
            "isxtqjywcnhfmze\n",
            "uefgopcqnktavdhljir\n",
            "dvceuhtlqnkpfi\n",
            "ficqudvlhntkep\n",
            "invtfpzhldcuemkq\n",
            "gjlhmdyun\n",
            "hlujdmgny\n",
            "zupwyo\n",
            "wyonzpu\n",
            "yozpuw\n",
            "yojwpzu\n",
            "ywpuzoq\n",
            "atculpzvwro\n",
            "vazwctrpuo\n",
            "tapwuzgvroc\n",
            "kwaxzer\n",
            "kwerxza\n",
            "wkrxeza\n",
            "akzerxw\n",
            "xwezark\n",
            "pazsg\n",
            "apwsz\n",
            "tshprib\n",
            "phisbr\n",
            "pihrbs\n",
            "phbsir\n",
            "hrsibp\n",
            "ishtmycqw\n",
            "thymsc\n",
            "smtchy\n",
            "ytscmh\n",
            "fwuhmsnvjclaipgbd\n",
            "huogmlpcvdjwniazs\n",
            "givwhcujkmsdnlzpax\n",
            "kfi\n",
            "f\n",
            "f\n",
            "f\n",
            "rotszqynjuwvdcmb\n",
            "utodajecnvhy\n",
            "xhmqfursgt\n",
            "uthagrnfxscm\n",
            "sqhtmfgwixrlyu\n",
            "lwrfxytpgushm\n",
            "l\n",
            "l\n",
            "l\n",
            "j\n",
            "l\n",
            "jfgqrstv\n",
            "izaod\n",
            "rdzqnehxmwlpobuskvjiy\n",
            "uhkxpldyqnbwoszmiverj\n",
            "zrgpckwdusmixnebvloyfqhj\n",
            "uobekwirqxynzdmhvlspj\n",
            "qauvodcszfhleypxbgjrknt\n",
            "yvfdoahkxjnslpgqbrcuzet\n",
            "uqrdlzsnpyahtfboxcgvejk\n",
            "yjqelcdxrzusghfabktnpov\n",
            "oetuxsfzyvlrkhgbnqcdpja\n",
            "lsgzdmvcykr\n",
            "zblvifkcpesjda\n",
            "qulndsmtcwzokv\n",
            "gyvnbcsaljqrfo\n",
            "jhbfxlmqizayrswnu\n",
            "blsfnraqpyj\n",
            "afhylsrjnbq\n",
            "gaklz\n",
            "kaz\n",
            "zatnkc\n",
            "ksgcejpyt\n",
            "vtisnmp\n",
            "ontfspa\n",
            "tsp\n",
            "gpnklyvzdei\n",
            "iylnwvzke\n",
            "ziketylvun\n",
            "vznyklebi\n",
            "kvziajyqnhmcsel\n",
            "r\n",
            "o\n",
            "r\n",
            "o\n",
            "z\n",
            "ug\n",
            "lug\n",
            "ug\n",
            "ydgtezlosuirxqhck\n",
            "zhgsqoeyxidctukrl\n",
            "ritqhczsuekgdyxlo\n",
            "reluzxtksoycdhqig\n",
            "dcrziheolgsqkxuyt\n",
            "pxgmjlwzycrtuonv\n",
            "xvrnlpyjzoutwgcm\n",
            "lxgtpyuzojcwnvrm\n",
            "ncvrlpmyjgzwutxo\n",
            "lgcvojwxnuzmrpty\n",
            "tklvywfzjhx\n",
            "uzkftyhvlbxw\n",
            "ykhwftxzvl\n",
            "jukhnepb\n",
            "nbukephj\n",
            "puenjkhb\n",
            "punjherbk\n",
            "ixsmkpvzqryd\n",
            "xifdkpoejy\n",
            "ghldsu\n",
            "orutphgf\n",
            "uhgc\n",
            "pnkdgfcbmwlqjxh\n",
            "uwkgyhnsjblmqcd\n",
            "cui\n",
            "iucqvj\n",
            "uxprfci\n",
            "iwxcu\n",
            "iurcx\n",
            "fomuvtrxj\n",
            "txjumv\n",
            "uvtyjmx\n",
            "mujxtpkvd\n",
            "utfyemxvqhj\n",
            "kahpnit\n",
            "zdgtbcjehip\n",
            "guwjihbtplr\n",
            "mtxsivpqh\n",
            "hbmuerdji\n",
            "pqjyxrlhnbi\n",
            "blup\n",
            "fupb\n",
            "bpu\n",
            "pub\n",
            "ubwmp\n",
            "ntyhgwjekrxsudz\n",
            "bvdkzoprfutcjqgn\n",
            "gsaekrjtnmzud\n",
            "gnktzjxudr\n",
            "nzgtjkulidr\n",
            "kvamjswfgoul\n",
            "fmagujslv\n",
            "jcugaslvfm\n",
            "bdtqeimuzpnhgavrw\n",
            "ptmhzulsvqgnfrwkd\n",
            "kcyturwmqhzgvdpn\n",
            "lkvzyhnug\n",
            "zuglkyef\n",
            "xnsqbdhtiagwvrlpezyf\n",
            "dlntjkpzugsqwaxeryhf\n",
            "rpehgncayztmsqbfiwodlx\n",
            "fsbv\n",
            "ryoptdf\n",
            "ebxfakjriydp\n",
            "yijedfkprqba\n",
            "praekbjifdy\n",
            "ibaejpfrkdy\n",
            "myfvdnqsxiazjpg\n",
            "jefvmxpaisdozlbcqn\n",
            "hkxqjdpnafrmsztv\n",
            "faoknlebqpy\n",
            "kpfylnaoeqb\n",
            "oankeqybflp\n",
            "nyeqkpfblao\n",
            "kobelfpaqyn\n",
            "b\n",
            "qierm\n",
            "by\n",
            "rdhgxubnkcot\n",
            "kbcouhmxtgd\n",
            "smbtgcahuikyoxd\n",
            "csuqvbzmopehfanytxlrwkdigj\n",
            "qrexnzoakupicfgthdsjybvmwl\n",
            "wpfkachnjtxgdysboilmuezrqv\n",
            "ul\n",
            "lu\n",
            "lu\n",
            "qrb\n",
            "bycr\n",
            "pwe\n",
            "sbfiuhzw\n",
            "msouybvlzrhwdfj\n",
            "ihvzblw\n",
            "xpbcqazwtekgn\n",
            "vouxdfiamelztswy\n",
            "iflgzytmwsbduxe\n",
            "iyfkjmspzwutxlde\n",
            "ncldmpithsuyekwfbxgz\n",
            "ijxcbyp\n",
            "jbpiycx\n",
            "xybijpc\n",
            "wanuhtdyskljicxzebmfpvq\n",
            "lyguehpfsvcmtbkndwao\n",
            "pkbdywhsvmealfctrun\n",
            "ahbftkwivsczonj\n",
            "nwkzvahfbycjitos\n",
            "jmznkbieoswtvafhc\n",
            "vztkiqjanhsbfwco\n",
            "olxzgkrjcandtwupehsqbify\n",
            "rzcaekovyijgxtwnbdsqhpul\n",
            "azhycqgnxjpudrvfko\n",
            "oxfnhvkqpdcrzjgay\n",
            "hrebsqyjpaoglktdxznmcfv\n",
            "rjvzcyhdqpagfonxk\n",
            "jygkqxfhrcvodznpa\n",
            "pqkfrztwhgybncd\n",
            "yhgpobeuwatmkzqxnrd\n",
            "dzqgrvbyptkhnw\n",
            "snyhilgrzwvqctkpdjb\n",
            "zcljnxvohbuqtyf\n",
            "cyqlfrhnxujobz\n",
            "bwxzhyoeusclfqnjmi\n",
            "gixeoy\n",
            "igoeyx\n",
            "gxoeyi\n",
            "xvfowdzkineas\n",
            "dpinwxejkfsavoz\n",
            "evkoxiznadfws\n",
            "pfrxj\n",
            "dqearfgnt\n",
            "sfhkce\n",
            "nvbdk\n",
            "knv\n",
            "oxpa\n",
            "poxa\n",
            "nxvah\n",
            "pxa\n",
            "xam\n",
            "lafch\n",
            "hafnxlc\n",
            "dorcjz\n",
            "aolei\n",
            "nszybcuheqmt\n",
            "szhjpvencm\n",
            "zhnedscmp\n",
            "wfdatxbsk\n",
            "ucwklisqtfn\n",
            "vguconbkqjmw\n",
            "jnqvmgkwu\n",
            "nqjwukgvm\n",
            "jwvguqnmk\n",
            "grajfdibqoknsu\n",
            "xecwhajtilpz\n",
            "yihpzjam\n",
            "kjzlpfao\n",
            "eprntujdzhxwql\n",
            "vjlmcyazsp\n",
            "eyvi\n",
            "tiye\n",
            "iey\n",
            "mjlgsacntvyzqrdufhxpk\n",
            "ftlzrhsjgvmnkupdxcqay\n",
            "dyvhtcruxmapsnljzqkfg\n",
            "shj\n",
            "lzsvj\n",
            "sjh\n",
            "msj\n",
            "js\n",
            "zhoselpidtvnqac\n",
            "cqitodanpuxvzh\n",
            "ih\n",
            "tzhe\n",
            "whe\n",
            "mrdvh\n",
            "htacu\n",
            "niatchu\n",
            "yucath\n",
            "adhflbns\n",
            "plhbdfas\n",
            "afshldb\n",
            "sdvhaiolqbgf\n",
            "ksfdlhba\n",
            "frsy\n",
            "frsy\n",
            "srfy\n",
            "dcq\n",
            "dkmeqcv\n",
            "qdc\n",
            "cdq\n",
            "cdyq\n",
            "awgp\n",
            "wp\n",
            "fpyw\n",
            "kjph\n",
            "xhkjp\n",
            "fjplvwnihqotkcsyd\n",
            "tdvusiypqkjcfowlh\n",
            "quyzmxeprlgona\n",
            "hwkseitjocfxr\n",
            "dzpqolenxr\n",
            "brpeyox\n",
            "bnjhzetoldk\n",
            "ftnizogykhamjbul\n",
            "zobtjesnklh\n",
            "qbkrtjlnohsz\n",
            "kbjpwoqznstlh\n",
            "w\n",
            "t\n",
            "wgq\n",
            "sanxjuzypkf\n",
            "wkpzeigcxqob\n",
            "wbgipzkqeoxc\n",
            "ceqkgxbpizwo\n",
            "qbozgixckepw\n",
            "vibupghywqco\n",
            "vwiqhcgbpyou\n",
            "vycqgohubiwp\n",
            "obcguhvipqyw\n",
            "pbujhvewogqyic\n",
            "qol\n",
            "los\n",
            "oghrfxa\n",
            "slorfjctxvw\n",
            "jdfcyrtoxv\n",
            "xuozvcernibftj\n",
            "vcjfxwoytr\n",
            "awrehc\n",
            "aicze\n",
            "caeh\n",
            "qxvuhyp\n",
            "hxvcpy\n"
          ],
          "name": "stdout"
        },
        {
          "output_type": "execute_result",
          "data": {
            "text/plain": [
              "3520"
            ]
          },
          "metadata": {
            "tags": []
          },
          "execution_count": 139
        }
      ]
    },
    {
      "cell_type": "markdown",
      "metadata": {
        "id": "eTx7tKb1l4eW"
      },
      "source": [
        "# Day 7\n",
        "\n",
        "Yay a graph traversal problem"
      ]
    },
    {
      "cell_type": "code",
      "metadata": {
        "id": "dQ8WkY43l8cx"
      },
      "source": [
        "import networkx as nx\n",
        "from google.colab import files"
      ],
      "execution_count": null,
      "outputs": []
    },
    {
      "cell_type": "code",
      "metadata": {
        "id": "OIKvtHipmBps"
      },
      "source": [
        "test_input = \"\"\"light red bags contain 1 bright white bag, 2 muted yellow bags.\n",
        "dark orange bags contain 3 bright white bags, 4 muted yellow bags.\n",
        "bright white bags contain 1 shiny gold bag.\n",
        "muted yellow bags contain 2 shiny gold bags, 9 faded blue bags.\n",
        "shiny gold bags contain 1 dark olive bag, 2 vibrant plum bags.\n",
        "dark olive bags contain 3 faded blue bags, 4 dotted black bags.\n",
        "vibrant plum bags contain 5 faded blue bags, 6 dotted black bags.\n",
        "faded blue bags contain no other bags.\n",
        "dotted black bags contain no other bags.\"\"\""
      ],
      "execution_count": null,
      "outputs": []
    },
    {
      "cell_type": "code",
      "metadata": {
        "id": "fVs_9OhlmSQ0"
      },
      "source": [
        "def parse(raw):\n",
        "  G = nx.DiGraph()\n",
        "  for line in raw.split('\\n'):\n",
        "    parent = line.split('contain')[0].replace('bags','').strip()\n",
        "    children = line.split('contain')[1].split(',')\n",
        "    for child in children:\n",
        "      rechild = child.replace('bags','').replace('bag','').replace('.','').strip()\n",
        "      rechild = rechild[2:] # kill numbers (probably bad for pt2)\n",
        "      \n",
        "      if rechild == ' other':\n",
        "        pass\n",
        "      elif parent not in G:\n",
        "        G.add_node(parent)\n",
        "        G.add_edge(parent, rechild)\n",
        "      elif parent in G:\n",
        "        G.add_edge(parent, rechild)\n",
        "\n",
        "  return G"
      ],
      "execution_count": null,
      "outputs": []
    },
    {
      "cell_type": "code",
      "metadata": {
        "id": "QbqnzrxMsJom"
      },
      "source": [
        "def crawl(graph: nx.DiGraph, bag, counter):\n",
        "  if graph.in_edges(bag):\n",
        "    for node in graph.in_edges(bag):\n",
        "      counter.add(node[0])\n",
        "      crawl(graph, node[0], counter)\n",
        "  else:\n",
        "    counter.add(bag)\n",
        "  "
      ],
      "execution_count": null,
      "outputs": []
    },
    {
      "cell_type": "code",
      "metadata": {
        "id": "uQMpN7yY_qHI"
      },
      "source": [
        "g = parse(test_input)"
      ],
      "execution_count": null,
      "outputs": []
    },
    {
      "cell_type": "code",
      "metadata": {
        "colab": {
          "base_uri": "https://localhost:8080/"
        },
        "id": "PURW7lgc_t1R",
        "outputId": "68fb3580-1873-4513-ffe4-9cfdbe10c32b"
      },
      "source": [
        "g.in_edges('shiny gold')\n"
      ],
      "execution_count": null,
      "outputs": [
        {
          "output_type": "execute_result",
          "data": {
            "text/plain": [
              "InEdgeDataView([('bright white', 'shiny gold'), ('muted yellow', 'shiny gold')])"
            ]
          },
          "metadata": {
            "tags": []
          },
          "execution_count": 61
        }
      ]
    },
    {
      "cell_type": "code",
      "metadata": {
        "colab": {
          "base_uri": "https://localhost:8080/"
        },
        "id": "hFgK6g3N_0WD",
        "outputId": "faa9af52-e0ba-49dd-d8c9-1939b1098e33"
      },
      "source": [
        "g.in_edges('bright white')"
      ],
      "execution_count": null,
      "outputs": [
        {
          "output_type": "execute_result",
          "data": {
            "text/plain": [
              "InEdgeDataView([('light red', 'bright white'), ('dark orange', 'bright white')])"
            ]
          },
          "metadata": {
            "tags": []
          },
          "execution_count": 63
        }
      ]
    },
    {
      "cell_type": "code",
      "metadata": {
        "colab": {
          "base_uri": "https://localhost:8080/"
        },
        "id": "i1-RKTOJ_4JG",
        "outputId": "c0e51340-34e2-460e-d128-7b276c68021c"
      },
      "source": [
        "g.in_edges('light red')"
      ],
      "execution_count": null,
      "outputs": [
        {
          "output_type": "execute_result",
          "data": {
            "text/plain": [
              "InEdgeDataView([])"
            ]
          },
          "metadata": {
            "tags": []
          },
          "execution_count": 64
        }
      ]
    },
    {
      "cell_type": "code",
      "metadata": {
        "id": "2aWHHN2WsAWb",
        "colab": {
          "base_uri": "https://localhost:8080/"
        },
        "outputId": "ae3068cb-dcb4-4ce0-e787-0058a3db34ac"
      },
      "source": [
        "COUNT = set()\n",
        "crawl(g,'shiny gold', COUNT)\n",
        "len(COUNT)"
      ],
      "execution_count": null,
      "outputs": [
        {
          "output_type": "execute_result",
          "data": {
            "text/plain": [
              "4"
            ]
          },
          "metadata": {
            "tags": []
          },
          "execution_count": 8
        }
      ]
    },
    {
      "cell_type": "code",
      "metadata": {
        "colab": {
          "resources": {
            "http://localhost:8080/nbextensions/google.colab/files.js": {
              "data": "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",
              "ok": true,
              "headers": [
                [
                  "content-type",
                  "application/javascript"
                ]
              ],
              "status": 200,
              "status_text": ""
            }
          },
          "base_uri": "https://localhost:8080/",
          "height": 73
        },
        "id": "LKrsNlBRmCjJ",
        "outputId": "ac36c304-c12d-4519-e360-f28a84d916a9"
      },
      "source": [
        "d7 = files.upload()"
      ],
      "execution_count": null,
      "outputs": [
        {
          "output_type": "display_data",
          "data": {
            "text/html": [
              "\n",
              "     <input type=\"file\" id=\"files-43a197b6-5dd4-4a80-bd0e-7c09a6276722\" name=\"files[]\" multiple disabled\n",
              "        style=\"border:none\" />\n",
              "     <output id=\"result-43a197b6-5dd4-4a80-bd0e-7c09a6276722\">\n",
              "      Upload widget is only available when the cell has been executed in the\n",
              "      current browser session. Please rerun this cell to enable.\n",
              "      </output>\n",
              "      <script src=\"/nbextensions/google.colab/files.js\"></script> "
            ],
            "text/plain": [
              "<IPython.core.display.HTML object>"
            ]
          },
          "metadata": {
            "tags": []
          }
        },
        {
          "output_type": "stream",
          "text": [
            "Saving day7.txt to day7.txt\n"
          ],
          "name": "stdout"
        }
      ]
    },
    {
      "cell_type": "code",
      "metadata": {
        "id": "gdbqO6ITBaiz"
      },
      "source": [
        "pi = parse(d7['day7.txt'].decode()[:-1])"
      ],
      "execution_count": null,
      "outputs": []
    },
    {
      "cell_type": "code",
      "metadata": {
        "id": "Qu6Bg7g1r_ZW",
        "colab": {
          "base_uri": "https://localhost:8080/"
        },
        "outputId": "c66aedaa-dfd2-4e25-8993-33cd9eea73ec"
      },
      "source": [
        "COUNT = set()\n",
        "crawl(pi,'shiny gold', COUNT)\n",
        "len(COUNT)"
      ],
      "execution_count": null,
      "outputs": [
        {
          "output_type": "execute_result",
          "data": {
            "text/plain": [
              "261"
            ]
          },
          "metadata": {
            "tags": []
          },
          "execution_count": 12
        }
      ]
    },
    {
      "cell_type": "markdown",
      "metadata": {
        "id": "BuNaQ3pF3eie"
      },
      "source": [
        "## Part 2\r\n",
        "\r\n",
        "Now for out\r\n",
        "\r\n",
        "How many individual bags are required inside your single shiny gold bag?"
      ]
    },
    {
      "cell_type": "code",
      "metadata": {
        "id": "6yBXeBaHbmZc"
      },
      "source": [
        "import re"
      ],
      "execution_count": null,
      "outputs": []
    },
    {
      "cell_type": "code",
      "metadata": {
        "id": "eXpeGYBR3yJI"
      },
      "source": [
        "def parse2(raw):\r\n",
        "  G = nx.DiGraph()\r\n",
        "  for line in raw.split('\\n'):\r\n",
        "    parent = line.split('contain')[0].replace('bags','').strip()\r\n",
        "    children = line.split('contain')[1].split(',')\r\n",
        "    for child in children:\r\n",
        "      rechild = child.replace('bags','').replace('bag','').replace('.','').strip()\r\n",
        "      if 'other' in rechild:\r\n",
        "        pass\r\n",
        "      else:\r\n",
        "        \r\n",
        "        num = int(re.findall(r'\\d+',rechild)[0]) #int(rechild[1])\r\n",
        "        # print(rechild[1], num)\r\n",
        "        rechild = rechild[2:] # kill numbers (probably bad for pt2) \r\n",
        "        G.add_edge(parent, rechild, num=num)\r\n",
        "\r\n",
        "  return G"
      ],
      "execution_count": null,
      "outputs": []
    },
    {
      "cell_type": "code",
      "metadata": {
        "id": "MHzuoeoBmt-U"
      },
      "source": [
        "pi = parse2(d7['day7.txt'].decode()[:-1])"
      ],
      "execution_count": null,
      "outputs": []
    },
    {
      "cell_type": "code",
      "metadata": {
        "colab": {
          "base_uri": "https://localhost:8080/"
        },
        "id": "rNAZwWCv4Go0",
        "outputId": "ca7a2f29-9fe7-4cab-a396-2b04f49de677"
      },
      "source": [
        "pt = parse2(test_input)"
      ],
      "execution_count": null,
      "outputs": [
        {
          "output_type": "stream",
          "text": [
            "  1\n",
            "  2\n",
            "  3\n",
            "  4\n",
            "  1\n",
            "  2\n",
            "  9\n",
            "  1\n",
            "  2\n",
            "  3\n",
            "  4\n",
            "  5\n",
            "  6\n"
          ],
          "name": "stdout"
        }
      ]
    },
    {
      "cell_type": "code",
      "metadata": {
        "colab": {
          "base_uri": "https://localhost:8080/"
        },
        "id": "EXb5ajqHcRqz",
        "outputId": "15cfc0cb-0afc-46e3-967a-5d10c116e0a7"
      },
      "source": [
        "pt.out_edges('shiny gold')\r\n",
        "# pt.edges[('shiny gold', 'vibrant plum')]['num']"
      ],
      "execution_count": null,
      "outputs": [
        {
          "output_type": "execute_result",
          "data": {
            "text/plain": [
              "OutEdgeDataView([('shiny gold', 'dark olive'), ('shiny gold', 'vibrant plum')])"
            ]
          },
          "metadata": {
            "tags": []
          },
          "execution_count": 40
        }
      ]
    },
    {
      "cell_type": "code",
      "metadata": {
        "id": "jBUvH6nP3f4k"
      },
      "source": [
        "def crawl_out(graph: nx.DiGraph, bag):\r\n",
        "  counter = 1\r\n",
        "  if graph.out_edges(bag):\r\n",
        "    for edge in graph.out_edges(bag):\r\n",
        "    # edge = list(graph.out_edges(bag))[0]\r\n",
        "      num_inside = graph.edges[edge]['num']\r\n",
        "      # print(edge[1])\r\n",
        "      next = crawl_out(graph, edge[1])\r\n",
        "      # print(num_inside, next, edge[1])\r\n",
        "\r\n",
        "      counter += (num_inside)*next\r\n",
        "  else:\r\n",
        "    print('at leaf')\r\n",
        "    return 1\r\n",
        "  return counter\r\n",
        "  "
      ],
      "execution_count": null,
      "outputs": []
    },
    {
      "cell_type": "code",
      "metadata": {
        "colab": {
          "base_uri": "https://localhost:8080/",
          "height": 168
        },
        "id": "4tFLrHM2jMI5",
        "outputId": "e24e6c2e-f247-4037-a7ba-8f04e67151a9"
      },
      "source": [
        "list(pt.out_edges('faded blue'))[0]"
      ],
      "execution_count": null,
      "outputs": [
        {
          "output_type": "error",
          "ename": "IndexError",
          "evalue": "ignored",
          "traceback": [
            "\u001b[0;31m---------------------------------------------------------------------------\u001b[0m",
            "\u001b[0;31mIndexError\u001b[0m                                Traceback (most recent call last)",
            "\u001b[0;32m<ipython-input-118-a617d2bacbbf>\u001b[0m in \u001b[0;36m<module>\u001b[0;34m()\u001b[0m\n\u001b[0;32m----> 1\u001b[0;31m \u001b[0mlist\u001b[0m\u001b[0;34m(\u001b[0m\u001b[0mpt\u001b[0m\u001b[0;34m.\u001b[0m\u001b[0mout_edges\u001b[0m\u001b[0;34m(\u001b[0m\u001b[0;34m'faded blue'\u001b[0m\u001b[0;34m)\u001b[0m\u001b[0;34m)\u001b[0m\u001b[0;34m[\u001b[0m\u001b[0;36m0\u001b[0m\u001b[0;34m]\u001b[0m\u001b[0;34m\u001b[0m\u001b[0;34m\u001b[0m\u001b[0m\n\u001b[0m",
            "\u001b[0;31mIndexError\u001b[0m: list index out of range"
          ]
        }
      ]
    },
    {
      "cell_type": "code",
      "metadata": {
        "colab": {
          "base_uri": "https://localhost:8080/"
        },
        "id": "lG9HOS88dSIs",
        "outputId": "d2a73d1c-cc6a-4426-f18a-fcba17137605"
      },
      "source": [
        "foo  = crawl_out(pi,'shiny gold')\r\n",
        "foo - 1"
      ],
      "execution_count": null,
      "outputs": [
        {
          "output_type": "stream",
          "text": [
            "at leaf\n",
            "1 1 dim chartreuse\n",
            "1 2 posh turquoise\n",
            "3 3 shiny aqua\n",
            "at leaf\n",
            "5 1 shiny violet\n",
            "at leaf\n",
            "3 1 dark brown\n",
            "5 9 dark turquoise\n",
            "at leaf\n",
            "1 1 dark brown\n",
            "at leaf\n",
            "5 1 shiny violet\n",
            "at leaf\n",
            "3 1 dark brown\n",
            "5 9 dark turquoise\n",
            "at leaf\n",
            "4 1 dim violet\n",
            "1 51 dotted silver\n",
            "5 106 muted blue\n",
            "at leaf\n",
            "1 1 plaid fuchsia\n",
            "at leaf\n",
            "2 1 drab black\n",
            "1 4 bright crimson\n",
            "at leaf\n",
            "2 1 light teal\n",
            "at leaf\n",
            "5 1 drab black\n",
            "1 8 dull green\n",
            "at leaf\n",
            "1 1 light aqua\n",
            "at leaf\n",
            "1 1 dim chartreuse\n",
            "4 2 posh turquoise\n",
            "2 10 dotted orange\n",
            "at leaf\n",
            "5 1 shiny violet\n",
            "at leaf\n",
            "3 1 dark brown\n",
            "2 9 dark turquoise\n",
            "1 47 pale gray\n",
            "at leaf\n",
            "1 1 dim chartreuse\n",
            "1 2 posh turquoise\n",
            "4 3 shiny aqua\n",
            "at leaf\n",
            "5 1 dim violet\n",
            "at leaf\n",
            "1 1 light aqua\n",
            "at leaf\n",
            "1 1 dim chartreuse\n",
            "4 2 posh turquoise\n",
            "2 10 dotted orange\n",
            "3 38 light gold\n",
            "at leaf\n",
            "1 1 plaid fuchsia\n",
            "at leaf\n",
            "2 1 drab black\n",
            "5 4 bright crimson\n",
            "at leaf\n",
            "5 1 shiny violet\n",
            "at leaf\n",
            "3 1 dark brown\n",
            "4 9 dark turquoise\n",
            "1 171 shiny silver\n",
            "5 753 wavy chartreuse\n"
          ],
          "name": "stdout"
        },
        {
          "output_type": "execute_result",
          "data": {
            "text/plain": [
              "3765"
            ]
          },
          "metadata": {
            "tags": []
          },
          "execution_count": 134
        }
      ]
    },
    {
      "cell_type": "code",
      "metadata": {
        "id": "hi8n4YPcd7rP"
      },
      "source": [
        "def dumb_count(l):\r\n",
        "  count = 0\r\n",
        "  for idx, entry in enumerate(l):\r\n",
        "    if idx%2 == 0:\r\n",
        "      if entry == 'plus':\r\n",
        "        count += "
      ],
      "execution_count": null,
      "outputs": []
    },
    {
      "cell_type": "markdown",
      "metadata": {
        "id": "PwqnvbMa5DYt"
      },
      "source": [
        "# Day 8"
      ]
    },
    {
      "cell_type": "code",
      "metadata": {
        "id": "fqztVzOh5FRE"
      },
      "source": [
        "from google.colab import files"
      ],
      "execution_count": null,
      "outputs": []
    },
    {
      "cell_type": "code",
      "metadata": {
        "id": "yIuuW9CU5hIJ"
      },
      "source": [
        "test_input = \"\"\"nop +0\r\n",
        "acc +1\r\n",
        "jmp +4\r\n",
        "acc +3\r\n",
        "jmp -3\r\n",
        "acc -99\r\n",
        "acc +1\r\n",
        "jmp -4\r\n",
        "acc +6\"\"\""
      ],
      "execution_count": null,
      "outputs": []
    },
    {
      "cell_type": "code",
      "metadata": {
        "id": "lYnsauBy5sxM"
      },
      "source": [
        "def parse(ins):\r\n",
        "  instruction_list = []\r\n",
        "  lines = ins.split('\\n')\r\n",
        "  for line in lines:\r\n",
        "    sp = line.split(' ')\r\n",
        "    instruction_list.append((sp[0],int(sp[1])))\r\n",
        "\r\n",
        "  return instruction_list"
      ],
      "execution_count": null,
      "outputs": []
    },
    {
      "cell_type": "code",
      "metadata": {
        "id": "hx3oa_Gc7FO7"
      },
      "source": [
        "def chew_o(instructions, idx, accumulator, executed):\r\n",
        "  current = instructions[idx]\r\n",
        "  # print(current, accumulator)\r\n",
        "  if idx in executed:\r\n",
        "    # print('loop', accumulator)\r\n",
        "    return accumulator\r\n",
        "  else: \r\n",
        "    executed.append(idx)\r\n",
        "    if current[0] == 'nop':\r\n",
        "      idx += 1 \r\n",
        "    elif current[0] == 'acc':\r\n",
        "      accumulator += current[1]\r\n",
        "      idx += 1\r\n",
        "    elif current[0] == 'jmp':\r\n",
        "      idx += current[1]\r\n",
        "\r\n",
        "    return chew(instructions, idx, accumulator, executed)\r\n",
        "\r\n",
        "def main(instructions):\r\n",
        "  accumulator = 0\r\n",
        "  executed = []\r\n",
        "  idx = 0\r\n",
        "  return chew(instructions, idx, accumulator, executed)\r\n"
      ],
      "execution_count": null,
      "outputs": []
    },
    {
      "cell_type": "code",
      "metadata": {
        "colab": {
          "base_uri": "https://localhost:8080/"
        },
        "id": "A8crhqS09bE5",
        "outputId": "cc618367-2dc9-4774-cf6e-8a4f71dd1aec"
      },
      "source": [
        "main(parse(test_input))"
      ],
      "execution_count": null,
      "outputs": [
        {
          "output_type": "stream",
          "text": [
            "('nop', 0) 0\n",
            "('acc', 1) 0\n",
            "('jmp', 4) 1\n",
            "('acc', 1) 1\n",
            "('jmp', -4) 2\n",
            "('acc', 3) 2\n",
            "('jmp', -3) 5\n",
            "('acc', 1) 5\n",
            "loop 5\n"
          ],
          "name": "stdout"
        },
        {
          "output_type": "execute_result",
          "data": {
            "text/plain": [
              "5"
            ]
          },
          "metadata": {
            "tags": []
          },
          "execution_count": 42
        }
      ]
    },
    {
      "cell_type": "code",
      "metadata": {
        "colab": {
          "resources": {
            "http://localhost:8080/nbextensions/google.colab/files.js": {
              "data": "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",
              "ok": true,
              "headers": [
                [
                  "content-type",
                  "application/javascript"
                ]
              ],
              "status": 200,
              "status_text": ""
            }
          },
          "base_uri": "https://localhost:8080/",
          "height": 73
        },
        "id": "vYiHyEEz6T5d",
        "outputId": "01d9e3ee-391a-4884-eeba-4afa54824158"
      },
      "source": [
        "d8 = files.upload()"
      ],
      "execution_count": null,
      "outputs": [
        {
          "output_type": "display_data",
          "data": {
            "text/html": [
              "\n",
              "     <input type=\"file\" id=\"files-24ccabaa-589b-462d-80c4-410999b63708\" name=\"files[]\" multiple disabled\n",
              "        style=\"border:none\" />\n",
              "     <output id=\"result-24ccabaa-589b-462d-80c4-410999b63708\">\n",
              "      Upload widget is only available when the cell has been executed in the\n",
              "      current browser session. Please rerun this cell to enable.\n",
              "      </output>\n",
              "      <script src=\"/nbextensions/google.colab/files.js\"></script> "
            ],
            "text/plain": [
              "<IPython.core.display.HTML object>"
            ]
          },
          "metadata": {
            "tags": []
          }
        },
        {
          "output_type": "stream",
          "text": [
            "Saving day8.txt to day8.txt\n"
          ],
          "name": "stdout"
        }
      ]
    },
    {
      "cell_type": "code",
      "metadata": {
        "colab": {
          "base_uri": "https://localhost:8080/"
        },
        "id": "EdOJif8I7Sor",
        "outputId": "5c9eefe5-9ea6-4b6a-a9d4-781ff0754409"
      },
      "source": [
        "i = parse(d8['day8.txt'].decode()[:-1])\r\n",
        "main(i)"
      ],
      "execution_count": null,
      "outputs": [
        {
          "output_type": "execute_result",
          "data": {
            "text/plain": [
              "1867"
            ]
          },
          "metadata": {
            "tags": []
          },
          "execution_count": 47
        }
      ]
    },
    {
      "cell_type": "markdown",
      "metadata": {
        "id": "f9sr1QT4ACHM"
      },
      "source": [
        "## Part 2\r\n",
        "exit condition idx == len(instructions) + 1"
      ]
    },
    {
      "cell_type": "code",
      "metadata": {
        "colab": {
          "base_uri": "https://localhost:8080/"
        },
        "id": "Ov8tkD_PAd4j",
        "outputId": "7e82e9a7-2cc0-4d59-d81b-7559bdac927c"
      },
      "source": [
        "len(i)"
      ],
      "execution_count": null,
      "outputs": [
        {
          "output_type": "execute_result",
          "data": {
            "text/plain": [
              "644"
            ]
          },
          "metadata": {
            "tags": []
          },
          "execution_count": 48
        }
      ]
    },
    {
      "cell_type": "code",
      "metadata": {
        "id": "hCTmoFhOAAVu"
      },
      "source": [
        "def chew(instructions, idx, accumulator, executed):\r\n",
        "  out = len(instructions)\r\n",
        "  if idx == out:\r\n",
        "    print('terminated')\r\n",
        "    return True, accumulator\r\n",
        "  current = instructions[idx]\r\n",
        "  \r\n",
        "  # print(current, accumulator)\r\n",
        "  if idx in executed:\r\n",
        "    # print('loop', accumulator)\r\n",
        "    return False, accumulator\r\n",
        "\r\n",
        "  else: \r\n",
        "    executed.append(idx)\r\n",
        "    if current[0] == 'nop':\r\n",
        "      idx += 1 \r\n",
        "    elif current[0] == 'acc':\r\n",
        "      accumulator += current[1]\r\n",
        "      idx += 1\r\n",
        "    elif current[0] == 'jmp':\r\n",
        "      idx += current[1]\r\n",
        "\r\n",
        "    return chew(instructions, idx, accumulator, executed)\r\n"
      ],
      "execution_count": null,
      "outputs": []
    },
    {
      "cell_type": "code",
      "metadata": {
        "id": "M_aOnnMbNcIQ"
      },
      "source": [
        "def changer(instructions):\r\n",
        "  og = instructions\r\n",
        "  for idx, instruction in enumerate(og):\r\n",
        "    # print(idx, instruction)\r\n",
        "    tmp = og.copy()\r\n",
        "    if instruction[0] == 'nop':\r\n",
        "      # print('change nop')\r\n",
        "      tmp[idx] = ('jmp',instruction[1])\r\n",
        "      resp = main(tmp)\r\n",
        "      if resp[0]:\r\n",
        "        return resp[1]\r\n",
        "    if instruction[0] == 'jmp':\r\n",
        "      # print('change jmp')\r\n",
        "      tmp[idx] = ('nop', instruction[1])\r\n",
        "      resp = main(tmp)\r\n",
        "      if resp[0]:\r\n",
        "        return resp[1]"
      ],
      "execution_count": null,
      "outputs": []
    },
    {
      "cell_type": "code",
      "metadata": {
        "colab": {
          "base_uri": "https://localhost:8080/",
          "height": 198
        },
        "id": "G54IP8UsPW2G",
        "outputId": "fbcbc55e-91a4-4bde-8831-f77fb679d0c2"
      },
      "source": [
        "p = parse(test_input)\r\n",
        "cp = p.copy()\r\n",
        "cp[3] = ('foo',2)\r\n",
        "len(cp)\r\n",
        "cp[9]"
      ],
      "execution_count": null,
      "outputs": [
        {
          "output_type": "error",
          "ename": "IndexError",
          "evalue": "ignored",
          "traceback": [
            "\u001b[0;31m---------------------------------------------------------------------------\u001b[0m",
            "\u001b[0;31mIndexError\u001b[0m                                Traceback (most recent call last)",
            "\u001b[0;32m<ipython-input-92-11185dd495fb>\u001b[0m in \u001b[0;36m<module>\u001b[0;34m()\u001b[0m\n\u001b[1;32m      3\u001b[0m \u001b[0mcp\u001b[0m\u001b[0;34m[\u001b[0m\u001b[0;36m3\u001b[0m\u001b[0;34m]\u001b[0m \u001b[0;34m=\u001b[0m \u001b[0;34m(\u001b[0m\u001b[0;34m'foo'\u001b[0m\u001b[0;34m,\u001b[0m\u001b[0;36m2\u001b[0m\u001b[0;34m)\u001b[0m\u001b[0;34m\u001b[0m\u001b[0;34m\u001b[0m\u001b[0m\n\u001b[1;32m      4\u001b[0m \u001b[0mlen\u001b[0m\u001b[0;34m(\u001b[0m\u001b[0mcp\u001b[0m\u001b[0;34m)\u001b[0m\u001b[0;34m\u001b[0m\u001b[0;34m\u001b[0m\u001b[0m\n\u001b[0;32m----> 5\u001b[0;31m \u001b[0mcp\u001b[0m\u001b[0;34m[\u001b[0m\u001b[0;36m9\u001b[0m\u001b[0;34m]\u001b[0m\u001b[0;34m\u001b[0m\u001b[0;34m\u001b[0m\u001b[0m\n\u001b[0m",
            "\u001b[0;31mIndexError\u001b[0m: list index out of range"
          ]
        }
      ]
    },
    {
      "cell_type": "code",
      "metadata": {
        "colab": {
          "base_uri": "https://localhost:8080/"
        },
        "id": "Ao5318qzZMP0",
        "outputId": "d6e7eb35-4668-4f89-b914-bb1d143c4e1a"
      },
      "source": [
        "changer(parse(test_input))"
      ],
      "execution_count": null,
      "outputs": [
        {
          "output_type": "stream",
          "text": [
            "[('jmp', 0), ('acc', 1), ('jmp', 4), ('acc', 3), ('jmp', -3), ('acc', -99), ('acc', 1), ('jmp', -4), ('acc', 6)]\n",
            "[('nop', 0), ('acc', 1), ('nop', 4), ('acc', 3), ('jmp', -3), ('acc', -99), ('acc', 1), ('jmp', -4), ('acc', 6)]\n",
            "[('nop', 0), ('acc', 1), ('jmp', 4), ('acc', 3), ('nop', -3), ('acc', -99), ('acc', 1), ('jmp', -4), ('acc', 6)]\n",
            "[('nop', 0), ('acc', 1), ('jmp', 4), ('acc', 3), ('jmp', -3), ('acc', -99), ('acc', 1), ('nop', -4), ('acc', 6)]\n",
            "terminated\n"
          ],
          "name": "stdout"
        },
        {
          "output_type": "execute_result",
          "data": {
            "text/plain": [
              "8"
            ]
          },
          "metadata": {
            "tags": []
          },
          "execution_count": 98
        }
      ]
    },
    {
      "cell_type": "code",
      "metadata": {
        "colab": {
          "base_uri": "https://localhost:8080/"
        },
        "id": "wpW0sFmbeCxS",
        "outputId": "183e7b22-8df9-4b1b-f756-1b42e97ee40b"
      },
      "source": [
        "changer(i)"
      ],
      "execution_count": null,
      "outputs": [
        {
          "output_type": "stream",
          "text": [
            "terminated\n"
          ],
          "name": "stdout"
        },
        {
          "output_type": "execute_result",
          "data": {
            "text/plain": [
              "1303"
            ]
          },
          "metadata": {
            "tags": []
          },
          "execution_count": 102
        }
      ]
    },
    {
      "cell_type": "markdown",
      "metadata": {
        "id": "hsKZU7x1R8jK"
      },
      "source": [
        "# Day 9"
      ]
    },
    {
      "cell_type": "code",
      "metadata": {
        "id": "4ylG-jywR-Gz"
      },
      "source": [
        "from google.colab import files"
      ],
      "execution_count": null,
      "outputs": []
    },
    {
      "cell_type": "code",
      "metadata": {
        "id": "vrm4B5XoU357"
      },
      "source": [
        "test_input=\"\"\"35\r\n",
        "20\r\n",
        "15\r\n",
        "25\r\n",
        "47\r\n",
        "40\r\n",
        "62\r\n",
        "55\r\n",
        "65\r\n",
        "95\r\n",
        "102\r\n",
        "117\r\n",
        "150\r\n",
        "182\r\n",
        "127\r\n",
        "219\r\n",
        "299\r\n",
        "277\r\n",
        "309\r\n",
        "576\"\"\""
      ],
      "execution_count": null,
      "outputs": []
    },
    {
      "cell_type": "code",
      "metadata": {
        "id": "jvywG4ilTlWu"
      },
      "source": [
        "def add_pairs_match(l,match):\r\n",
        "  for idx, num1 in enumerate(l):\r\n",
        "    sub_l = [item for index, item in enumerate(l) if index!=idx]\r\n",
        "    for num2 in sub_l:\r\n",
        "      # print(num1, num2, num1 + num2)\r\n",
        "      if num1 + num2 == match:\r\n",
        "        return True\r\n",
        "\r\n",
        "  return False\r\n",
        "\r\n",
        "def main(seq, len):\r\n",
        "  for idx, val in enumerate(seq):\r\n",
        "    resp = add_pairs_match(seq[idx:idx+len], seq[idx+len])\r\n",
        "    if resp == False:\r\n",
        "      return seq[idx +len]"
      ],
      "execution_count": null,
      "outputs": []
    },
    {
      "cell_type": "code",
      "metadata": {
        "colab": {
          "base_uri": "https://localhost:8080/"
        },
        "id": "POly64ndXBu9",
        "outputId": "2e56cbba-b5cd-4013-830f-981a0b7a3241"
      },
      "source": [
        "def parse(i):\r\n",
        "  return [int(j) for j in i.split()]\r\n",
        "\r\n",
        "pt= parse(test_input)\r\n",
        "pt[5]"
      ],
      "execution_count": null,
      "outputs": [
        {
          "output_type": "execute_result",
          "data": {
            "text/plain": [
              "40"
            ]
          },
          "metadata": {
            "tags": []
          },
          "execution_count": 155
        }
      ]
    },
    {
      "cell_type": "code",
      "metadata": {
        "colab": {
          "base_uri": "https://localhost:8080/"
        },
        "id": "AlQf5MmlU8UL",
        "outputId": "290afdb6-4fa6-40be-d70f-cd1c527bec68"
      },
      "source": [
        "add_pairs_match(pt[:5],40)"
      ],
      "execution_count": null,
      "outputs": [
        {
          "output_type": "execute_result",
          "data": {
            "text/plain": [
              "True"
            ]
          },
          "metadata": {
            "tags": []
          },
          "execution_count": 156
        }
      ]
    },
    {
      "cell_type": "code",
      "metadata": {
        "colab": {
          "base_uri": "https://localhost:8080/"
        },
        "id": "wSwvmoM6YDm-",
        "outputId": "97d4a725-8148-4d04-f9be-a774b2f7e57c"
      },
      "source": [
        "main(pt,5) #should = 127"
      ],
      "execution_count": null,
      "outputs": [
        {
          "output_type": "execute_result",
          "data": {
            "text/plain": [
              "127"
            ]
          },
          "metadata": {
            "tags": []
          },
          "execution_count": 157
        }
      ]
    },
    {
      "cell_type": "code",
      "metadata": {
        "colab": {
          "resources": {
            "http://localhost:8080/nbextensions/google.colab/files.js": {
              "data": "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",
              "ok": true,
              "headers": [
                [
                  "content-type",
                  "application/javascript"
                ]
              ],
              "status": 200,
              "status_text": ""
            }
          },
          "base_uri": "https://localhost:8080/",
          "height": 73
        },
        "id": "Fppyyzm7YTTq",
        "outputId": "92f81e58-eaff-4039-caf7-496520b75232"
      },
      "source": [
        "d9 = files.upload()"
      ],
      "execution_count": null,
      "outputs": [
        {
          "output_type": "display_data",
          "data": {
            "text/html": [
              "\n",
              "     <input type=\"file\" id=\"files-00745dac-1edb-4532-9a1c-7e0c25d61cb5\" name=\"files[]\" multiple disabled\n",
              "        style=\"border:none\" />\n",
              "     <output id=\"result-00745dac-1edb-4532-9a1c-7e0c25d61cb5\">\n",
              "      Upload widget is only available when the cell has been executed in the\n",
              "      current browser session. Please rerun this cell to enable.\n",
              "      </output>\n",
              "      <script src=\"/nbextensions/google.colab/files.js\"></script> "
            ],
            "text/plain": [
              "<IPython.core.display.HTML object>"
            ]
          },
          "metadata": {
            "tags": []
          }
        },
        {
          "output_type": "stream",
          "text": [
            "Saving day9.txt to day9 (1).txt\n"
          ],
          "name": "stdout"
        }
      ]
    },
    {
      "cell_type": "code",
      "metadata": {
        "colab": {
          "base_uri": "https://localhost:8080/"
        },
        "id": "U4-m-nZWYZI-",
        "outputId": "5411c300-3faf-4e43-9122-1e5e8966cf31"
      },
      "source": [
        "pi = parse(d9['day9.txt'][:-1])\r\n",
        "main(pi, 25)"
      ],
      "execution_count": null,
      "outputs": [
        {
          "output_type": "execute_result",
          "data": {
            "text/plain": [
              "1398413738"
            ]
          },
          "metadata": {
            "tags": []
          },
          "execution_count": 159
        }
      ]
    },
    {
      "cell_type": "code",
      "metadata": {
        "colab": {
          "base_uri": "https://localhost:8080/"
        },
        "id": "oJ0HZEoIapOz",
        "outputId": "5364fb8e-8164-41f5-9c36-c5d76a439633"
      },
      "source": [
        "def sum_seq(seq):\r\n",
        "  buf = 0\r\n",
        "  for i in seq:\r\n",
        "    # print(i)\r\n",
        "    buf += i\r\n",
        "  return buf\r\n",
        "\r\n",
        "sum_seq(pt[2:6])"
      ],
      "execution_count": null,
      "outputs": [
        {
          "output_type": "execute_result",
          "data": {
            "text/plain": [
              "127"
            ]
          },
          "metadata": {
            "tags": []
          },
          "execution_count": 160
        }
      ]
    },
    {
      "cell_type": "code",
      "metadata": {
        "id": "0UuGrxnwbNbz"
      },
      "source": [
        "def main2(l, target):\r\n",
        "  for start in range(len(l)):\r\n",
        "    for d in range(start, len(l)):\r\n",
        "      # print(start,d)\r\n",
        "      sub_seq = l[start:d]\r\n",
        "      resp = sum_seq(l[start:d])\r\n",
        "      if resp == target:\r\n",
        "        return min(sub_seq) + max(sub_seq)"
      ],
      "execution_count": null,
      "outputs": []
    },
    {
      "cell_type": "code",
      "metadata": {
        "colab": {
          "base_uri": "https://localhost:8080/"
        },
        "id": "VeDH7Uuyb-Am",
        "outputId": "a13dc086-02c0-4d9d-b493-0fa29b2f074e"
      },
      "source": [
        "main2(pt, 127)"
      ],
      "execution_count": null,
      "outputs": [
        {
          "output_type": "execute_result",
          "data": {
            "text/plain": [
              "62"
            ]
          },
          "metadata": {
            "tags": []
          },
          "execution_count": 162
        }
      ]
    },
    {
      "cell_type": "code",
      "metadata": {
        "id": "2u_TJ4zgdDrd",
        "colab": {
          "base_uri": "https://localhost:8080/"
        },
        "outputId": "2dd986d2-782c-4e9f-d473-994856cd2f19"
      },
      "source": [
        "import time\r\n",
        "t1 = time.time()\r\n",
        "ans = main2(pi,1398413738)\r\n",
        "el = time.time() - t1\r\n",
        "print('answer: {}, elapsed time: {} seconds'.format(ans, el))"
      ],
      "execution_count": null,
      "outputs": [
        {
          "output_type": "stream",
          "text": [
            "answer: 169521051, elapsed time: 7.204262971878052 seconds\n"
          ],
          "name": "stdout"
        }
      ]
    },
    {
      "cell_type": "markdown",
      "metadata": {
        "id": "PdbkpGo1ccTB"
      },
      "source": [
        "# Day 10\r\n",
        "\r\n",
        "Adapters can accept 1,2,3 j less than output\r\n",
        "\r\n",
        "Device is 3 jolts higher than higest rated adapter"
      ]
    },
    {
      "cell_type": "code",
      "metadata": {
        "id": "ITq2O_I1cdzF"
      },
      "source": [
        "from google.colab import files\r\n",
        "import numpy as np"
      ],
      "execution_count": null,
      "outputs": []
    },
    {
      "cell_type": "code",
      "metadata": {
        "id": "HEnSQ6EthIDi"
      },
      "source": [
        "test_input = \"\"\"16\r\n",
        "10\r\n",
        "15\r\n",
        "5\r\n",
        "1\r\n",
        "11\r\n",
        "7\r\n",
        "19\r\n",
        "6\r\n",
        "12\r\n",
        "4\"\"\"\r\n",
        "test2 =\"\"\"28\r\n",
        "33\r\n",
        "18\r\n",
        "42\r\n",
        "31\r\n",
        "14\r\n",
        "46\r\n",
        "20\r\n",
        "48\r\n",
        "47\r\n",
        "24\r\n",
        "23\r\n",
        "49\r\n",
        "45\r\n",
        "19\r\n",
        "38\r\n",
        "39\r\n",
        "11\r\n",
        "1\r\n",
        "32\r\n",
        "25\r\n",
        "35\r\n",
        "8\r\n",
        "17\r\n",
        "7\r\n",
        "9\r\n",
        "4\r\n",
        "2\r\n",
        "34\r\n",
        "10\r\n",
        "3\"\"\""
      ],
      "execution_count": null,
      "outputs": []
    },
    {
      "cell_type": "code",
      "metadata": {
        "colab": {
          "base_uri": "https://localhost:8080/"
        },
        "id": "k_zk8rqAjcRV",
        "outputId": "605c1c79-f291-4c4d-e344-4f59228f5431"
      },
      "source": [
        "def parse(t):\r\n",
        "  t = [int(j) for j in t.split()]\r\n",
        "  t.sort()\r\n",
        "  return t\r\n",
        "t1 = parse(test_input)\r\n",
        "t1"
      ],
      "execution_count": null,
      "outputs": [
        {
          "output_type": "execute_result",
          "data": {
            "text/plain": [
              "[1, 4, 5, 6, 7, 10, 11, 12, 15, 16, 19]"
            ]
          },
          "metadata": {
            "tags": []
          },
          "execution_count": 111
        }
      ]
    },
    {
      "cell_type": "code",
      "metadata": {
        "id": "2asU5Sd8u-nw"
      },
      "source": [
        "t2 = parse(test2)"
      ],
      "execution_count": null,
      "outputs": []
    },
    {
      "cell_type": "code",
      "metadata": {
        "id": "ABnlrRd5njwh"
      },
      "source": [
        "def find_diffs(l,debug=False):\r\n",
        "  diff3 = 0\r\n",
        "  diff1 = 0\r\n",
        "  poss_list = []\r\n",
        "  l = [0]+l+[max(l)+3]\r\n",
        "  for i,e in enumerate(l):\r\n",
        "    if i < len(l) -1:\r\n",
        "      if len(l)-i > 5:\r\n",
        "        look_ahead = 3 \r\n",
        "      else:\r\n",
        "        look_ahead = len(l) - i\r\n",
        "      poss = find_possibilities(l[i:i+look_ahead+1])\r\n",
        "      poss_list.append(poss)\r\n",
        "      print(poss)\r\n",
        "    if i < len(l)-1:\r\n",
        "      diff = l[i+1] - l[i]\r\n",
        "      if debug:\r\n",
        "        print(e, diff) \r\n",
        "      if diff == 1:\r\n",
        "        diff1 += 1\r\n",
        "      elif diff == 3:\r\n",
        "        diff3 +=1\r\n",
        "      else:\r\n",
        "        print('non 1 or 3 diff')\r\n",
        "  return diff1*diff3, poss_list\r\n"
      ],
      "execution_count": null,
      "outputs": []
    },
    {
      "cell_type": "code",
      "metadata": {
        "colab": {
          "base_uri": "https://localhost:8080/"
        },
        "id": "yrZwDj2HqhQc",
        "outputId": "5b043943-8f04-420f-ebbd-084aa1496f56"
      },
      "source": [
        "find_diffs(ti)"
      ],
      "execution_count": null,
      "outputs": [
        {
          "output_type": "execute_result",
          "data": {
            "text/plain": [
              "35"
            ]
          },
          "metadata": {
            "tags": []
          },
          "execution_count": 68
        }
      ]
    },
    {
      "cell_type": "code",
      "metadata": {
        "colab": {
          "base_uri": "https://localhost:8080/"
        },
        "id": "CqPcruJzuvk8",
        "outputId": "be4049c1-f307-456b-b84a-fe7743ef51b1"
      },
      "source": [
        "find_diffs(t2)"
      ],
      "execution_count": null,
      "outputs": [
        {
          "output_type": "execute_result",
          "data": {
            "text/plain": [
              "220"
            ]
          },
          "metadata": {
            "tags": []
          },
          "execution_count": 69
        }
      ]
    },
    {
      "cell_type": "code",
      "metadata": {
        "colab": {
          "resources": {
            "http://localhost:8080/nbextensions/google.colab/files.js": {
              "data": "Ly8gQ29weXJpZ2h0IDIwMTcgR29vZ2xlIExMQwovLwovLyBMaWNlbnNlZCB1bmRlciB0aGUgQXBhY2hlIExpY2Vuc2UsIFZlcnNpb24gMi4wICh0aGUgIkxpY2Vuc2UiKTsKLy8geW91IG1heSBub3QgdXNlIHRoaXMgZmlsZSBleGNlcHQgaW4gY29tcGxpYW5jZSB3aXRoIHRoZSBMaWNlbnNlLgovLyBZb3UgbWF5IG9idGFpbiBhIGNvcHkgb2YgdGhlIExpY2Vuc2UgYXQKLy8KLy8gICAgICBodHRwOi8vd3d3LmFwYWNoZS5vcmcvbGljZW5zZXMvTElDRU5TRS0yLjAKLy8KLy8gVW5sZXNzIHJlcXVpcmVkIGJ5IGFwcGxpY2FibGUgbGF3IG9yIGFncmVlZCB0byBpbiB3cml0aW5nLCBzb2Z0d2FyZQovLyBkaXN0cmlidXRlZCB1bmRlciB0aGUgTGljZW5zZSBpcyBkaXN0cmlidXRlZCBvbiBhbiAiQVMgSVMiIEJBU0lTLAovLyBXSVRIT1VUIFdBUlJBTlRJRVMgT1IgQ09ORElUSU9OUyBPRiBBTlkgS0lORCwgZWl0aGVyIGV4cHJlc3Mgb3IgaW1wbGllZC4KLy8gU2VlIHRoZSBMaWNlbnNlIGZvciB0aGUgc3BlY2lmaWMgbGFuZ3VhZ2UgZ292ZXJuaW5nIHBlcm1pc3Npb25zIGFuZAovLyBsaW1pdGF0aW9ucyB1bmRlciB0aGUgTGljZW5zZS4KCi8qKgogKiBAZmlsZW92ZXJ2aWV3IEhlbHBlcnMgZm9yIGdvb2dsZS5jb2xhYiBQeXRob24gbW9kdWxlLgogKi8KKGZ1bmN0aW9uKHNjb3BlKSB7CmZ1bmN0aW9uIHNwYW4odGV4dCwgc3R5bGVBdHRyaWJ1dGVzID0ge30pIHsKICBjb25zdCBlbGVtZW50ID0gZG9jdW1lbnQuY3JlYXRlRWxlbWVudCgnc3BhbicpOwogIGVsZW1lbnQudGV4dENvbnRlbnQgPSB0ZXh0OwogIGZvciAoY29uc3Qga2V5IG9mIE9iamVjdC5rZXlzKHN0eWxlQXR0cmlidXRlcykpIHsKICAgIGVsZW1lbnQuc3R5bGVba2V5XSA9IHN0eWxlQXR0cmlidXRlc1trZXldOwogIH0KICByZXR1cm4gZWxlbWVudDsKfQoKLy8gTWF4IG51bWJlciBvZiBieXRlcyB3aGljaCB3aWxsIGJlIHVwbG9hZGVkIGF0IGEgdGltZS4KY29uc3QgTUFYX1BBWUxPQURfU0laRSA9IDEwMCAqIDEwMjQ7CgpmdW5jdGlvbiBfdXBsb2FkRmlsZXMoaW5wdXRJZCwgb3V0cHV0SWQpIHsKICBjb25zdCBzdGVwcyA9IHVwbG9hZEZpbGVzU3RlcChpbnB1dElkLCBvdXRwdXRJZCk7CiAgY29uc3Qgb3V0cHV0RWxlbWVudCA9IGRvY3VtZW50LmdldEVsZW1lbnRCeUlkKG91dHB1dElkKTsKICAvLyBDYWNoZSBzdGVwcyBvbiB0aGUgb3V0cHV0RWxlbWVudCB0byBtYWtlIGl0IGF2YWlsYWJsZSBmb3IgdGhlIG5leHQgY2FsbAogIC8vIHRvIHVwbG9hZEZpbGVzQ29udGludWUgZnJvbSBQeXRob24uCiAgb3V0cHV0RWxlbWVudC5zdGVwcyA9IHN0ZXBzOwoKICByZXR1cm4gX3VwbG9hZEZpbGVzQ29udGludWUob3V0cHV0SWQpOwp9CgovLyBUaGlzIGlzIHJvdWdobHkgYW4gYXN5bmMgZ2VuZXJhdG9yIChub3Qgc3VwcG9ydGVkIGluIHRoZSBicm93c2VyIHlldCksCi8vIHdoZXJlIHRoZXJlIGFyZSBtdWx0aXBsZSBhc3luY2hyb25vdXMgc3RlcHMgYW5kIHRoZSBQeXRob24gc2lkZSBpcyBnb2luZwovLyB0byBwb2xsIGZvciBjb21wbGV0aW9uIG9mIGVhY2ggc3RlcC4KLy8gVGhpcyB1c2VzIGEgUHJvbWlzZSB0byBibG9jayB0aGUgcHl0aG9uIHNpZGUgb24gY29tcGxldGlvbiBvZiBlYWNoIHN0ZXAsCi8vIHRoZW4gcGFzc2VzIHRoZSByZXN1bHQgb2YgdGhlIHByZXZpb3VzIHN0ZXAgYXMgdGhlIGlucHV0IHRvIHRoZSBuZXh0IHN0ZXAuCmZ1bmN0aW9uIF91cGxvYWRGaWxlc0NvbnRpbnVlKG91dHB1dElkKSB7CiAgY29uc3Qgb3V0cHV0RWxlbWVudCA9IGRvY3VtZW50LmdldEVsZW1lbnRCeUlkKG91dHB1dElkKTsKICBjb25zdCBzdGVwcyA9IG91dHB1dEVsZW1lbnQuc3RlcHM7CgogIGNvbnN0IG5leHQgPSBzdGVwcy5uZXh0KG91dHB1dEVsZW1lbnQubGFzdFByb21pc2VWYWx1ZSk7CiAgcmV0dXJuIFByb21pc2UucmVzb2x2ZShuZXh0LnZhbHVlLnByb21pc2UpLnRoZW4oKHZhbHVlKSA9PiB7CiAgICAvLyBDYWNoZSB0aGUgbGFzdCBwcm9taXNlIHZhbHVlIHRvIG1ha2UgaXQgYXZhaWxhYmxlIHRvIHRoZSBuZXh0CiAgICAvLyBzdGVwIG9mIHRoZSBnZW5lcmF0b3IuCiAgICBvdXRwdXRFbGVtZW50Lmxhc3RQcm9taXNlVmFsdWUgPSB2YWx1ZTsKICAgIHJldHVybiBuZXh0LnZhbHVlLnJlc3BvbnNlOwogIH0pOwp9CgovKioKICogR2VuZXJhdG9yIGZ1bmN0aW9uIHdoaWNoIGlzIGNhbGxlZCBiZXR3ZWVuIGVhY2ggYXN5bmMgc3RlcCBvZiB0aGUgdXBsb2FkCiAqIHByb2Nlc3MuCiAqIEBwYXJhbSB7c3RyaW5nfSBpbnB1dElkIEVsZW1lbnQgSUQgb2YgdGhlIGlucHV0IGZpbGUgcGlja2VyIGVsZW1lbnQuCiAqIEBwYXJhbSB7c3RyaW5nfSBvdXRwdXRJZCBFbGVtZW50IElEIG9mIHRoZSBvdXRwdXQgZGlzcGxheS4KICogQHJldHVybiB7IUl0ZXJhYmxlPCFPYmplY3Q+fSBJdGVyYWJsZSBvZiBuZXh0IHN0ZXBzLgogKi8KZnVuY3Rpb24qIHVwbG9hZEZpbGVzU3RlcChpbnB1dElkLCBvdXRwdXRJZCkgewogIGNvbnN0IGlucHV0RWxlbWVudCA9IGRvY3VtZW50LmdldEVsZW1lbnRCeUlkKGlucHV0SWQpOwogIGlucHV0RWxlbWVudC5kaXNhYmxlZCA9IGZhbHNlOwoKICBjb25zdCBvdXRwdXRFbGVtZW50ID0gZG9jdW1lbnQuZ2V0RWxlbWVudEJ5SWQob3V0cHV0SWQpOwogIG91dHB1dEVsZW1lbnQuaW5uZXJIVE1MID0gJyc7CgogIGNvbnN0IHBpY2tlZFByb21pc2UgPSBuZXcgUHJvbWlzZSgocmVzb2x2ZSkgPT4gewogICAgaW5wdXRFbGVtZW50LmFkZEV2ZW50TGlzdGVuZXIoJ2NoYW5nZScsIChlKSA9PiB7CiAgICAgIHJlc29sdmUoZS50YXJnZXQuZmlsZXMpOwogICAgfSk7CiAgfSk7CgogIGNvbnN0IGNhbmNlbCA9IGRvY3VtZW50LmNyZWF0ZUVsZW1lbnQoJ2J1dHRvbicpOwogIGlucHV0RWxlbWVudC5wYXJlbnRFbGVtZW50LmFwcGVuZENoaWxkKGNhbmNlbCk7CiAgY2FuY2VsLnRleHRDb250ZW50ID0gJ0NhbmNlbCB1cGxvYWQnOwogIGNvbnN0IGNhbmNlbFByb21pc2UgPSBuZXcgUHJvbWlzZSgocmVzb2x2ZSkgPT4gewogICAgY2FuY2VsLm9uY2xpY2sgPSAoKSA9PiB7CiAgICAgIHJlc29sdmUobnVsbCk7CiAgICB9OwogIH0pOwoKICAvLyBXYWl0IGZvciB0aGUgdXNlciB0byBwaWNrIHRoZSBmaWxlcy4KICBjb25zdCBmaWxlcyA9IHlpZWxkIHsKICAgIHByb21pc2U6IFByb21pc2UucmFjZShbcGlja2VkUHJvbWlzZSwgY2FuY2VsUHJvbWlzZV0pLAogICAgcmVzcG9uc2U6IHsKICAgICAgYWN0aW9uOiAnc3RhcnRpbmcnLAogICAgfQogIH07CgogIGNhbmNlbC5yZW1vdmUoKTsKCiAgLy8gRGlzYWJsZSB0aGUgaW5wdXQgZWxlbWVudCBzaW5jZSBmdXJ0aGVyIHBpY2tzIGFyZSBub3QgYWxsb3dlZC4KICBpbnB1dEVsZW1lbnQuZGlzYWJsZWQgPSB0cnVlOwoKICBpZiAoIWZpbGVzKSB7CiAgICByZXR1cm4gewogICAgICByZXNwb25zZTogewogICAgICAgIGFjdGlvbjogJ2NvbXBsZXRlJywKICAgICAgfQogICAgfTsKICB9CgogIGZvciAoY29uc3QgZmlsZSBvZiBmaWxlcykgewogICAgY29uc3QgbGkgPSBkb2N1bWVudC5jcmVhdGVFbGVtZW50KCdsaScpOwogICAgbGkuYXBwZW5kKHNwYW4oZmlsZS5uYW1lLCB7Zm9udFdlaWdodDogJ2JvbGQnfSkpOwogICAgbGkuYXBwZW5kKHNwYW4oCiAgICAgICAgYCgke2ZpbGUudHlwZSB8fCAnbi9hJ30pIC0gJHtmaWxlLnNpemV9IGJ5dGVzLCBgICsKICAgICAgICBgbGFzdCBtb2RpZmllZDogJHsKICAgICAgICAgICAgZmlsZS5sYXN0TW9kaWZpZWREYXRlID8gZmlsZS5sYXN0TW9kaWZpZWREYXRlLnRvTG9jYWxlRGF0ZVN0cmluZygpIDoKICAgICAgICAgICAgICAgICAgICAgICAgICAgICAgICAgICAgJ24vYSd9IC0gYCkpOwogICAgY29uc3QgcGVyY2VudCA9IHNwYW4oJzAlIGRvbmUnKTsKICAgIGxpLmFwcGVuZENoaWxkKHBlcmNlbnQpOwoKICAgIG91dHB1dEVsZW1lbnQuYXBwZW5kQ2hpbGQobGkpOwoKICAgIGNvbnN0IGZpbGVEYXRhUHJvbWlzZSA9IG5ldyBQcm9taXNlKChyZXNvbHZlKSA9PiB7CiAgICAgIGNvbnN0IHJlYWRlciA9IG5ldyBGaWxlUmVhZGVyKCk7CiAgICAgIHJlYWRlci5vbmxvYWQgPSAoZSkgPT4gewogICAgICAgIHJlc29sdmUoZS50YXJnZXQucmVzdWx0KTsKICAgICAgfTsKICAgICAgcmVhZGVyLnJlYWRBc0FycmF5QnVmZmVyKGZpbGUpOwogICAgfSk7CiAgICAvLyBXYWl0IGZvciB0aGUgZGF0YSB0byBiZSByZWFkeS4KICAgIGxldCBmaWxlRGF0YSA9IHlpZWxkIHsKICAgICAgcHJvbWlzZTogZmlsZURhdGFQcm9taXNlLAogICAgICByZXNwb25zZTogewogICAgICAgIGFjdGlvbjogJ2NvbnRpbnVlJywKICAgICAgfQogICAgfTsKCiAgICAvLyBVc2UgYSBjaHVua2VkIHNlbmRpbmcgdG8gYXZvaWQgbWVzc2FnZSBzaXplIGxpbWl0cy4gU2VlIGIvNjIxMTU2NjAuCiAgICBsZXQgcG9zaXRpb24gPSAwOwogICAgd2hpbGUgKHBvc2l0aW9uIDwgZmlsZURhdGEuYnl0ZUxlbmd0aCkgewogICAgICBjb25zdCBsZW5ndGggPSBNYXRoLm1pbihmaWxlRGF0YS5ieXRlTGVuZ3RoIC0gcG9zaXRpb24sIE1BWF9QQVlMT0FEX1NJWkUpOwogICAgICBjb25zdCBjaHVuayA9IG5ldyBVaW50OEFycmF5KGZpbGVEYXRhLCBwb3NpdGlvbiwgbGVuZ3RoKTsKICAgICAgcG9zaXRpb24gKz0gbGVuZ3RoOwoKICAgICAgY29uc3QgYmFzZTY0ID0gYnRvYShTdHJpbmcuZnJvbUNoYXJDb2RlLmFwcGx5KG51bGwsIGNodW5rKSk7CiAgICAgIHlpZWxkIHsKICAgICAgICByZXNwb25zZTogewogICAgICAgICAgYWN0aW9uOiAnYXBwZW5kJywKICAgICAgICAgIGZpbGU6IGZpbGUubmFtZSwKICAgICAgICAgIGRhdGE6IGJhc2U2NCwKICAgICAgICB9LAogICAgICB9OwogICAgICBwZXJjZW50LnRleHRDb250ZW50ID0KICAgICAgICAgIGAke01hdGgucm91bmQoKHBvc2l0aW9uIC8gZmlsZURhdGEuYnl0ZUxlbmd0aCkgKiAxMDApfSUgZG9uZWA7CiAgICB9CiAgfQoKICAvLyBBbGwgZG9uZS4KICB5aWVsZCB7CiAgICByZXNwb25zZTogewogICAgICBhY3Rpb246ICdjb21wbGV0ZScsCiAgICB9CiAgfTsKfQoKc2NvcGUuZ29vZ2xlID0gc2NvcGUuZ29vZ2xlIHx8IHt9OwpzY29wZS5nb29nbGUuY29sYWIgPSBzY29wZS5nb29nbGUuY29sYWIgfHwge307CnNjb3BlLmdvb2dsZS5jb2xhYi5fZmlsZXMgPSB7CiAgX3VwbG9hZEZpbGVzLAogIF91cGxvYWRGaWxlc0NvbnRpbnVlLAp9Owp9KShzZWxmKTsK",
              "ok": true,
              "headers": [
                [
                  "content-type",
                  "application/javascript"
                ]
              ],
              "status": 200,
              "status_text": ""
            }
          },
          "base_uri": "https://localhost:8080/",
          "height": 73
        },
        "id": "LjKbnDbivZmf",
        "outputId": "4ab3aa34-680f-4a0a-e660-eab4809bb56b"
      },
      "source": [
        "d10 = files.upload()"
      ],
      "execution_count": null,
      "outputs": [
        {
          "output_type": "display_data",
          "data": {
            "text/html": [
              "\n",
              "     <input type=\"file\" id=\"files-7d31a729-f438-4e0a-bc22-4cafc89a20a8\" name=\"files[]\" multiple disabled\n",
              "        style=\"border:none\" />\n",
              "     <output id=\"result-7d31a729-f438-4e0a-bc22-4cafc89a20a8\">\n",
              "      Upload widget is only available when the cell has been executed in the\n",
              "      current browser session. Please rerun this cell to enable.\n",
              "      </output>\n",
              "      <script src=\"/nbextensions/google.colab/files.js\"></script> "
            ],
            "text/plain": [
              "<IPython.core.display.HTML object>"
            ]
          },
          "metadata": {
            "tags": []
          }
        },
        {
          "output_type": "stream",
          "text": [
            "Saving day10.txt to day10 (1).txt\n"
          ],
          "name": "stdout"
        }
      ]
    },
    {
      "cell_type": "code",
      "metadata": {
        "id": "_o-cRgIpvdtt"
      },
      "source": [
        "pi = parse(d10['day10.txt'])\r\n"
      ],
      "execution_count": null,
      "outputs": []
    },
    {
      "cell_type": "code",
      "metadata": {
        "colab": {
          "base_uri": "https://localhost:8080/"
        },
        "id": "WAkxBFRHvr9Q",
        "outputId": "8f5f6128-7693-415c-f092-5bd5c25c897c"
      },
      "source": [
        "find_diffs(pi)"
      ],
      "execution_count": null,
      "outputs": [
        {
          "output_type": "execute_result",
          "data": {
            "text/plain": [
              "1984"
            ]
          },
          "metadata": {
            "tags": []
          },
          "execution_count": 75
        }
      ]
    },
    {
      "cell_type": "markdown",
      "metadata": {
        "id": "eURb6uGav4Yv"
      },
      "source": [
        "## Part 2"
      ]
    },
    {
      "cell_type": "code",
      "metadata": {
        "id": "WPnaTmPk6P9i"
      },
      "source": [
        "from functools import lru_cache "
      ],
      "execution_count": null,
      "outputs": []
    },
    {
      "cell_type": "code",
      "metadata": {
        "id": "27YZHT57v8Lf"
      },
      "source": [
        "def find_possibilities(tot_list, start_index):\r\n",
        "  #length 3\r\n",
        "  sub_list = tot_list[start_index:start_index+4]\r\n",
        "  # print(sub_list)\r\n",
        "  options = 0\r\n",
        "  opt_list = []\r\n",
        "  for i, ent in enumerate(sub_list):\r\n",
        "    if i>0:\r\n",
        "      if ent - sub_list[0] <= 3:\r\n",
        "        options +=1\r\n",
        "        opt_list.append(i+start_index)\r\n",
        "  return opt_list\r\n"
      ],
      "execution_count": null,
      "outputs": []
    },
    {
      "cell_type": "code",
      "metadata": {
        "colab": {
          "base_uri": "https://localhost:8080/"
        },
        "id": "n1hKHqiUy7NE",
        "outputId": "774158ce-f277-4e89-b550-d93c431bc72c"
      },
      "source": [
        "find_possibilities([7,10,11],0)"
      ],
      "execution_count": null,
      "outputs": [
        {
          "output_type": "execute_result",
          "data": {
            "text/plain": [
              "[1]"
            ]
          },
          "metadata": {
            "tags": []
          },
          "execution_count": 140
        }
      ]
    },
    {
      "cell_type": "code",
      "metadata": {
        "id": "ptVk9ueF-OGZ"
      },
      "source": [
        "def crawl(total_l, index, segment, maxymax)\r\n",
        "  if current == maxymax:\r\n",
        "    return 1\r\n",
        "  possibilities \r\n",
        "  find_next()\r\n",
        "  for next in find_next():\r\n",
        "    crawl()\r\n",
        "    "
      ],
      "execution_count": null,
      "outputs": []
    },
    {
      "cell_type": "code",
      "metadata": {
        "id": "v1mr6GDDMIc8"
      },
      "source": [
        "def main(listy):\r\n",
        "  l=listy\r\n",
        "  tot_path = 0\r\n",
        "\r\n",
        "  @lru_cache(maxsize = 8)\r\n",
        "  def dumb_crawl(idx):\r\n",
        "    path = 0\r\n",
        "    # print(l[idx],idx)\r\n",
        "    if l[idx] == max(l):\r\n",
        "      # print('complete')\r\n",
        "      return 1\r\n",
        "    if idx < len(l)-1:\r\n",
        "      possibilities = find_possibilities(l, idx)\r\n",
        "      # if len(possibilities) > 1:\r\n",
        "        # print([l[pos] for pos in possibilities])\r\n",
        "      for pos in possibilities:\r\n",
        "        path += dumb_crawl(pos) \r\n",
        "    return path\r\n",
        "\r\n",
        "  tot_path +=dumb_crawl(0)\r\n",
        "  return tot_path\r\n",
        "\r\n",
        "  \r\n"
      ],
      "execution_count": null,
      "outputs": []
    },
    {
      "cell_type": "code",
      "metadata": {
        "colab": {
          "base_uri": "https://localhost:8080/"
        },
        "id": "U6oa94l309k8",
        "outputId": "d5ee1fa0-d14a-49ca-97e2-7cb1709ba574"
      },
      "source": [
        "main([0]+t1+[max(t1)+3])"
      ],
      "execution_count": null,
      "outputs": [
        {
          "output_type": "execute_result",
          "data": {
            "text/plain": [
              "8"
            ]
          },
          "metadata": {
            "tags": []
          },
          "execution_count": 192
        }
      ]
    },
    {
      "cell_type": "code",
      "metadata": {
        "colab": {
          "base_uri": "https://localhost:8080/"
        },
        "id": "6EzPikQR0bOk",
        "outputId": "d8f28d77-81a1-4671-cca4-b353afc4a291"
      },
      "source": [
        "main([0]+pi+[max(pi)+3])"
      ],
      "execution_count": null,
      "outputs": [
        {
          "output_type": "execute_result",
          "data": {
            "text/plain": [
              "3543369523456"
            ]
          },
          "metadata": {
            "tags": []
          },
          "execution_count": 199
        }
      ]
    },
    {
      "cell_type": "markdown",
      "metadata": {
        "id": "CG6jc29m9hVS"
      },
      "source": [
        "# Day 11"
      ]
    },
    {
      "cell_type": "code",
      "metadata": {
        "id": "jgE3zDshgqAJ"
      },
      "source": [
        "from google.colab import files\r\n",
        "import numpy as np\r\n",
        "from dataclasses import dataclass\r\n",
        "import copy"
      ],
      "execution_count": null,
      "outputs": []
    },
    {
      "cell_type": "code",
      "metadata": {
        "id": "M1dmeUkS9j4o"
      },
      "source": [
        "test_input = \"\"\"L.LL.LL.LL\r\n",
        "LLLLLLL.LL\r\n",
        "L.L.L..L..\r\n",
        "LLLL.LL.LL\r\n",
        "L.LL.LL.LL\r\n",
        "L.LLLLL.LL\r\n",
        "..L.L.....\r\n",
        "LLLLLLLLLL\r\n",
        "L.LLLLLL.L\r\n",
        "L.LLLLL.LL\"\"\""
      ],
      "execution_count": null,
      "outputs": []
    },
    {
      "cell_type": "code",
      "metadata": {
        "id": "wr2Hs1lMgogt"
      },
      "source": [
        "@dataclass\r\n",
        "class Spot:\r\n",
        "  x: int\r\n",
        "  y: int\r\n",
        "\r\n",
        "def parse(i):\r\n",
        "  l = []\r\n",
        "  for e in i.split():\r\n",
        "    l.append([f for f in e])\r\n",
        "  return l\r\n",
        "ti = parse(test_input)\r\n",
        "ti\r\n",
        "sp=Spot(2,2)"
      ],
      "execution_count": null,
      "outputs": []
    },
    {
      "cell_type": "code",
      "metadata": {
        "colab": {
          "base_uri": "https://localhost:8080/",
          "height": 35
        },
        "id": "d8-k5xOcE9mW",
        "outputId": "fe1305b1-e493-4159-c3ba-59545262f0ab"
      },
      "source": [
        "ti[9]"
      ],
      "execution_count": null,
      "outputs": [
        {
          "output_type": "execute_result",
          "data": {
            "application/vnd.google.colaboratory.intrinsic+json": {
              "type": "string"
            },
            "text/plain": [
              "'L.LLLLL.LL'"
            ]
          },
          "metadata": {
            "tags": []
          },
          "execution_count": 36
        }
      ]
    },
    {
      "cell_type": "code",
      "metadata": {
        "id": "-n64Hm9BhSi6",
        "colab": {
          "base_uri": "https://localhost:8080/"
        },
        "outputId": "1d34f3ad-261f-4309-c5bb-5805e133a289"
      },
      "source": [
        "def find_adjacent(spot: Spot):\r\n",
        "  x = spot.x\r\n",
        "  y = spot.y\r\n",
        "  l = Spot(x-1,y)\r\n",
        "  r = Spot(x+1,y)\r\n",
        "  u = Spot(x,y+1)\r\n",
        "  d = Spot(x,y-1)\r\n",
        "\r\n",
        "  ur = Spot(x+1,y+1)\r\n",
        "  ul = Spot(x-1,y+1)\r\n",
        "  lr = Spot(x+1,y-1)\r\n",
        "  ll = Spot(x-1,y-1)\r\n",
        "  return [l,r,u,d,ur,ul,lr,ll]\r\n",
        "\r\n",
        "def at_site(l, spot: Spot):\r\n",
        "  height = len(l)\r\n",
        "  width = len(l[0])\r\n",
        "  if spot.x < 0 or spot.y < 0:\r\n",
        "    return False\r\n",
        "  elif spot.x < height and spot.y < width:\r\n",
        "    return l[spot.x][spot.y]\r\n",
        "  else:\r\n",
        "    return False\r\n",
        "\r\n",
        "sp = Spot(2,2)\r\n",
        "\r\n",
        "assert len(find_adjacent(sp)) == 8\r\n",
        "\r\n",
        "\r\n",
        "assert at_site(ti,Spot(0,10)) == False\r\n",
        "assert at_site(ti,Spot(1,5)) == 'L'\r\n",
        "assert at_site(ti,Spot(2,5)) == '.'\r\n",
        "find_adjacent(sp)"
      ],
      "execution_count": null,
      "outputs": [
        {
          "output_type": "execute_result",
          "data": {
            "text/plain": [
              "[Spot(x=1, y=2),\n",
              " Spot(x=3, y=2),\n",
              " Spot(x=2, y=3),\n",
              " Spot(x=2, y=1),\n",
              " Spot(x=3, y=3),\n",
              " Spot(x=1, y=3),\n",
              " Spot(x=3, y=1),\n",
              " Spot(x=1, y=1)]"
            ]
          },
          "metadata": {
            "tags": []
          },
          "execution_count": 131
        }
      ]
    },
    {
      "cell_type": "code",
      "metadata": {
        "id": "4Jsk3fxsjSJ0"
      },
      "source": [
        "def check_rules(s):\r\n",
        "  # print(s)\r\n",
        "  if s == '#':\r\n",
        "    return 1\r\n",
        "  elif s in ['.','L']:\r\n",
        "    return 0\r\n",
        "  else:\r\n",
        "    raise ValueError('value {} not allowed'.format(s))\r\n",
        "\r\n",
        "assert check_rules('#') == 1\r\n",
        "assert check_rules('.') == 0"
      ],
      "execution_count": null,
      "outputs": []
    },
    {
      "cell_type": "code",
      "metadata": {
        "id": "Rk6CVbPcCFsy"
      },
      "source": [
        "def check_adjacent(mp, site):\r\n",
        "  cnt = 0\r\n",
        "  for ent in find_adjacent(site):\r\n",
        "    st = at_site(mp, ent)\r\n",
        "    # print(ent,st)\r\n",
        "    if st:\r\n",
        "      cnt += check_rules(st)\r\n",
        "      # print(at_site(mp,ent), ent)\r\n",
        "  return cnt\r\n",
        "all = \"\"\"###\r\n",
        "###\r\n",
        "###\"\"\"\r\n",
        "only4 = \"\"\"L#L\r\n",
        "#.#\r\n",
        "L#L\"\"\"\r\n",
        "assert check_adjacent(parse(all), Spot(1,1))   == 8   \r\n",
        "assert check_adjacent(parse(only4), Spot(1,1))   == 4     "
      ],
      "execution_count": null,
      "outputs": []
    },
    {
      "cell_type": "code",
      "metadata": {
        "id": "IV5HQayelFai"
      },
      "source": [
        "def step(mp):\r\n",
        "  cp = copy.deepcopy(mp)\r\n",
        "  for x, line in enumerate(cp):\r\n",
        "    for y, spot in enumerate(line):\r\n",
        "      spot = Spot(x,y)\r\n",
        "      at = at_site(mp,spot)\r\n",
        "      # print(at)\r\n",
        "      if at == '.':\r\n",
        "        # print('do nothing')\r\n",
        "        pass\r\n",
        "      elif at == 'L':\r\n",
        "        # print('do something')\r\n",
        "        ans = check_adjacent(mp,spot)\r\n",
        "        if ans == 0:\r\n",
        "          cp[x][y] = '#'\r\n",
        "      elif at == '#':\r\n",
        "        ans = check_adjacent(mp,spot)\r\n",
        "        if ans >= 4:\r\n",
        "          cp[x][y] = 'L'\r\n",
        "        # print(at_site(mp,(x,y)))\r\n",
        "  return cp\r\n",
        "\r\n",
        "def pp(mp):\r\n",
        "  s = ''\r\n",
        "  for line in mp:\r\n",
        "    for ent in line:\r\n",
        "      s=s+ent\r\n",
        "    s=s+'\\n'\r\n",
        "  return(s)\r\n",
        "\r\n"
      ],
      "execution_count": null,
      "outputs": []
    },
    {
      "cell_type": "code",
      "metadata": {
        "id": "xW-Idgw6alLk"
      },
      "source": [
        "test_r2 = \"\"\"#.LL.L#.##\r\n",
        "#LLLLLL.L#\r\n",
        "L.L.L..L..\r\n",
        "#LLL.LL.L#\r\n",
        "#.LL.LL.LL\r\n",
        "#.LLLL#.##\r\n",
        "..L.L.....\r\n",
        "#LLLLLLLL#\r\n",
        "#.LLLLLL.L\r\n",
        "#.#LLLL.##\"\"\"\r\n",
        "test_r3 = \"\"\"#.##.L#.##\r\n",
        "#L###LL.L#\r\n",
        "L.#.#..#..\r\n",
        "#L##.##.L#\r\n",
        "#.##.LL.LL\r\n",
        "#.###L#.##\r\n",
        "..#.#.....\r\n",
        "#L######L#\r\n",
        "#.LL###L.L\r\n",
        "#.#L###.##\"\"\""
      ],
      "execution_count": null,
      "outputs": []
    },
    {
      "cell_type": "code",
      "metadata": {
        "colab": {
          "base_uri": "https://localhost:8080/"
        },
        "id": "dXfE16ePjucw",
        "outputId": "2729bb03-d499-4e34-d5bf-919215aa0b82"
      },
      "source": [
        "# print(test_input)\r\n",
        "ti = parse(test_input)\r\n",
        "r1 = step(ti)\r\n",
        "r2 = step(r1)\r\n",
        "assert r2 == parse(test_r2)\r\n",
        "r3 = step(r2)\r\n",
        "print(pp(r3))\r\n",
        "print('')\r\n",
        "print(test_r2)\r\n",
        "assert r3 == parse(test_r3)\r\n",
        "test_r3.count('L')"
      ],
      "execution_count": null,
      "outputs": [
        {
          "output_type": "stream",
          "text": [
            "#.##.L#.##\n",
            "#L###LL.L#\n",
            "L.#.#..#..\n",
            "#L##.##.L#\n",
            "#.##.LL.LL\n",
            "#.###L#.##\n",
            "..#.#.....\n",
            "#L######L#\n",
            "#.LL###L.L\n",
            "#.#L###.##\n",
            "\n",
            "\n",
            "#.LL.L#.##\n",
            "#LLLLLL.L#\n",
            "L.L.L..L..\n",
            "#LLL.LL.L#\n",
            "#.LL.LL.LL\n",
            "#.LLLL#.##\n",
            "..L.L.....\n",
            "#LLLLLLLL#\n",
            "#.LLLLLL.L\n",
            "#.#LLLL.##\n"
          ],
          "name": "stdout"
        },
        {
          "output_type": "execute_result",
          "data": {
            "text/plain": [
              "20"
            ]
          },
          "metadata": {
            "tags": []
          },
          "execution_count": 105
        }
      ]
    },
    {
      "cell_type": "code",
      "metadata": {
        "colab": {
          "resources": {
            "http://localhost:8080/nbextensions/google.colab/files.js": {
              "data": "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",
              "ok": true,
              "headers": [
                [
                  "content-type",
                  "application/javascript"
                ]
              ],
              "status": 200,
              "status_text": ""
            }
          },
          "base_uri": "https://localhost:8080/",
          "height": 73
        },
        "id": "5nB-flF-py2t",
        "outputId": "60600788-ab3a-419a-d980-6bcdeed44f50"
      },
      "source": [
        "d11 = files.upload()"
      ],
      "execution_count": null,
      "outputs": [
        {
          "output_type": "display_data",
          "data": {
            "text/html": [
              "\n",
              "     <input type=\"file\" id=\"files-5607c37d-f79b-433d-95b2-0ded165fe36b\" name=\"files[]\" multiple disabled\n",
              "        style=\"border:none\" />\n",
              "     <output id=\"result-5607c37d-f79b-433d-95b2-0ded165fe36b\">\n",
              "      Upload widget is only available when the cell has been executed in the\n",
              "      current browser session. Please rerun this cell to enable.\n",
              "      </output>\n",
              "      <script src=\"/nbextensions/google.colab/files.js\"></script> "
            ],
            "text/plain": [
              "<IPython.core.display.HTML object>"
            ]
          },
          "metadata": {
            "tags": []
          }
        },
        {
          "output_type": "stream",
          "text": [
            "Saving day11.txt to day11.txt\n"
          ],
          "name": "stdout"
        }
      ]
    },
    {
      "cell_type": "code",
      "metadata": {
        "colab": {
          "base_uri": "https://localhost:8080/"
        },
        "id": "uWu4Q8XLp4xv",
        "outputId": "213c383f-11c6-4651-9d9d-a718eda50178"
      },
      "source": [
        "pi = parse(d11['day11.txt'].decode())\r\n",
        "len(pi)\r\n",
        "len(pi[0])"
      ],
      "execution_count": null,
      "outputs": [
        {
          "output_type": "execute_result",
          "data": {
            "text/plain": [
              "95"
            ]
          },
          "metadata": {
            "tags": []
          },
          "execution_count": 119
        }
      ]
    },
    {
      "cell_type": "code",
      "metadata": {
        "id": "btVP8ezfdQwa",
        "colab": {
          "base_uri": "https://localhost:8080/"
        },
        "outputId": "8ae759ec-f137-4bfa-8948-e2e6d7e27b7e"
      },
      "source": [
        "def main(mp):\r\n",
        "  trials = 100000000\r\n",
        "  nx =  copy.deepcopy(mp)\r\n",
        "  for i in range(trials):\r\n",
        "    curr = copy.deepcopy(nx)\r\n",
        "    nx = step(curr)\r\n",
        "    if curr == nx:\r\n",
        "      return pp(nx).count('#')\r\n",
        "  return pp(nx).count('#')\r\n",
        "\r\n",
        "main(pi)"
      ],
      "execution_count": null,
      "outputs": [
        {
          "output_type": "execute_result",
          "data": {
            "text/plain": [
              "2211"
            ]
          },
          "metadata": {
            "tags": []
          },
          "execution_count": 127
        }
      ]
    },
    {
      "cell_type": "code",
      "metadata": {
        "colab": {
          "base_uri": "https://localhost:8080/"
        },
        "id": "T8ON05GooOtV",
        "outputId": "8667a79c-8bc8-4dff-bcad-ba0a01b8efc9"
      },
      "source": [
        "at_site(nx, Spot(8,5))\r\n",
        "check_adjacent(ti, Spot(8,5))"
      ],
      "execution_count": null,
      "outputs": [
        {
          "output_type": "execute_result",
          "data": {
            "text/plain": [
              "8"
            ]
          },
          "metadata": {
            "tags": []
          },
          "execution_count": 45
        }
      ]
    },
    {
      "cell_type": "code",
      "metadata": {
        "colab": {
          "base_uri": "https://localhost:8080/"
        },
        "id": "VJzrqHQ-X5of",
        "outputId": "43ffe4b6-5fd9-4705-abba-5f5f161d1b97"
      },
      "source": [
        "foo = [[1,2,3,4]]\r\n",
        "print(foo)\r\n",
        "foo[0][1]= 'o'\r\n",
        "print(foo)\r\n",
        "bar = foo.copy()\r\n",
        "bar[0][2] = 'b'\r\n",
        "print(bar)\r\n",
        "print(foo)"
      ],
      "execution_count": null,
      "outputs": [
        {
          "output_type": "stream",
          "text": [
            "[[1, 2, 3, 4]]\n",
            "[[1, 'o', 3, 4]]\n",
            "[[1, 'o', 'b', 4]]\n",
            "[[1, 'o', 'b', 4]]\n"
          ],
          "name": "stdout"
        }
      ]
    },
    {
      "cell_type": "code",
      "metadata": {
        "id": "47VIFBzl1bgB"
      },
      "source": [
        "2211"
      ],
      "execution_count": null,
      "outputs": []
    },
    {
      "cell_type": "markdown",
      "metadata": {
        "id": "KHAf81Bl92k7"
      },
      "source": [
        "## Part 2"
      ]
    },
    {
      "cell_type": "code",
      "metadata": {
        "id": "z5yZS8EL_WXd"
      },
      "source": [
        "import itertools"
      ],
      "execution_count": null,
      "outputs": []
    },
    {
      "cell_type": "code",
      "metadata": {
        "colab": {
          "base_uri": "https://localhost:8080/"
        },
        "id": "vfHqWTx199O-",
        "outputId": "582d6eaf-6812-40d4-c27a-616464fba68d"
      },
      "source": [
        "test_8 = \"\"\".......#.\r\n",
        "...#.....\r\n",
        ".#.......\r\n",
        ".........\r\n",
        "..#L....#\r\n",
        "....#....\r\n",
        ".........\r\n",
        "#........\r\n",
        "...#.....\"\"\"\r\n",
        "test_0 = \"\"\".##.##.\r\n",
        "#.#.#.#\r\n",
        "##...##\r\n",
        "...L...\r\n",
        "##...##\r\n",
        "#.#.#.#\r\n",
        ".##.##.\"\"\"\r\n",
        "test_L0 = \"\"\".##.##.\r\n",
        "#.#L#.#\r\n",
        "##...##\r\n",
        ".L.L.L.\r\n",
        "##...##\r\n",
        "#.#L#.#\r\n",
        ".##.##.\"\"\"\r\n",
        "dirs = list(itertools.product([-1,0,1],[-1,0,1]))\r\n",
        "dirs.remove((0,0))\r\n",
        "dirs = [Spot(a[0],a[1]) for a in dirs]\r\n",
        "dirs"
      ],
      "execution_count": null,
      "outputs": [
        {
          "output_type": "execute_result",
          "data": {
            "text/plain": [
              "[Spot(x=-1, y=-1),\n",
              " Spot(x=-1, y=0),\n",
              " Spot(x=-1, y=1),\n",
              " Spot(x=0, y=-1),\n",
              " Spot(x=0, y=1),\n",
              " Spot(x=1, y=-1),\n",
              " Spot(x=1, y=0),\n",
              " Spot(x=1, y=1)]"
            ]
          },
          "metadata": {
            "tags": []
          },
          "execution_count": 243
        }
      ]
    },
    {
      "cell_type": "code",
      "metadata": {
        "id": "BL6QC2Ux-gWI"
      },
      "source": [
        "\r\n",
        "def at_site(l, spot: Spot):\r\n",
        "  # Assumes site exists\r\n",
        "    return l[spot.x][spot.y]\r\n",
        "\r\n",
        "\r\n",
        "def dir_find(spot: Spot, dir: Spot, mp):\r\n",
        "  x0 = spot.x\r\n",
        "  y0 = spot.y\r\n",
        "  x1 = x0 + dir.x\r\n",
        "  y1 = y0 + dir.y\r\n",
        "  spot1 = Spot(spot.x+dir.x,spot.y+dir.y)\r\n",
        "  height = len(mp)\r\n",
        "  width = len(mp[0])\r\n",
        "  if spot1.x < 0 or spot1.y < 0:\r\n",
        "    return False\r\n",
        "  elif spot1.x < height and spot1.y < width:\r\n",
        "    return at_site(mp, spot1)\r\n",
        "  else:\r\n",
        "    return False"
      ],
      "execution_count": null,
      "outputs": []
    },
    {
      "cell_type": "code",
      "metadata": {
        "colab": {
          "base_uri": "https://localhost:8080/"
        },
        "id": "3xabkfMw-Ww5",
        "outputId": "8ab3737f-bc47-488f-d37c-aef2084aa9fd"
      },
      "source": [
        "def check_adjacent(mp, site, q=False):\r\n",
        "  cnt = 0\r\n",
        "  \r\n",
        "  for dir in dirs:\r\n",
        "    # print('dir',dir)\r\n",
        "    i = 1\r\n",
        "    cont = True\r\n",
        "    while cont:\r\n",
        "      cont = dir_find(site,Spot(dir.x*i,dir.y*i), mp)\r\n",
        "      # print(cont)\r\n",
        "      if cont == '#':\r\n",
        "        # print(dir)\r\n",
        "        cnt += 1\r\n",
        "        break\r\n",
        "      elif cont == '.':\r\n",
        "        i +=1\r\n",
        "      elif cont == 'L':\r\n",
        "        break\r\n",
        "  return cnt\r\n",
        "all = \"\"\"###\r\n",
        "###\r\n",
        "###\"\"\"\r\n",
        "only4 = \"\"\"L#L\r\n",
        "#.#\r\n",
        "L#L\"\"\"\r\n",
        "assert check_adjacent(parse(all), Spot(1,1)) == 8   \r\n",
        "assert check_adjacent(parse(only4), Spot(1,1)) == 4  \r\n",
        "assert check_adjacent(parse(test_8),Spot(4,3) ) == 8\r\n",
        "assert check_adjacent(parse(test_0),Spot(3,3)) == 0\r\n",
        "assert check_adjacent(parse(test_L0),Spot(3,3)) == 0\r\n",
        "check_adjacent(parse(test_L0),Spot(3,3),True)\r\n"
      ],
      "execution_count": null,
      "outputs": [
        {
          "output_type": "execute_result",
          "data": {
            "text/plain": [
              "0"
            ]
          },
          "metadata": {
            "tags": []
          },
          "execution_count": 298
        }
      ]
    },
    {
      "cell_type": "code",
      "metadata": {
        "id": "R9wqcWhtOZJi"
      },
      "source": [
        "def step(mp):\r\n",
        "  cp = copy.deepcopy(mp)\r\n",
        "  for x, line in enumerate(cp):\r\n",
        "    for y, spot in enumerate(line):\r\n",
        "      spot = Spot(x,y)\r\n",
        "      at = at_site(mp,spot)\r\n",
        "      # print(at)\r\n",
        "      if at == '.':\r\n",
        "        # print('do nothing')\r\n",
        "        pass\r\n",
        "      elif at == 'L':\r\n",
        "        # print('do something')\r\n",
        "        ans = check_adjacent(mp,spot,q=True)\r\n",
        "        if ans == 0:\r\n",
        "          cp[x][y] = '#'\r\n",
        "      elif at == '#':\r\n",
        "        ans = check_adjacent(mp,spot)\r\n",
        "        if ans >= 5:\r\n",
        "          cp[x][y] = 'L'\r\n",
        "        # print(at_site(mp,(x,y)))\r\n",
        "  return cp\r\n",
        "\r\n",
        "def pp(mp):\r\n",
        "  s = ''\r\n",
        "  for line in mp:\r\n",
        "    for ent in line:\r\n",
        "      s=s+ent\r\n",
        "    s=s+'\\n'\r\n",
        "  return(s)"
      ],
      "execution_count": null,
      "outputs": []
    },
    {
      "cell_type": "code",
      "metadata": {
        "colab": {
          "base_uri": "https://localhost:8080/"
        },
        "id": "QAJ2e5wyPyku",
        "outputId": "2aebc245-627f-44ab-b417-68ca50949e43"
      },
      "source": [
        "r2_1 = \"\"\"#.##.##.##\r\n",
        "#######.##\r\n",
        "#.#.#..#..\r\n",
        "####.##.##\r\n",
        "#.##.##.##\r\n",
        "#.#####.##\r\n",
        "..#.#.....\r\n",
        "##########\r\n",
        "#.######.#\r\n",
        "#.#####.##\"\"\"\r\n",
        "r2_2 = \"\"\"#.LL.LL.L#\r\n",
        "#LLLLLL.LL\r\n",
        "L.L.L..L..\r\n",
        "LLLL.LL.LL\r\n",
        "L.LL.LL.LL\r\n",
        "L.LLLLL.LL\r\n",
        "..L.L.....\r\n",
        "LLLLLLLLL#\r\n",
        "#.LLLLLL.L\r\n",
        "#.LLLLL.L#\"\"\"\r\n",
        "r2_3 = \"\"\"#.L#.##.L#\r\n",
        "#L#####.LL\r\n",
        "L.#.#..#..\r\n",
        "##L#.##.##\r\n",
        "#.##.#L.##\r\n",
        "#.#####.#L\r\n",
        "..#.#.....\r\n",
        "LLL####LL#\r\n",
        "#.L#####.L\r\n",
        "#.L####.L#\"\"\"\r\n",
        "print(at_site(parse(r2_2),Spot(2,2)),at_site(parse(r2_3),Spot(2,2)))\r\n",
        "parse(r2_3)\r\n"
      ],
      "execution_count": null,
      "outputs": [
        {
          "output_type": "stream",
          "text": [
            "L #\n"
          ],
          "name": "stdout"
        },
        {
          "output_type": "execute_result",
          "data": {
            "text/plain": [
              "[['#', '.', 'L', '#', '.', '#', '#', '.', 'L', '#'],\n",
              " ['#', 'L', '#', '#', '#', '#', '#', '.', 'L', 'L'],\n",
              " ['L', '.', '#', '.', '#', '.', '.', '#', '.', '.'],\n",
              " ['#', '#', 'L', '#', '.', '#', '#', '.', '#', '#'],\n",
              " ['#', '.', '#', '#', '.', '#', 'L', '.', '#', '#'],\n",
              " ['#', '.', '#', '#', '#', '#', '#', '.', '#', 'L'],\n",
              " ['.', '.', '#', '.', '#', '.', '.', '.', '.', '.'],\n",
              " ['L', 'L', 'L', '#', '#', '#', '#', 'L', 'L', '#'],\n",
              " ['#', '.', 'L', '#', '#', '#', '#', '#', '.', 'L'],\n",
              " ['#', '.', 'L', '#', '#', '#', '#', '.', 'L', '#']]"
            ]
          },
          "metadata": {
            "tags": []
          },
          "execution_count": 286
        }
      ]
    },
    {
      "cell_type": "code",
      "metadata": {
        "colab": {
          "base_uri": "https://localhost:8080/"
        },
        "id": "ZpuK_BOXi49h",
        "outputId": "3c0f4bea-5ead-4ffb-94c8-8e3acea2ddd9"
      },
      "source": [
        "r3"
      ],
      "execution_count": null,
      "outputs": [
        {
          "output_type": "execute_result",
          "data": {
            "text/plain": [
              "[['#', '.', '#', '#', '.', '#', '#', '.', 'L', '#'],\n",
              " ['#', 'L', '#', '#', '#', '#', '#', '.', 'L', 'L'],\n",
              " ['L', '.', '#', '.', '#', '.', '.', '#', '.', '.'],\n",
              " ['#', '#', '#', '#', '.', '#', '#', '.', '#', '#'],\n",
              " ['#', '.', '#', '#', '.', '#', '#', '.', '#', '#'],\n",
              " ['#', '.', '#', '#', '#', '#', '#', '.', '#', '#'],\n",
              " ['.', '.', '#', '.', '#', '.', '.', '.', '.', '.'],\n",
              " ['L', 'L', '#', '#', '#', '#', '#', '#', 'L', '#'],\n",
              " ['#', '.', '#', '#', '#', '#', '#', '#', '.', 'L'],\n",
              " ['#', '.', '#', '#', '#', '#', '#', '.', 'L', '#']]"
            ]
          },
          "metadata": {
            "tags": []
          },
          "execution_count": 287
        }
      ]
    },
    {
      "cell_type": "code",
      "metadata": {
        "colab": {
          "base_uri": "https://localhost:8080/"
        },
        "id": "VJSDj4j1R1Ii",
        "outputId": "4bcb53c2-3c6f-4239-9e8b-173c75090fa7"
      },
      "source": [
        "check_adjacent(parse(r2_2),Spot(2,2))"
      ],
      "execution_count": null,
      "outputs": [
        {
          "output_type": "execute_result",
          "data": {
            "text/plain": [
              "0"
            ]
          },
          "metadata": {
            "tags": []
          },
          "execution_count": 296
        }
      ]
    },
    {
      "cell_type": "code",
      "metadata": {
        "id": "_qGQBexpPa4r"
      },
      "source": [
        "r1 = step(parse(test_input))\r\n",
        "assert r1 == parse(r2_1)\r\n",
        "r2 = step(r1)\r\n",
        "assert r2 == parse(r2_2) \r\n",
        "r3 = step(r2)\r\n",
        "r3\r\n",
        "assert r3 == parse(r2_3)"
      ],
      "execution_count": null,
      "outputs": []
    },
    {
      "cell_type": "code",
      "metadata": {
        "id": "5IcQi6GnTX_W"
      },
      "source": [
        "def main(mp):\r\n",
        "  trials = 100000000\r\n",
        "  nx =  copy.deepcopy(mp)\r\n",
        "  for i in range(trials):\r\n",
        "    curr = copy.deepcopy(nx)\r\n",
        "    nx = step(curr)\r\n",
        "    if curr == nx:\r\n",
        "      return pp(nx).count('#')\r\n",
        "  return pp(nx).count('#')"
      ],
      "execution_count": null,
      "outputs": []
    },
    {
      "cell_type": "code",
      "metadata": {
        "colab": {
          "base_uri": "https://localhost:8080/"
        },
        "id": "6COr5rM8TZKF",
        "outputId": "e5377de0-3974-4ece-df18-abc62b3c7639"
      },
      "source": [
        "main(pi)"
      ],
      "execution_count": null,
      "outputs": [
        {
          "output_type": "execute_result",
          "data": {
            "text/plain": [
              "1995"
            ]
          },
          "metadata": {
            "tags": []
          },
          "execution_count": 300
        }
      ]
    },
    {
      "cell_type": "markdown",
      "metadata": {
        "id": "qzf31QrHl9Qu"
      },
      "source": [
        "# Day 12\r\n",
        "\r\n",
        "Manhattan Distance"
      ]
    },
    {
      "cell_type": "code",
      "metadata": {
        "id": "U1SJYQapl0x3"
      },
      "source": [
        "from google.colab import files\r\n",
        "from dataclasses import dataclass\r\n",
        "import math\r\n",
        "import re"
      ],
      "execution_count": null,
      "outputs": []
    },
    {
      "cell_type": "code",
      "metadata": {
        "colab": {
          "base_uri": "https://localhost:8080/"
        },
        "id": "3OHmrlbHl-h_",
        "outputId": "3c529ddf-853e-41ee-b061-bc7dc680868a"
      },
      "source": [
        "@dataclass\r\n",
        "class Point:\r\n",
        "  x: int\r\n",
        "  y: int\r\n",
        "\r\n",
        "  def __add__(self, other):\r\n",
        "    return Point(self.x+other.x, self.y + other.y)\r\n",
        "\r\n",
        "  def __mul__(self, scalar):\r\n",
        "    return Point(scalar*self.x, scalar*self.y)\r\n",
        "\r\n",
        "  def __rmul__(self, scalar):\r\n",
        "    return Point(scalar*self.x, scalar*self.y)\r\n",
        "\r\n",
        "  def rot(self, ang, l_or_r):\r\n",
        "    cost = math.cos(math.radians(l_or_r*ang))\r\n",
        "    sint = math.sin(math.radians(l_or_r*ang))\r\n",
        "    xr = round(self.x*cost - self.y*sint)\r\n",
        "    yr = round(self.x*sint + self.y*cost)\r\n",
        "    return Point(xr, yr)\r\n",
        "\r\n",
        "assert Point(1,2) + Point(2,3) == Point(3,5)\r\n",
        "assert Point(2,7) + Point(-3,-1) == Point(-1,6)\r\n",
        "assert 2*Point(1,7) == Point(2,14)\r\n",
        "assert Point(1,7)*2 == Point(2,14)\r\n",
        "# assert Point(1,0).rot(90,-1) == Point(0,-1)\r\n",
        "Point(10,1).rot(90,1) \r\n"
      ],
      "execution_count": null,
      "outputs": [
        {
          "output_type": "execute_result",
          "data": {
            "text/plain": [
              "Point(x=-1, y=10)"
            ]
          },
          "metadata": {
            "tags": []
          },
          "execution_count": 213
        }
      ]
    },
    {
      "cell_type": "code",
      "metadata": {
        "id": "ZDcexETzpShB"
      },
      "source": [
        "def rot(dir0, ang, l_or_r):\r\n",
        "  x = math.cos(math.radians(l_or_r*ang))\r\n",
        "  y = math.sin(math.radians(l_or_r*ang))\r\n",
        "  return Point(x,y)\r\n",
        "\r\n"
      ],
      "execution_count": null,
      "outputs": []
    },
    {
      "cell_type": "code",
      "metadata": {
        "id": "4qt5WAKwvwCW"
      },
      "source": [
        "# (1,0) > (0,1) > (-1,0)\r\n",
        "1"
      ],
      "execution_count": null,
      "outputs": []
    },
    {
      "cell_type": "code",
      "metadata": {
        "colab": {
          "base_uri": "https://localhost:8080/"
        },
        "id": "DvVZlTFLpvAn",
        "outputId": "83eb6af2-fd8f-41ce-ec62-efa24e496bb7"
      },
      "source": [
        "'L' in 'LR'"
      ],
      "execution_count": null,
      "outputs": [
        {
          "output_type": "execute_result",
          "data": {
            "text/plain": [
              "True"
            ]
          },
          "metadata": {
            "tags": []
          },
          "execution_count": 52
        }
      ]
    },
    {
      "cell_type": "code",
      "metadata": {
        "id": "Lr2kU3lAmc6V"
      },
      "source": [
        "def move(loc, dir0, act: str, num: int):\r\n",
        "  if act in 'NESW':\r\n",
        "    if act== 'N':\r\n",
        "      dir = Point(0,1)\r\n",
        "    elif act== 'S':\r\n",
        "      dir = Point(0,-1)\r\n",
        "    elif act == 'E':\r\n",
        "      dir = Point(1,0)\r\n",
        "    elif act == 'W':\r\n",
        "      dir = Point(-1,0)\r\n",
        "    return loc+num*dir, dir0\r\n",
        "  \r\n",
        "  elif act in 'LR':\r\n",
        "    if act == 'R':\r\n",
        "      dir = dir0.rot(num,-1)\r\n",
        "    elif act == 'L':\r\n",
        "      dir = dir0.rot(num,+1)\r\n",
        "    return loc, dir\r\n",
        "\r\n",
        "  elif act == 'F':\r\n",
        "    return loc+num*dir0, dir0\r\n",
        "\r\n",
        "# assert move(loc=Point(0,0),dir0=Point(1,0),act='N',num=2) == (Point(0,2), Point(0,1))\r\n",
        "# assert move(loc=Point(2,0),dir0=Point(1,0),act='E',num=3) == (Point(5,0), Point(1,0))\r\n",
        "# assert move(loc=Point(2,3),dir0=Point(0,1),act='F',num=5) == (Point(2,8), Point(0,1))\r\n",
        "assert move(loc=Point(2,3),dir0=Point(0,1),act='L',num=180) == (Point(2,3), Point(0,-1))\r\n",
        "assert move(loc=Point(2,3),dir0=Point(0,1),act='L',num=90) == (Point(2,3), Point(-1,0))\r\n"
      ],
      "execution_count": null,
      "outputs": []
    },
    {
      "cell_type": "code",
      "metadata": {
        "id": "KAG88IjO1uZA"
      },
      "source": [
        "nx = move(loc=Point(0,0),dir0=Point(1,0),act='F',num=10)\r\n",
        "assert nx[0] == Point(10,0)\r\n",
        "nx = move(loc=nx[0], dir0=nx[1],act='N', num=ddd3)\r\n",
        "assert nx[0] == Point(10,3)"
      ],
      "execution_count": null,
      "outputs": []
    },
    {
      "cell_type": "code",
      "metadata": {
        "id": "bAUl8YC-CqeQ"
      },
      "source": [
        "test_input = \"\"\"F10\r\n",
        "N3\r\n",
        "F7\r\n",
        "R90\r\n",
        "F11\"\"\""
      ],
      "execution_count": null,
      "outputs": []
    },
    {
      "cell_type": "code",
      "metadata": {
        "id": "q50uosUgBado"
      },
      "source": [
        "def main(inp):\r\n",
        "  nx = (Point(0,0),Point(1,0))\r\n",
        "  for line in inp.split():\r\n",
        "    num = int(re.findall(r'\\d+',line)[0])\r\n",
        "    char = re.findall(r'\\b[A-Z]',line)[0]\r\n",
        "    nx = move(loc=nx[0], dir0=nx[1],act=char, num=num)\r\n",
        "    # print(nx[0],nx[1])\r\n",
        "  return np.abs(nx[0].x)+np.abs(nx[0].y)\r\n"
      ],
      "execution_count": null,
      "outputs": []
    },
    {
      "cell_type": "code",
      "metadata": {
        "colab": {
          "base_uri": "https://localhost:8080/"
        },
        "id": "911igJm4DsJf",
        "outputId": "3564e20c-bab8-4ef0-d065-20aecaef0d15"
      },
      "source": [
        "main(test_input)"
      ],
      "execution_count": null,
      "outputs": [
        {
          "output_type": "stream",
          "text": [
            "Point(x=10, y=0) Point(x=1, y=0)\n",
            "Point(x=10, y=3) Point(x=1, y=0)\n",
            "Point(x=17, y=3) Point(x=1, y=0)\n",
            "Point(x=17, y=3) Point(x=0, y=-1)\n",
            "Point(x=17, y=-8) Point(x=0, y=-1)\n"
          ],
          "name": "stdout"
        },
        {
          "output_type": "execute_result",
          "data": {
            "text/plain": [
              "25"
            ]
          },
          "metadata": {
            "tags": []
          },
          "execution_count": 106
        }
      ]
    },
    {
      "cell_type": "code",
      "metadata": {
        "colab": {
          "resources": {
            "http://localhost:8080/nbextensions/google.colab/files.js": {
              "data": "Ly8gQ29weXJpZ2h0IDIwMTcgR29vZ2xlIExMQwovLwovLyBMaWNlbnNlZCB1bmRlciB0aGUgQXBhY2hlIExpY2Vuc2UsIFZlcnNpb24gMi4wICh0aGUgIkxpY2Vuc2UiKTsKLy8geW91IG1heSBub3QgdXNlIHRoaXMgZmlsZSBleGNlcHQgaW4gY29tcGxpYW5jZSB3aXRoIHRoZSBMaWNlbnNlLgovLyBZb3UgbWF5IG9idGFpbiBhIGNvcHkgb2YgdGhlIExpY2Vuc2UgYXQKLy8KLy8gICAgICBodHRwOi8vd3d3LmFwYWNoZS5vcmcvbGljZW5zZXMvTElDRU5TRS0yLjAKLy8KLy8gVW5sZXNzIHJlcXVpcmVkIGJ5IGFwcGxpY2FibGUgbGF3IG9yIGFncmVlZCB0byBpbiB3cml0aW5nLCBzb2Z0d2FyZQovLyBkaXN0cmlidXRlZCB1bmRlciB0aGUgTGljZW5zZSBpcyBkaXN0cmlidXRlZCBvbiBhbiAiQVMgSVMiIEJBU0lTLAovLyBXSVRIT1VUIFdBUlJBTlRJRVMgT1IgQ09ORElUSU9OUyBPRiBBTlkgS0lORCwgZWl0aGVyIGV4cHJlc3Mgb3IgaW1wbGllZC4KLy8gU2VlIHRoZSBMaWNlbnNlIGZvciB0aGUgc3BlY2lmaWMgbGFuZ3VhZ2UgZ292ZXJuaW5nIHBlcm1pc3Npb25zIGFuZAovLyBsaW1pdGF0aW9ucyB1bmRlciB0aGUgTGljZW5zZS4KCi8qKgogKiBAZmlsZW92ZXJ2aWV3IEhlbHBlcnMgZm9yIGdvb2dsZS5jb2xhYiBQeXRob24gbW9kdWxlLgogKi8KKGZ1bmN0aW9uKHNjb3BlKSB7CmZ1bmN0aW9uIHNwYW4odGV4dCwgc3R5bGVBdHRyaWJ1dGVzID0ge30pIHsKICBjb25zdCBlbGVtZW50ID0gZG9jdW1lbnQuY3JlYXRlRWxlbWVudCgnc3BhbicpOwogIGVsZW1lbnQudGV4dENvbnRlbnQgPSB0ZXh0OwogIGZvciAoY29uc3Qga2V5IG9mIE9iamVjdC5rZXlzKHN0eWxlQXR0cmlidXRlcykpIHsKICAgIGVsZW1lbnQuc3R5bGVba2V5XSA9IHN0eWxlQXR0cmlidXRlc1trZXldOwogIH0KICByZXR1cm4gZWxlbWVudDsKfQoKLy8gTWF4IG51bWJlciBvZiBieXRlcyB3aGljaCB3aWxsIGJlIHVwbG9hZGVkIGF0IGEgdGltZS4KY29uc3QgTUFYX1BBWUxPQURfU0laRSA9IDEwMCAqIDEwMjQ7CgpmdW5jdGlvbiBfdXBsb2FkRmlsZXMoaW5wdXRJZCwgb3V0cHV0SWQpIHsKICBjb25zdCBzdGVwcyA9IHVwbG9hZEZpbGVzU3RlcChpbnB1dElkLCBvdXRwdXRJZCk7CiAgY29uc3Qgb3V0cHV0RWxlbWVudCA9IGRvY3VtZW50LmdldEVsZW1lbnRCeUlkKG91dHB1dElkKTsKICAvLyBDYWNoZSBzdGVwcyBvbiB0aGUgb3V0cHV0RWxlbWVudCB0byBtYWtlIGl0IGF2YWlsYWJsZSBmb3IgdGhlIG5leHQgY2FsbAogIC8vIHRvIHVwbG9hZEZpbGVzQ29udGludWUgZnJvbSBQeXRob24uCiAgb3V0cHV0RWxlbWVudC5zdGVwcyA9IHN0ZXBzOwoKICByZXR1cm4gX3VwbG9hZEZpbGVzQ29udGludWUob3V0cHV0SWQpOwp9CgovLyBUaGlzIGlzIHJvdWdobHkgYW4gYXN5bmMgZ2VuZXJhdG9yIChub3Qgc3VwcG9ydGVkIGluIHRoZSBicm93c2VyIHlldCksCi8vIHdoZXJlIHRoZXJlIGFyZSBtdWx0aXBsZSBhc3luY2hyb25vdXMgc3RlcHMgYW5kIHRoZSBQeXRob24gc2lkZSBpcyBnb2luZwovLyB0byBwb2xsIGZvciBjb21wbGV0aW9uIG9mIGVhY2ggc3RlcC4KLy8gVGhpcyB1c2VzIGEgUHJvbWlzZSB0byBibG9jayB0aGUgcHl0aG9uIHNpZGUgb24gY29tcGxldGlvbiBvZiBlYWNoIHN0ZXAsCi8vIHRoZW4gcGFzc2VzIHRoZSByZXN1bHQgb2YgdGhlIHByZXZpb3VzIHN0ZXAgYXMgdGhlIGlucHV0IHRvIHRoZSBuZXh0IHN0ZXAuCmZ1bmN0aW9uIF91cGxvYWRGaWxlc0NvbnRpbnVlKG91dHB1dElkKSB7CiAgY29uc3Qgb3V0cHV0RWxlbWVudCA9IGRvY3VtZW50LmdldEVsZW1lbnRCeUlkKG91dHB1dElkKTsKICBjb25zdCBzdGVwcyA9IG91dHB1dEVsZW1lbnQuc3RlcHM7CgogIGNvbnN0IG5leHQgPSBzdGVwcy5uZXh0KG91dHB1dEVsZW1lbnQubGFzdFByb21pc2VWYWx1ZSk7CiAgcmV0dXJuIFByb21pc2UucmVzb2x2ZShuZXh0LnZhbHVlLnByb21pc2UpLnRoZW4oKHZhbHVlKSA9PiB7CiAgICAvLyBDYWNoZSB0aGUgbGFzdCBwcm9taXNlIHZhbHVlIHRvIG1ha2UgaXQgYXZhaWxhYmxlIHRvIHRoZSBuZXh0CiAgICAvLyBzdGVwIG9mIHRoZSBnZW5lcmF0b3IuCiAgICBvdXRwdXRFbGVtZW50Lmxhc3RQcm9taXNlVmFsdWUgPSB2YWx1ZTsKICAgIHJldHVybiBuZXh0LnZhbHVlLnJlc3BvbnNlOwogIH0pOwp9CgovKioKICogR2VuZXJhdG9yIGZ1bmN0aW9uIHdoaWNoIGlzIGNhbGxlZCBiZXR3ZWVuIGVhY2ggYXN5bmMgc3RlcCBvZiB0aGUgdXBsb2FkCiAqIHByb2Nlc3MuCiAqIEBwYXJhbSB7c3RyaW5nfSBpbnB1dElkIEVsZW1lbnQgSUQgb2YgdGhlIGlucHV0IGZpbGUgcGlja2VyIGVsZW1lbnQuCiAqIEBwYXJhbSB7c3RyaW5nfSBvdXRwdXRJZCBFbGVtZW50IElEIG9mIHRoZSBvdXRwdXQgZGlzcGxheS4KICogQHJldHVybiB7IUl0ZXJhYmxlPCFPYmplY3Q+fSBJdGVyYWJsZSBvZiBuZXh0IHN0ZXBzLgogKi8KZnVuY3Rpb24qIHVwbG9hZEZpbGVzU3RlcChpbnB1dElkLCBvdXRwdXRJZCkgewogIGNvbnN0IGlucHV0RWxlbWVudCA9IGRvY3VtZW50LmdldEVsZW1lbnRCeUlkKGlucHV0SWQpOwogIGlucHV0RWxlbWVudC5kaXNhYmxlZCA9IGZhbHNlOwoKICBjb25zdCBvdXRwdXRFbGVtZW50ID0gZG9jdW1lbnQuZ2V0RWxlbWVudEJ5SWQob3V0cHV0SWQpOwogIG91dHB1dEVsZW1lbnQuaW5uZXJIVE1MID0gJyc7CgogIGNvbnN0IHBpY2tlZFByb21pc2UgPSBuZXcgUHJvbWlzZSgocmVzb2x2ZSkgPT4gewogICAgaW5wdXRFbGVtZW50LmFkZEV2ZW50TGlzdGVuZXIoJ2NoYW5nZScsIChlKSA9PiB7CiAgICAgIHJlc29sdmUoZS50YXJnZXQuZmlsZXMpOwogICAgfSk7CiAgfSk7CgogIGNvbnN0IGNhbmNlbCA9IGRvY3VtZW50LmNyZWF0ZUVsZW1lbnQoJ2J1dHRvbicpOwogIGlucHV0RWxlbWVudC5wYXJlbnRFbGVtZW50LmFwcGVuZENoaWxkKGNhbmNlbCk7CiAgY2FuY2VsLnRleHRDb250ZW50ID0gJ0NhbmNlbCB1cGxvYWQnOwogIGNvbnN0IGNhbmNlbFByb21pc2UgPSBuZXcgUHJvbWlzZSgocmVzb2x2ZSkgPT4gewogICAgY2FuY2VsLm9uY2xpY2sgPSAoKSA9PiB7CiAgICAgIHJlc29sdmUobnVsbCk7CiAgICB9OwogIH0pOwoKICAvLyBXYWl0IGZvciB0aGUgdXNlciB0byBwaWNrIHRoZSBmaWxlcy4KICBjb25zdCBmaWxlcyA9IHlpZWxkIHsKICAgIHByb21pc2U6IFByb21pc2UucmFjZShbcGlja2VkUHJvbWlzZSwgY2FuY2VsUHJvbWlzZV0pLAogICAgcmVzcG9uc2U6IHsKICAgICAgYWN0aW9uOiAnc3RhcnRpbmcnLAogICAgfQogIH07CgogIGNhbmNlbC5yZW1vdmUoKTsKCiAgLy8gRGlzYWJsZSB0aGUgaW5wdXQgZWxlbWVudCBzaW5jZSBmdXJ0aGVyIHBpY2tzIGFyZSBub3QgYWxsb3dlZC4KICBpbnB1dEVsZW1lbnQuZGlzYWJsZWQgPSB0cnVlOwoKICBpZiAoIWZpbGVzKSB7CiAgICByZXR1cm4gewogICAgICByZXNwb25zZTogewogICAgICAgIGFjdGlvbjogJ2NvbXBsZXRlJywKICAgICAgfQogICAgfTsKICB9CgogIGZvciAoY29uc3QgZmlsZSBvZiBmaWxlcykgewogICAgY29uc3QgbGkgPSBkb2N1bWVudC5jcmVhdGVFbGVtZW50KCdsaScpOwogICAgbGkuYXBwZW5kKHNwYW4oZmlsZS5uYW1lLCB7Zm9udFdlaWdodDogJ2JvbGQnfSkpOwogICAgbGkuYXBwZW5kKHNwYW4oCiAgICAgICAgYCgke2ZpbGUudHlwZSB8fCAnbi9hJ30pIC0gJHtmaWxlLnNpemV9IGJ5dGVzLCBgICsKICAgICAgICBgbGFzdCBtb2RpZmllZDogJHsKICAgICAgICAgICAgZmlsZS5sYXN0TW9kaWZpZWREYXRlID8gZmlsZS5sYXN0TW9kaWZpZWREYXRlLnRvTG9jYWxlRGF0ZVN0cmluZygpIDoKICAgICAgICAgICAgICAgICAgICAgICAgICAgICAgICAgICAgJ24vYSd9IC0gYCkpOwogICAgY29uc3QgcGVyY2VudCA9IHNwYW4oJzAlIGRvbmUnKTsKICAgIGxpLmFwcGVuZENoaWxkKHBlcmNlbnQpOwoKICAgIG91dHB1dEVsZW1lbnQuYXBwZW5kQ2hpbGQobGkpOwoKICAgIGNvbnN0IGZpbGVEYXRhUHJvbWlzZSA9IG5ldyBQcm9taXNlKChyZXNvbHZlKSA9PiB7CiAgICAgIGNvbnN0IHJlYWRlciA9IG5ldyBGaWxlUmVhZGVyKCk7CiAgICAgIHJlYWRlci5vbmxvYWQgPSAoZSkgPT4gewogICAgICAgIHJlc29sdmUoZS50YXJnZXQucmVzdWx0KTsKICAgICAgfTsKICAgICAgcmVhZGVyLnJlYWRBc0FycmF5QnVmZmVyKGZpbGUpOwogICAgfSk7CiAgICAvLyBXYWl0IGZvciB0aGUgZGF0YSB0byBiZSByZWFkeS4KICAgIGxldCBmaWxlRGF0YSA9IHlpZWxkIHsKICAgICAgcHJvbWlzZTogZmlsZURhdGFQcm9taXNlLAogICAgICByZXNwb25zZTogewogICAgICAgIGFjdGlvbjogJ2NvbnRpbnVlJywKICAgICAgfQogICAgfTsKCiAgICAvLyBVc2UgYSBjaHVua2VkIHNlbmRpbmcgdG8gYXZvaWQgbWVzc2FnZSBzaXplIGxpbWl0cy4gU2VlIGIvNjIxMTU2NjAuCiAgICBsZXQgcG9zaXRpb24gPSAwOwogICAgd2hpbGUgKHBvc2l0aW9uIDwgZmlsZURhdGEuYnl0ZUxlbmd0aCkgewogICAgICBjb25zdCBsZW5ndGggPSBNYXRoLm1pbihmaWxlRGF0YS5ieXRlTGVuZ3RoIC0gcG9zaXRpb24sIE1BWF9QQVlMT0FEX1NJWkUpOwogICAgICBjb25zdCBjaHVuayA9IG5ldyBVaW50OEFycmF5KGZpbGVEYXRhLCBwb3NpdGlvbiwgbGVuZ3RoKTsKICAgICAgcG9zaXRpb24gKz0gbGVuZ3RoOwoKICAgICAgY29uc3QgYmFzZTY0ID0gYnRvYShTdHJpbmcuZnJvbUNoYXJDb2RlLmFwcGx5KG51bGwsIGNodW5rKSk7CiAgICAgIHlpZWxkIHsKICAgICAgICByZXNwb25zZTogewogICAgICAgICAgYWN0aW9uOiAnYXBwZW5kJywKICAgICAgICAgIGZpbGU6IGZpbGUubmFtZSwKICAgICAgICAgIGRhdGE6IGJhc2U2NCwKICAgICAgICB9LAogICAgICB9OwogICAgICBwZXJjZW50LnRleHRDb250ZW50ID0KICAgICAgICAgIGAke01hdGgucm91bmQoKHBvc2l0aW9uIC8gZmlsZURhdGEuYnl0ZUxlbmd0aCkgKiAxMDApfSUgZG9uZWA7CiAgICB9CiAgfQoKICAvLyBBbGwgZG9uZS4KICB5aWVsZCB7CiAgICByZXNwb25zZTogewogICAgICBhY3Rpb246ICdjb21wbGV0ZScsCiAgICB9CiAgfTsKfQoKc2NvcGUuZ29vZ2xlID0gc2NvcGUuZ29vZ2xlIHx8IHt9OwpzY29wZS5nb29nbGUuY29sYWIgPSBzY29wZS5nb29nbGUuY29sYWIgfHwge307CnNjb3BlLmdvb2dsZS5jb2xhYi5fZmlsZXMgPSB7CiAgX3VwbG9hZEZpbGVzLAogIF91cGxvYWRGaWxlc0NvbnRpbnVlLAp9Owp9KShzZWxmKTsK",
              "ok": true,
              "headers": [
                [
                  "content-type",
                  "application/javascript"
                ]
              ],
              "status": 200,
              "status_text": ""
            }
          },
          "base_uri": "https://localhost:8080/",
          "height": 426
        },
        "id": "YmbpPmMoEmrb",
        "outputId": "de738855-b565-4cd2-9048-dbd786208be5"
      },
      "source": [
        "d12 = files.upload()\r\n"
      ],
      "execution_count": null,
      "outputs": [
        {
          "output_type": "display_data",
          "data": {
            "text/html": [
              "\n",
              "     <input type=\"file\" id=\"files-70d402b1-ebd3-49dc-ae41-29ecb047d2da\" name=\"files[]\" multiple disabled\n",
              "        style=\"border:none\" />\n",
              "     <output id=\"result-70d402b1-ebd3-49dc-ae41-29ecb047d2da\">\n",
              "      Upload widget is only available when the cell has been executed in the\n",
              "      current browser session. Please rerun this cell to enable.\n",
              "      </output>\n",
              "      <script src=\"/nbextensions/google.colab/files.js\"></script> "
            ],
            "text/plain": [
              "<IPython.core.display.HTML object>"
            ]
          },
          "metadata": {
            "tags": []
          }
        },
        {
          "output_type": "stream",
          "text": [
            "Saving day12.txt to day12 (1).txt\n"
          ],
          "name": "stdout"
        },
        {
          "output_type": "error",
          "ename": "TypeError",
          "evalue": "ignored",
          "traceback": [
            "\u001b[0;31m---------------------------------------------------------------------------\u001b[0m",
            "\u001b[0;31mTypeError\u001b[0m                                 Traceback (most recent call last)",
            "\u001b[0;32m<ipython-input-108-ce7a96796bda>\u001b[0m in \u001b[0;36m<module>\u001b[0;34m()\u001b[0m\n\u001b[1;32m      1\u001b[0m \u001b[0md12\u001b[0m \u001b[0;34m=\u001b[0m \u001b[0mfiles\u001b[0m\u001b[0;34m.\u001b[0m\u001b[0mupload\u001b[0m\u001b[0;34m(\u001b[0m\u001b[0;34m)\u001b[0m\u001b[0;34m\u001b[0m\u001b[0;34m\u001b[0m\u001b[0m\n\u001b[0;32m----> 2\u001b[0;31m \u001b[0mmain\u001b[0m\u001b[0;34m(\u001b[0m\u001b[0md12\u001b[0m\u001b[0;34m[\u001b[0m\u001b[0;34m'day12.txt'\u001b[0m\u001b[0;34m]\u001b[0m\u001b[0;34m[\u001b[0m\u001b[0;34m:\u001b[0m\u001b[0;34m-\u001b[0m\u001b[0;36m1\u001b[0m\u001b[0;34m]\u001b[0m\u001b[0;34m)\u001b[0m\u001b[0;34m\u001b[0m\u001b[0;34m\u001b[0m\u001b[0m\n\u001b[0m",
            "\u001b[0;32m<ipython-input-105-e53a08181904>\u001b[0m in \u001b[0;36mmain\u001b[0;34m(inp)\u001b[0m\n\u001b[1;32m      2\u001b[0m   \u001b[0mnx\u001b[0m \u001b[0;34m=\u001b[0m \u001b[0;34m(\u001b[0m\u001b[0mPoint\u001b[0m\u001b[0;34m(\u001b[0m\u001b[0;36m0\u001b[0m\u001b[0;34m,\u001b[0m\u001b[0;36m0\u001b[0m\u001b[0;34m)\u001b[0m\u001b[0;34m,\u001b[0m\u001b[0mPoint\u001b[0m\u001b[0;34m(\u001b[0m\u001b[0;36m1\u001b[0m\u001b[0;34m,\u001b[0m\u001b[0;36m0\u001b[0m\u001b[0;34m)\u001b[0m\u001b[0;34m)\u001b[0m\u001b[0;34m\u001b[0m\u001b[0;34m\u001b[0m\u001b[0m\n\u001b[1;32m      3\u001b[0m   \u001b[0;32mfor\u001b[0m \u001b[0mline\u001b[0m \u001b[0;32min\u001b[0m \u001b[0minp\u001b[0m\u001b[0;34m.\u001b[0m\u001b[0msplit\u001b[0m\u001b[0;34m(\u001b[0m\u001b[0;34m)\u001b[0m\u001b[0;34m:\u001b[0m\u001b[0;34m\u001b[0m\u001b[0;34m\u001b[0m\u001b[0m\n\u001b[0;32m----> 4\u001b[0;31m     \u001b[0mnum\u001b[0m \u001b[0;34m=\u001b[0m \u001b[0mint\u001b[0m\u001b[0;34m(\u001b[0m\u001b[0mre\u001b[0m\u001b[0;34m.\u001b[0m\u001b[0mfindall\u001b[0m\u001b[0;34m(\u001b[0m\u001b[0;34mr'\\d+'\u001b[0m\u001b[0;34m,\u001b[0m\u001b[0mline\u001b[0m\u001b[0;34m)\u001b[0m\u001b[0;34m[\u001b[0m\u001b[0;36m0\u001b[0m\u001b[0;34m]\u001b[0m\u001b[0;34m)\u001b[0m\u001b[0;34m\u001b[0m\u001b[0;34m\u001b[0m\u001b[0m\n\u001b[0m\u001b[1;32m      5\u001b[0m     \u001b[0mchar\u001b[0m \u001b[0;34m=\u001b[0m \u001b[0mre\u001b[0m\u001b[0;34m.\u001b[0m\u001b[0mfindall\u001b[0m\u001b[0;34m(\u001b[0m\u001b[0;34mr'\\b[A-Z]'\u001b[0m\u001b[0;34m,\u001b[0m\u001b[0mline\u001b[0m\u001b[0;34m)\u001b[0m\u001b[0;34m[\u001b[0m\u001b[0;36m0\u001b[0m\u001b[0;34m]\u001b[0m\u001b[0;34m\u001b[0m\u001b[0;34m\u001b[0m\u001b[0m\n\u001b[1;32m      6\u001b[0m     \u001b[0mnx\u001b[0m \u001b[0;34m=\u001b[0m \u001b[0mmove\u001b[0m\u001b[0;34m(\u001b[0m\u001b[0mloc\u001b[0m\u001b[0;34m=\u001b[0m\u001b[0mnx\u001b[0m\u001b[0;34m[\u001b[0m\u001b[0;36m0\u001b[0m\u001b[0;34m]\u001b[0m\u001b[0;34m,\u001b[0m \u001b[0mdir0\u001b[0m\u001b[0;34m=\u001b[0m\u001b[0mnx\u001b[0m\u001b[0;34m[\u001b[0m\u001b[0;36m1\u001b[0m\u001b[0;34m]\u001b[0m\u001b[0;34m,\u001b[0m\u001b[0mact\u001b[0m\u001b[0;34m=\u001b[0m\u001b[0mchar\u001b[0m\u001b[0;34m,\u001b[0m \u001b[0mnum\u001b[0m\u001b[0;34m=\u001b[0m\u001b[0mnum\u001b[0m\u001b[0;34m)\u001b[0m\u001b[0;34m\u001b[0m\u001b[0;34m\u001b[0m\u001b[0m\n",
            "\u001b[0;32m/usr/lib/python3.6/re.py\u001b[0m in \u001b[0;36mfindall\u001b[0;34m(pattern, string, flags)\u001b[0m\n\u001b[1;32m    220\u001b[0m \u001b[0;34m\u001b[0m\u001b[0m\n\u001b[1;32m    221\u001b[0m     Empty matches are included in the result.\"\"\"\n\u001b[0;32m--> 222\u001b[0;31m     \u001b[0;32mreturn\u001b[0m \u001b[0m_compile\u001b[0m\u001b[0;34m(\u001b[0m\u001b[0mpattern\u001b[0m\u001b[0;34m,\u001b[0m \u001b[0mflags\u001b[0m\u001b[0;34m)\u001b[0m\u001b[0;34m.\u001b[0m\u001b[0mfindall\u001b[0m\u001b[0;34m(\u001b[0m\u001b[0mstring\u001b[0m\u001b[0;34m)\u001b[0m\u001b[0;34m\u001b[0m\u001b[0;34m\u001b[0m\u001b[0m\n\u001b[0m\u001b[1;32m    223\u001b[0m \u001b[0;34m\u001b[0m\u001b[0m\n\u001b[1;32m    224\u001b[0m \u001b[0;32mdef\u001b[0m \u001b[0mfinditer\u001b[0m\u001b[0;34m(\u001b[0m\u001b[0mpattern\u001b[0m\u001b[0;34m,\u001b[0m \u001b[0mstring\u001b[0m\u001b[0;34m,\u001b[0m \u001b[0mflags\u001b[0m\u001b[0;34m=\u001b[0m\u001b[0;36m0\u001b[0m\u001b[0;34m)\u001b[0m\u001b[0;34m:\u001b[0m\u001b[0;34m\u001b[0m\u001b[0;34m\u001b[0m\u001b[0m\n",
            "\u001b[0;31mTypeError\u001b[0m: cannot use a string pattern on a bytes-like object"
          ]
        }
      ]
    },
    {
      "cell_type": "code",
      "metadata": {
        "id": "lRyKlkhUE5Qi"
      },
      "source": [
        "main(d12['day12.txt'].decode()[:-1])"
      ],
      "execution_count": null,
      "outputs": []
    },
    {
      "cell_type": "markdown",
      "metadata": {
        "id": "w-M52YzcP57B"
      },
      "source": [
        "## Part 2"
      ]
    },
    {
      "cell_type": "code",
      "metadata": {
        "id": "3-cV1TR3Qfyp"
      },
      "source": [
        "@dataclass\r\n",
        "class Nav:\r\n",
        "  wayp: Point\r\n",
        "  ship: Point\r\n",
        "\r\n"
      ],
      "execution_count": null,
      "outputs": []
    },
    {
      "cell_type": "code",
      "metadata": {
        "colab": {
          "base_uri": "https://localhost:8080/"
        },
        "id": "4iNcpHJXP70o",
        "outputId": "29ec59ea-0889-42b1-ce25-af9838baa8a7"
      },
      "source": [
        "def move(nav: Nav, act: str, num: int):\r\n",
        "  if act in 'NESW':\r\n",
        "    if act== 'N':\r\n",
        "      dir = Point(0,1)\r\n",
        "    elif act== 'S':\r\n",
        "      dir = Point(0,-1)\r\n",
        "    elif act == 'E':\r\n",
        "      dir = Point(1,0)\r\n",
        "    elif act == 'W':\r\n",
        "      dir = Point(-1,0)\r\n",
        "    return Nav(wayp=nav.wayp+num*dir,ship=nav.ship)\r\n",
        "  \r\n",
        "  elif act in 'LR':\r\n",
        "    if act == 'R':\r\n",
        "      new_wayp = nav.wayp.rot(num,-1) \r\n",
        "    elif act == 'L':\r\n",
        "      new_wayp = nav.wayp.rot(num,1)\r\n",
        "    return Nav(wayp=new_wayp,ship=nav.ship)\r\n",
        "\r\n",
        "  elif act == 'F':\r\n",
        "    return Nav(wayp=nav.wayp,ship=nav.ship+num*nav.wayp)\r\n",
        "\r\n",
        "assert move(Nav(Point(10,1),Point(0,0)),'L',0).wayp == Point(10,1)\r\n",
        "move(Nav(Point(10,1),Point(0,0)),'L',90).wayp\r\n",
        "# assert move(Nav(Point(1,10),Point(0,0)),'L',180).wayp == Point(0,-1)\r\n",
        "# assert move(Nav(Point(1,10),Point(0,0)),'L',270).wayp == Point(1,0)\r\n",
        "# test_nav = Nav(Point(1,1),Point(0,0))\r\n",
        "# assert move(Nav(Point(0,1),Point(0,0)),'R',0).wayp == Point(0,1)\r\n",
        "# assert move(Nav(Point(0,1),Point(0,0)),'R',90).wayp == Point(1,0)\r\n",
        "# assert move(Nav(Point(0,1),Point(0,0)),'R',180).wayp == Point(0,-1)\r\n",
        "# assert move(Nav(Point(0,1),Point(0,0)),'R',270).wayp == Point(-1,0)\r\n",
        "\r\n",
        "# assert move(test_nav,'N',5).wayp == Point(1,6)\r\n",
        "# assert move(test_nav,'S',5).wayp == Point(1,-4)\r\n",
        "# move(test_nav,'W',5)"
      ],
      "execution_count": null,
      "outputs": [
        {
          "output_type": "execute_result",
          "data": {
            "text/plain": [
              "Point(x=0, y=10)"
            ]
          },
          "metadata": {
            "tags": []
          },
          "execution_count": 207
        }
      ]
    },
    {
      "cell_type": "code",
      "metadata": {
        "id": "ppfsCuDPcDDm"
      },
      "source": [
        "nav0 = Nav(wayp=Point(10,1),ship=Point(0,0))\r\n",
        "nav1 =  move(nav0,'F',10)\r\n",
        "assert nav1 == Nav(wayp=Point(x=10, y=1), ship=Point(x=100, y=10))\r\n",
        "nav2 = move(nav1,'N',3)\r\n",
        "assert nav2 == Nav(wayp=Point(x=10, y=4), ship=Point(x=100, y=10))\r\n",
        "nav3 = move(nav2, 'F',7)\r\n",
        "assert nav3 == Nav(wayp=Point(x=10, y=4), ship=Point(x=170, y=38))\r\n",
        "nav4 = move(nav3, 'R', 90)\r\n",
        "assert Nav(wayp=Point(x=4, y=-10), ship=Point(x=170, y=38))\r\n",
        "assert move(nav4, 'F',11) == Nav(wayp=Point(x=4, y=-10), ship=Point(x=214, y=-72))\r\n",
        "\r\n"
      ],
      "execution_count": null,
      "outputs": []
    },
    {
      "cell_type": "code",
      "metadata": {
        "id": "IgUGz9J3eOvP"
      },
      "source": [
        "def main(inp):\r\n",
        "  nav = Nav(Point(10,1),Point(0,0))\r\n",
        "  for line in inp.split():\r\n",
        "    num = int(re.findall(r'\\d+',line)[0])\r\n",
        "    char = re.findall(r'\\b[A-Z]',line)[0]\r\n",
        "    nav = move(nav,act=char, num=num)\r\n",
        "    # print(line, nav)\r\n",
        "  return np.abs(nav.ship.x)+np.abs(nav.ship.y)"
      ],
      "execution_count": null,
      "outputs": []
    },
    {
      "cell_type": "code",
      "metadata": {
        "colab": {
          "base_uri": "https://localhost:8080/"
        },
        "id": "DsAJzBM2ehTd",
        "outputId": "9672f13e-2b66-4374-e819-3520bf1e8b8c"
      },
      "source": [
        "main(d12['day12.txt'].decode())"
      ],
      "execution_count": null,
      "outputs": [
        {
          "output_type": "execute_result",
          "data": {
            "text/plain": [
              "41212"
            ]
          },
          "metadata": {
            "tags": []
          },
          "execution_count": 216
        }
      ]
    },
    {
      "cell_type": "code",
      "metadata": {
        "id": "wStE99j6epj8"
      },
      "source": [
        "data = d12['day12.txt'].decode().split()"
      ],
      "execution_count": null,
      "outputs": []
    },
    {
      "cell_type": "code",
      "metadata": {
        "colab": {
          "base_uri": "https://localhost:8080/"
        },
        "id": "tcSusF5TgALe",
        "outputId": "be63d934-4acd-4d07-f296-ec92893fd1a5"
      },
      "source": [
        "int(0.999)"
      ],
      "execution_count": null,
      "outputs": [
        {
          "output_type": "execute_result",
          "data": {
            "text/plain": [
              "0"
            ]
          },
          "metadata": {
            "tags": []
          },
          "execution_count": 217
        }
      ]
    },
    {
      "cell_type": "markdown",
      "metadata": {
        "id": "efIFN44mEtOF"
      },
      "source": [
        "# Day 13\r\n",
        "Buses"
      ]
    },
    {
      "cell_type": "code",
      "metadata": {
        "id": "wr-9J9x6I7uj"
      },
      "source": [
        "from google.colab import files\r\n",
        "import sys"
      ],
      "execution_count": 17,
      "outputs": []
    },
    {
      "cell_type": "code",
      "metadata": {
        "id": "WOXIM9UYJBWU"
      },
      "source": [
        "test_input = \"\"\"939\r\n",
        "7,13,x,x,59,x,31,19\"\"\""
      ],
      "execution_count": 10,
      "outputs": []
    },
    {
      "cell_type": "code",
      "metadata": {
        "id": "TupvqrjNJIo7"
      },
      "source": [
        "def parse(inp):\r\n",
        "  n = inp.split('\\n')[0]\r\n",
        "  sched_list = inp.split('\\n')[1].split(',')\r\n",
        "\r\n",
        "  return n, sched_list"
      ],
      "execution_count": 30,
      "outputs": []
    },
    {
      "cell_type": "code",
      "metadata": {
        "colab": {
          "base_uri": "https://localhost:8080/"
        },
        "id": "QdATnZsUJ3pq",
        "outputId": "d1e4ff86-44da-417c-8a00-45f73ccd527b"
      },
      "source": [
        "parse(test_input)"
      ],
      "execution_count": 13,
      "outputs": [
        {
          "output_type": "execute_result",
          "data": {
            "text/plain": [
              "('939', '7,13,x,x,59,x,31,19')"
            ]
          },
          "metadata": {
            "tags": []
          },
          "execution_count": 13
        }
      ]
    },
    {
      "cell_type": "code",
      "metadata": {
        "id": "P8fGW4DTEvl8"
      },
      "source": [
        "def check(n, sched):\r\n",
        "  return sched-n%sched\r\n",
        "\r\n",
        "def main(inp):\r\n",
        "  n, sched_list = parse(inp)\r\n",
        "  n = int(n)\r\n",
        "  delay_list = []\r\n",
        "  for sched in sched_list:\r\n",
        "    if sched != 'x':\r\n",
        "      delay_list.append(check(n, int(sched)))\r\n",
        "    else:\r\n",
        "      delay_list.append(sys.maxsize)\r\n",
        "  return int(sched_list[delay_list.index(min(delay_list))])*min(delay_list)\r\n",
        "\r\n"
      ],
      "execution_count": 31,
      "outputs": []
    },
    {
      "cell_type": "code",
      "metadata": {
        "id": "LnLq6pCjMOBj"
      },
      "source": [
        "assert main(test_input) == 295"
      ],
      "execution_count": 33,
      "outputs": []
    },
    {
      "cell_type": "code",
      "metadata": {
        "colab": {
          "resources": {
            "http://localhost:8080/nbextensions/google.colab/files.js": {
              "data": "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",
              "ok": true,
              "headers": [
                [
                  "content-type",
                  "application/javascript"
                ]
              ],
              "status": 200,
              "status_text": ""
            }
          },
          "base_uri": "https://localhost:8080/",
          "height": 73
        },
        "id": "u-XeFRjpIZP2",
        "outputId": "37d7f5c7-ae02-4f39-d4b1-bce1c2b3c830"
      },
      "source": [
        "d13 = files.upload()\r\n"
      ],
      "execution_count": 34,
      "outputs": [
        {
          "output_type": "display_data",
          "data": {
            "text/html": [
              "\n",
              "     <input type=\"file\" id=\"files-0d3f449c-a64d-4cd7-bfec-06a33f7da2f3\" name=\"files[]\" multiple disabled\n",
              "        style=\"border:none\" />\n",
              "     <output id=\"result-0d3f449c-a64d-4cd7-bfec-06a33f7da2f3\">\n",
              "      Upload widget is only available when the cell has been executed in the\n",
              "      current browser session. Please rerun this cell to enable.\n",
              "      </output>\n",
              "      <script src=\"/nbextensions/google.colab/files.js\"></script> "
            ],
            "text/plain": [
              "<IPython.core.display.HTML object>"
            ]
          },
          "metadata": {
            "tags": []
          }
        },
        {
          "output_type": "stream",
          "text": [
            "Saving day13.txt to day13.txt\n"
          ],
          "name": "stdout"
        }
      ]
    },
    {
      "cell_type": "code",
      "metadata": {
        "colab": {
          "base_uri": "https://localhost:8080/"
        },
        "id": "n8iSkIDEK_Fk",
        "outputId": "51a586af-4031-4161-a87b-1c51259a3554"
      },
      "source": [
        "main(d13['day13.txt'].decode())"
      ],
      "execution_count": 35,
      "outputs": [
        {
          "output_type": "execute_result",
          "data": {
            "text/plain": [
              "222"
            ]
          },
          "metadata": {
            "tags": []
          },
          "execution_count": 35
        }
      ]
    }
  ]
}